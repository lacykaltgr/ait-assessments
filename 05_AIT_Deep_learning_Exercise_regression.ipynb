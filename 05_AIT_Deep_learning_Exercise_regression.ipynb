{
  "nbformat": 4,
  "nbformat_minor": 0,
  "metadata": {
    "kernelspec": {
      "display_name": "Python 3",
      "language": "python",
      "name": "python3"
    },
    "language_info": {
      "codemirror_mode": {
        "name": "ipython",
        "version": 3
      },
      "file_extension": ".py",
      "mimetype": "text/x-python",
      "name": "python",
      "nbconvert_exporter": "python",
      "pygments_lexer": "ipython3",
      "version": "3.6.6"
    },
    "colab": {
      "provenance": [],
      "include_colab_link": true
    }
  },
  "cells": [
    {
      "cell_type": "markdown",
      "metadata": {
        "id": "view-in-github",
        "colab_type": "text"
      },
      "source": [
        "<a href=\"https://colab.research.google.com/github/lacykaltgr/ait-assessments/blob/main/05_AIT_Deep_learning_Exercise_regression.ipynb\" target=\"_parent\"><img src=\"https://colab.research.google.com/assets/colab-badge.svg\" alt=\"Open In Colab\"/></a>"
      ]
    },
    {
      "cell_type": "markdown",
      "metadata": {
        "id": "_jiGtJu6u9ml"
      },
      "source": [
        "# Copyright\n",
        "\n",
        "<PRE>\n",
        "Copyright (c) 2023 Bálint Gyires-Tóth - All Rights Reserved\n",
        "You may use and modify this code for research and development purpuses.\n",
        "Use this code for educational purposes (self-paced or instructor led) without the permission of the author is prohibited.\n",
        "</PRE>"
      ]
    },
    {
      "cell_type": "markdown",
      "metadata": {
        "id": "oXyFC44jV-PP"
      },
      "source": [
        "\n",
        "\n",
        "# California housing prices - modeling\n",
        "In this notebook we will: \n",
        "* using California housing prices data (https://www.kaggle.com/camnugent/california-housing-prices)\n",
        "* exploring the data\n",
        "* creating a model\n",
        "* training the model\n",
        "* evaluation on test data\n",
        "* making predictions and regression plot\n",
        "\n",
        "Exercises: \n",
        "* please complete TODO parts\n"
      ]
    },
    {
      "cell_type": "code",
      "metadata": {
        "id": "jLX73EvBu9ms"
      },
      "source": [
        "import matplotlib.pyplot as plt\n",
        "import seaborn as sns\n",
        "import numpy as np\n",
        "import pandas as pd\n",
        "import matplotlib.pyplot as plt \n",
        "from sklearn import preprocessing\n",
        "from sklearn.datasets import fetch_california_housing"
      ],
      "execution_count": 1,
      "outputs": []
    },
    {
      "cell_type": "code",
      "metadata": {
        "id": "Ba-K0MyGoNay"
      },
      "source": [
        "from tensorflow.keras.models import Sequential\n",
        "from tensorflow.keras.layers import Dense, BatchNormalization\n",
        "from tensorflow.keras.initializers import HeNormal\n",
        "from tensorflow.keras.callbacks import EarlyStopping, ModelCheckpoint"
      ],
      "execution_count": 7,
      "outputs": []
    },
    {
      "cell_type": "markdown",
      "source": [],
      "metadata": {
        "id": "nVBCrrGBzmM1"
      }
    },
    {
      "cell_type": "code",
      "metadata": {
        "id": "K5uDujeqviOH"
      },
      "source": [
        "# load California Housing Prices dataset\n",
        "housing = fetch_california_housing()\n",
        "X,Y = housing['data'], housing['target']\n",
        "nb_samples = X.shape[0]"
      ],
      "execution_count": 2,
      "outputs": []
    },
    {
      "cell_type": "code",
      "source": [
        "nb_samples"
      ],
      "metadata": {
        "id": "ygO_M4KhznsZ",
        "outputId": "ee79a09f-f795-4228-b97c-b988f1890504",
        "colab": {
          "base_uri": "https://localhost:8080/"
        }
      },
      "execution_count": 3,
      "outputs": [
        {
          "output_type": "execute_result",
          "data": {
            "text/plain": [
              "20640"
            ]
          },
          "metadata": {},
          "execution_count": 3
        }
      ]
    },
    {
      "cell_type": "code",
      "source": [
        "X"
      ],
      "metadata": {
        "id": "HQpiya2R3FpF",
        "outputId": "2d2c40ef-51fb-4f0f-d575-6f0b0cab6661",
        "colab": {
          "base_uri": "https://localhost:8080/"
        }
      },
      "execution_count": 8,
      "outputs": [
        {
          "output_type": "execute_result",
          "data": {
            "text/plain": [
              "array([[   8.3252    ,   41.        ,    6.98412698, ...,    2.55555556,\n",
              "          37.88      , -122.23      ],\n",
              "       [   8.3014    ,   21.        ,    6.23813708, ...,    2.10984183,\n",
              "          37.86      , -122.22      ],\n",
              "       [   7.2574    ,   52.        ,    8.28813559, ...,    2.80225989,\n",
              "          37.85      , -122.24      ],\n",
              "       ...,\n",
              "       [   1.7       ,   17.        ,    5.20554273, ...,    2.3256351 ,\n",
              "          39.43      , -121.22      ],\n",
              "       [   1.8672    ,   18.        ,    5.32951289, ...,    2.12320917,\n",
              "          39.43      , -121.32      ],\n",
              "       [   2.3886    ,   16.        ,    5.25471698, ...,    2.61698113,\n",
              "          39.37      , -121.24      ]])"
            ]
          },
          "metadata": {},
          "execution_count": 8
        }
      ]
    },
    {
      "cell_type": "markdown",
      "metadata": {
        "id": "sS7xCTZioeIK"
      },
      "source": [
        "Splitting data into training, validation and test sets:"
      ]
    },
    {
      "cell_type": "code",
      "metadata": {
        "id": "YWUhEmcaoYeW"
      },
      "source": [
        "valid_split = 0.2\n",
        "test_split  = 0.1\n",
        "\n",
        "v_point = int(nb_samples*(1-test_split-valid_split))\n",
        "t_point = int(nb_samples*(1-test_split))\n",
        "\n",
        "X_train = X[:v_point]\n",
        "Y_train = Y[:v_point]\n",
        "X_valid = X[v_point:t_point]\n",
        "Y_valid = Y[v_point:t_point]\n",
        "X_test  = X[t_point:]\n",
        "Y_test  = Y[t_point:]"
      ],
      "execution_count": 6,
      "outputs": []
    },
    {
      "cell_type": "markdown",
      "metadata": {
        "id": "n6awn-6uogmo"
      },
      "source": [
        "Standardization of the data:"
      ]
    },
    {
      "cell_type": "code",
      "metadata": {
        "id": "XSNawE7Zob_Y"
      },
      "source": [
        "mean    = np.mean(X_train)\n",
        "std     = np.std(X_train)\n",
        "X_train = (X_train-mean)/std\n",
        "X_valid = (X_valid-mean)/std\n",
        "X_test  = (X_test-mean)/std"
      ],
      "execution_count": null,
      "outputs": []
    },
    {
      "cell_type": "code",
      "source": [
        "X_train.shape"
      ],
      "metadata": {
        "id": "t67zX_MHBq_C",
        "outputId": "b8240bc6-fb0a-4ea9-c816-cf6e9761b540",
        "colab": {
          "base_uri": "https://localhost:8080/"
        }
      },
      "execution_count": 79,
      "outputs": [
        {
          "output_type": "execute_result",
          "data": {
            "text/plain": [
              "(14447, 8)"
            ]
          },
          "metadata": {},
          "execution_count": 79
        }
      ]
    },
    {
      "cell_type": "markdown",
      "metadata": {
        "id": "MpBJFHZvu9m2"
      },
      "source": [
        "Model definition, hints:\n",
        "* one or two hidden layers and 8-64 neurons / layer\n",
        "* the hidden layers should have non-linear activation functions\n",
        "* the input and output layers' sizes are defined by the data\n",
        "* as the output is continuous, it can be a linear layer"
      ]
    },
    {
      "cell_type": "code",
      "metadata": {
        "id": "flEY3-qBorvA"
      },
      "source": [
        "model = Sequential()\n",
        "model.add(Dense(16, activation='tanh', input_shape=(X_train.shape[1],)))\n",
        "model.add(Dense(8, activation='tanh'))\n",
        "model.add(Dense(1, activation=None))"
      ],
      "execution_count": 163,
      "outputs": []
    },
    {
      "cell_type": "markdown",
      "metadata": {
        "id": "efZ6M0Yh3WlT"
      },
      "source": [
        "Inspect the model summary:"
      ]
    },
    {
      "cell_type": "code",
      "metadata": {
        "id": "LhfnanAm3X9l",
        "outputId": "a56e5bea-3a8c-4786-990b-df9161b06ff4",
        "colab": {
          "base_uri": "https://localhost:8080/"
        }
      },
      "source": [
        "model.summary()"
      ],
      "execution_count": 129,
      "outputs": [
        {
          "output_type": "stream",
          "name": "stdout",
          "text": [
            "Model: \"sequential_25\"\n",
            "_________________________________________________________________\n",
            " Layer (type)                Output Shape              Param #   \n",
            "=================================================================\n",
            " dense_58 (Dense)            (None, 32)                288       \n",
            "                                                                 \n",
            " dense_59 (Dense)            (None, 8)                 264       \n",
            "                                                                 \n",
            " dense_60 (Dense)            (None, 1)                 9         \n",
            "                                                                 \n",
            "=================================================================\n",
            "Total params: 561\n",
            "Trainable params: 561\n",
            "Non-trainable params: 0\n",
            "_________________________________________________________________\n"
          ]
        }
      ]
    },
    {
      "cell_type": "markdown",
      "metadata": {
        "id": "h3hCd6Cf3ZS1"
      },
      "source": [
        "Number of trainable parameters in the model: TODO"
      ]
    },
    {
      "cell_type": "markdown",
      "metadata": {
        "id": "ibjhW3pAoveO"
      },
      "source": [
        "Compiling the model, hints:\n",
        "* the loss function has to match the task (regession)\n",
        "* you should try ADAM and/or SGD optimizer"
      ]
    },
    {
      "cell_type": "code",
      "metadata": {
        "id": "ztxln4VUow5q"
      },
      "source": [
        "model.compile(loss='mean_squared_error', optimizer='adam')"
      ],
      "execution_count": 164,
      "outputs": []
    },
    {
      "cell_type": "markdown",
      "metadata": {
        "id": "zfmN2ROJo4xq"
      },
      "source": [
        "Defining the earlystopping callback function:"
      ]
    },
    {
      "cell_type": "code",
      "metadata": {
        "id": "fhQMRIhio3Js"
      },
      "source": [
        "es = EarlyStopping(monitor='loss', patience=20)"
      ],
      "execution_count": 149,
      "outputs": []
    },
    {
      "cell_type": "markdown",
      "metadata": {
        "id": "JqJNQCtB2k08"
      },
      "source": [
        "Train the model, use training and validation data and apply early stopping:"
      ]
    },
    {
      "cell_type": "code",
      "metadata": {
        "id": "oWDGwe862kQj",
        "outputId": "9f8ded34-1d77-4665-fa5d-b0c8a54c3055",
        "colab": {
          "base_uri": "https://localhost:8080/"
        }
      },
      "source": [
        "model.fit(X_train, Y_train, \n",
        "          validation_data=(X_valid,Y_valid),\n",
        "          batch_size=512,                             \n",
        "          epochs=300, \n",
        "          verbose=1, \n",
        "          callbacks=[es])"
      ],
      "execution_count": 165,
      "outputs": [
        {
          "output_type": "stream",
          "name": "stdout",
          "text": [
            "Epoch 1/300\n",
            "29/29 [==============================] - 1s 7ms/step - loss: 2.6582 - val_loss: 2.5804\n",
            "Epoch 2/300\n",
            "29/29 [==============================] - 0s 3ms/step - loss: 1.4388 - val_loss: 1.9072\n",
            "Epoch 3/300\n",
            "29/29 [==============================] - 0s 3ms/step - loss: 1.3599 - val_loss: 1.9298\n",
            "Epoch 4/300\n",
            "29/29 [==============================] - 0s 4ms/step - loss: 1.3228 - val_loss: 1.8973\n",
            "Epoch 5/300\n",
            "29/29 [==============================] - 0s 3ms/step - loss: 1.3006 - val_loss: 1.8741\n",
            "Epoch 6/300\n",
            "29/29 [==============================] - 0s 3ms/step - loss: 1.2890 - val_loss: 1.8553\n",
            "Epoch 7/300\n",
            "29/29 [==============================] - 0s 3ms/step - loss: 1.2823 - val_loss: 1.8574\n",
            "Epoch 8/300\n",
            "29/29 [==============================] - 0s 3ms/step - loss: 1.2774 - val_loss: 1.8430\n",
            "Epoch 9/300\n",
            "29/29 [==============================] - 0s 4ms/step - loss: 1.2731 - val_loss: 1.8231\n",
            "Epoch 10/300\n",
            "29/29 [==============================] - 0s 4ms/step - loss: 1.2698 - val_loss: 1.8408\n",
            "Epoch 11/300\n",
            "29/29 [==============================] - 0s 3ms/step - loss: 1.2675 - val_loss: 1.8238\n",
            "Epoch 12/300\n",
            "29/29 [==============================] - 0s 3ms/step - loss: 1.2658 - val_loss: 1.8431\n",
            "Epoch 13/300\n",
            "29/29 [==============================] - 0s 3ms/step - loss: 1.2641 - val_loss: 1.8275\n",
            "Epoch 14/300\n",
            "29/29 [==============================] - 0s 4ms/step - loss: 1.2632 - val_loss: 1.7957\n",
            "Epoch 15/300\n",
            "29/29 [==============================] - 0s 4ms/step - loss: 1.2631 - val_loss: 1.8059\n",
            "Epoch 16/300\n",
            "29/29 [==============================] - 0s 3ms/step - loss: 1.2622 - val_loss: 1.8698\n",
            "Epoch 17/300\n",
            "29/29 [==============================] - 0s 3ms/step - loss: 1.2613 - val_loss: 1.8008\n",
            "Epoch 18/300\n",
            "29/29 [==============================] - 0s 3ms/step - loss: 1.2608 - val_loss: 1.8083\n",
            "Epoch 19/300\n",
            "29/29 [==============================] - 0s 3ms/step - loss: 1.2600 - val_loss: 1.8163\n",
            "Epoch 20/300\n",
            "29/29 [==============================] - 0s 3ms/step - loss: 1.2601 - val_loss: 1.8106\n",
            "Epoch 21/300\n",
            "29/29 [==============================] - 0s 3ms/step - loss: 1.2600 - val_loss: 1.8290\n",
            "Epoch 22/300\n",
            "29/29 [==============================] - 0s 3ms/step - loss: 1.2596 - val_loss: 1.8067\n",
            "Epoch 23/300\n",
            "29/29 [==============================] - 0s 3ms/step - loss: 1.2593 - val_loss: 1.7985\n",
            "Epoch 24/300\n",
            "29/29 [==============================] - 0s 3ms/step - loss: 1.2593 - val_loss: 1.8431\n",
            "Epoch 25/300\n",
            "29/29 [==============================] - 0s 4ms/step - loss: 1.2590 - val_loss: 1.7874\n",
            "Epoch 26/300\n",
            "29/29 [==============================] - 0s 3ms/step - loss: 1.2587 - val_loss: 1.8408\n",
            "Epoch 27/300\n",
            "29/29 [==============================] - 0s 3ms/step - loss: 1.2592 - val_loss: 1.7988\n",
            "Epoch 28/300\n",
            "29/29 [==============================] - 0s 3ms/step - loss: 1.2586 - val_loss: 1.8046\n",
            "Epoch 29/300\n",
            "29/29 [==============================] - 0s 3ms/step - loss: 1.2583 - val_loss: 1.8310\n",
            "Epoch 30/300\n",
            "29/29 [==============================] - 0s 3ms/step - loss: 1.2586 - val_loss: 1.7979\n",
            "Epoch 31/300\n",
            "29/29 [==============================] - 0s 3ms/step - loss: 1.2585 - val_loss: 1.8342\n",
            "Epoch 32/300\n",
            "29/29 [==============================] - 0s 3ms/step - loss: 1.2585 - val_loss: 1.8143\n",
            "Epoch 33/300\n",
            "29/29 [==============================] - 0s 3ms/step - loss: 1.2583 - val_loss: 1.8089\n",
            "Epoch 34/300\n",
            "29/29 [==============================] - 0s 3ms/step - loss: 1.2581 - val_loss: 1.7846\n",
            "Epoch 35/300\n",
            "29/29 [==============================] - 0s 3ms/step - loss: 1.2586 - val_loss: 1.7925\n",
            "Epoch 36/300\n",
            "29/29 [==============================] - 0s 3ms/step - loss: 1.2585 - val_loss: 1.8484\n",
            "Epoch 37/300\n",
            "29/29 [==============================] - 0s 3ms/step - loss: 1.2592 - val_loss: 1.8155\n",
            "Epoch 38/300\n",
            "29/29 [==============================] - 0s 3ms/step - loss: 1.2582 - val_loss: 1.8154\n",
            "Epoch 39/300\n",
            "29/29 [==============================] - 0s 3ms/step - loss: 1.2590 - val_loss: 1.7822\n",
            "Epoch 40/300\n",
            "29/29 [==============================] - 0s 3ms/step - loss: 1.2585 - val_loss: 1.7860\n",
            "Epoch 41/300\n",
            "29/29 [==============================] - 0s 3ms/step - loss: 1.2588 - val_loss: 1.7658\n",
            "Epoch 42/300\n",
            "29/29 [==============================] - 0s 3ms/step - loss: 1.2581 - val_loss: 1.8053\n",
            "Epoch 43/300\n",
            "29/29 [==============================] - 0s 3ms/step - loss: 1.2583 - val_loss: 1.7907\n",
            "Epoch 44/300\n",
            "29/29 [==============================] - 0s 3ms/step - loss: 1.2581 - val_loss: 1.7788\n",
            "Epoch 45/300\n",
            "29/29 [==============================] - 0s 3ms/step - loss: 1.2581 - val_loss: 1.8053\n",
            "Epoch 46/300\n",
            "29/29 [==============================] - 0s 3ms/step - loss: 1.2580 - val_loss: 1.8106\n",
            "Epoch 47/300\n",
            "29/29 [==============================] - 0s 3ms/step - loss: 1.2582 - val_loss: 1.7970\n",
            "Epoch 48/300\n",
            "29/29 [==============================] - 0s 4ms/step - loss: 1.2584 - val_loss: 1.8499\n",
            "Epoch 49/300\n",
            "29/29 [==============================] - 0s 3ms/step - loss: 1.2584 - val_loss: 1.8027\n",
            "Epoch 50/300\n",
            "29/29 [==============================] - 0s 4ms/step - loss: 1.2579 - val_loss: 1.8048\n",
            "Epoch 51/300\n",
            "29/29 [==============================] - 0s 3ms/step - loss: 1.2586 - val_loss: 1.7858\n",
            "Epoch 52/300\n",
            "29/29 [==============================] - 0s 4ms/step - loss: 1.2579 - val_loss: 1.8047\n",
            "Epoch 53/300\n",
            "29/29 [==============================] - 0s 3ms/step - loss: 1.2578 - val_loss: 1.8079\n",
            "Epoch 54/300\n",
            "29/29 [==============================] - 0s 4ms/step - loss: 1.2582 - val_loss: 1.8003\n",
            "Epoch 55/300\n",
            "29/29 [==============================] - 0s 4ms/step - loss: 1.2583 - val_loss: 1.7982\n",
            "Epoch 56/300\n",
            "29/29 [==============================] - 0s 4ms/step - loss: 1.2580 - val_loss: 1.7985\n",
            "Epoch 57/300\n",
            "29/29 [==============================] - 0s 3ms/step - loss: 1.2583 - val_loss: 1.7689\n",
            "Epoch 58/300\n",
            "29/29 [==============================] - 0s 4ms/step - loss: 1.2585 - val_loss: 1.8470\n",
            "Epoch 59/300\n",
            "29/29 [==============================] - 0s 3ms/step - loss: 1.2583 - val_loss: 1.8153\n",
            "Epoch 60/300\n",
            "29/29 [==============================] - 0s 3ms/step - loss: 1.2584 - val_loss: 1.8599\n",
            "Epoch 61/300\n",
            "29/29 [==============================] - 0s 3ms/step - loss: 1.2580 - val_loss: 1.8045\n",
            "Epoch 62/300\n",
            "29/29 [==============================] - 0s 3ms/step - loss: 1.2581 - val_loss: 1.7865\n",
            "Epoch 63/300\n",
            "29/29 [==============================] - 0s 3ms/step - loss: 1.2578 - val_loss: 1.8071\n",
            "Epoch 64/300\n",
            "29/29 [==============================] - 0s 3ms/step - loss: 1.2576 - val_loss: 1.8093\n",
            "Epoch 65/300\n",
            "29/29 [==============================] - 0s 3ms/step - loss: 1.2576 - val_loss: 1.8059\n",
            "Epoch 66/300\n",
            "29/29 [==============================] - 0s 3ms/step - loss: 1.2572 - val_loss: 1.8403\n",
            "Epoch 67/300\n",
            "29/29 [==============================] - 0s 3ms/step - loss: 1.2572 - val_loss: 1.8468\n",
            "Epoch 68/300\n",
            "29/29 [==============================] - 0s 3ms/step - loss: 1.2570 - val_loss: 1.7737\n",
            "Epoch 69/300\n",
            "29/29 [==============================] - 0s 3ms/step - loss: 1.2575 - val_loss: 1.7664\n",
            "Epoch 70/300\n",
            "29/29 [==============================] - 0s 3ms/step - loss: 1.2572 - val_loss: 1.8073\n",
            "Epoch 71/300\n",
            "29/29 [==============================] - 0s 3ms/step - loss: 1.2567 - val_loss: 1.8159\n",
            "Epoch 72/300\n",
            "29/29 [==============================] - 0s 3ms/step - loss: 1.2564 - val_loss: 1.8438\n",
            "Epoch 73/300\n",
            "29/29 [==============================] - 0s 3ms/step - loss: 1.2565 - val_loss: 1.7651\n",
            "Epoch 74/300\n",
            "29/29 [==============================] - 0s 3ms/step - loss: 1.2574 - val_loss: 1.8070\n",
            "Epoch 75/300\n",
            "29/29 [==============================] - 0s 3ms/step - loss: 1.2565 - val_loss: 1.8056\n",
            "Epoch 76/300\n",
            "29/29 [==============================] - 0s 3ms/step - loss: 1.2561 - val_loss: 1.8132\n",
            "Epoch 77/300\n",
            "29/29 [==============================] - 0s 4ms/step - loss: 1.2559 - val_loss: 1.8400\n",
            "Epoch 78/300\n",
            "29/29 [==============================] - 0s 3ms/step - loss: 1.2563 - val_loss: 1.7948\n",
            "Epoch 79/300\n",
            "29/29 [==============================] - 0s 3ms/step - loss: 1.2564 - val_loss: 1.8271\n",
            "Epoch 80/300\n",
            "29/29 [==============================] - 0s 3ms/step - loss: 1.2561 - val_loss: 1.7798\n",
            "Epoch 81/300\n",
            "29/29 [==============================] - 0s 3ms/step - loss: 1.2567 - val_loss: 1.8153\n",
            "Epoch 82/300\n",
            "29/29 [==============================] - 0s 3ms/step - loss: 1.2568 - val_loss: 1.7613\n",
            "Epoch 83/300\n",
            "29/29 [==============================] - 0s 3ms/step - loss: 1.2568 - val_loss: 1.7791\n",
            "Epoch 84/300\n",
            "29/29 [==============================] - 0s 4ms/step - loss: 1.2556 - val_loss: 1.8272\n",
            "Epoch 85/300\n",
            "29/29 [==============================] - 0s 3ms/step - loss: 1.2555 - val_loss: 1.7956\n",
            "Epoch 86/300\n",
            "29/29 [==============================] - 0s 3ms/step - loss: 1.2556 - val_loss: 1.8557\n",
            "Epoch 87/300\n",
            "29/29 [==============================] - 0s 3ms/step - loss: 1.2566 - val_loss: 1.7609\n",
            "Epoch 88/300\n",
            "29/29 [==============================] - 0s 5ms/step - loss: 1.2559 - val_loss: 1.8269\n",
            "Epoch 89/300\n",
            "29/29 [==============================] - 0s 5ms/step - loss: 1.2554 - val_loss: 1.7847\n",
            "Epoch 90/300\n",
            "29/29 [==============================] - 0s 5ms/step - loss: 1.2551 - val_loss: 1.8322\n",
            "Epoch 91/300\n",
            "29/29 [==============================] - 0s 5ms/step - loss: 1.2559 - val_loss: 1.8373\n",
            "Epoch 92/300\n",
            "29/29 [==============================] - 0s 4ms/step - loss: 1.2551 - val_loss: 1.7983\n",
            "Epoch 93/300\n",
            "29/29 [==============================] - 0s 6ms/step - loss: 1.2547 - val_loss: 1.8284\n",
            "Epoch 94/300\n",
            "29/29 [==============================] - 0s 5ms/step - loss: 1.2554 - val_loss: 1.8728\n",
            "Epoch 95/300\n",
            "29/29 [==============================] - 0s 4ms/step - loss: 1.2550 - val_loss: 1.8057\n",
            "Epoch 96/300\n",
            "29/29 [==============================] - 0s 4ms/step - loss: 1.2553 - val_loss: 1.8139\n",
            "Epoch 97/300\n",
            "29/29 [==============================] - 0s 4ms/step - loss: 1.2545 - val_loss: 1.7963\n",
            "Epoch 98/300\n",
            "29/29 [==============================] - 0s 5ms/step - loss: 1.2548 - val_loss: 1.8106\n",
            "Epoch 99/300\n",
            "29/29 [==============================] - 0s 4ms/step - loss: 1.2546 - val_loss: 1.7986\n",
            "Epoch 100/300\n",
            "29/29 [==============================] - 0s 7ms/step - loss: 1.2550 - val_loss: 1.7737\n",
            "Epoch 101/300\n",
            "29/29 [==============================] - 0s 5ms/step - loss: 1.2544 - val_loss: 1.7966\n",
            "Epoch 102/300\n",
            "29/29 [==============================] - 0s 5ms/step - loss: 1.2543 - val_loss: 1.8463\n",
            "Epoch 103/300\n",
            "29/29 [==============================] - 0s 4ms/step - loss: 1.2541 - val_loss: 1.7729\n",
            "Epoch 104/300\n",
            "29/29 [==============================] - 0s 5ms/step - loss: 1.2537 - val_loss: 1.8265\n",
            "Epoch 105/300\n",
            "29/29 [==============================] - 0s 4ms/step - loss: 1.2546 - val_loss: 1.7762\n",
            "Epoch 106/300\n",
            "29/29 [==============================] - 0s 5ms/step - loss: 1.2535 - val_loss: 1.7616\n",
            "Epoch 107/300\n",
            "29/29 [==============================] - 0s 3ms/step - loss: 1.2522 - val_loss: 1.8092\n",
            "Epoch 108/300\n",
            "29/29 [==============================] - 0s 3ms/step - loss: 1.2528 - val_loss: 1.7980\n",
            "Epoch 109/300\n",
            "29/29 [==============================] - 0s 4ms/step - loss: 1.2513 - val_loss: 1.7552\n",
            "Epoch 110/300\n",
            "29/29 [==============================] - 0s 3ms/step - loss: 1.2506 - val_loss: 1.8479\n",
            "Epoch 111/300\n",
            "29/29 [==============================] - 0s 3ms/step - loss: 1.2561 - val_loss: 1.8421\n",
            "Epoch 112/300\n",
            "29/29 [==============================] - 0s 3ms/step - loss: 1.2504 - val_loss: 1.8273\n",
            "Epoch 113/300\n",
            "29/29 [==============================] - 0s 3ms/step - loss: 1.2492 - val_loss: 1.7698\n",
            "Epoch 114/300\n",
            "29/29 [==============================] - 0s 3ms/step - loss: 1.2483 - val_loss: 1.7612\n",
            "Epoch 115/300\n",
            "29/29 [==============================] - 0s 3ms/step - loss: 1.2331 - val_loss: 1.9338\n",
            "Epoch 116/300\n",
            "29/29 [==============================] - 0s 3ms/step - loss: 1.1809 - val_loss: 1.6044\n",
            "Epoch 117/300\n",
            "29/29 [==============================] - 0s 3ms/step - loss: 1.0583 - val_loss: 1.6762\n",
            "Epoch 118/300\n",
            "29/29 [==============================] - 0s 4ms/step - loss: 0.9064 - val_loss: 1.3016\n",
            "Epoch 119/300\n",
            "29/29 [==============================] - 0s 3ms/step - loss: 0.7853 - val_loss: 1.5559\n",
            "Epoch 120/300\n",
            "29/29 [==============================] - 0s 3ms/step - loss: 0.7749 - val_loss: 1.2703\n",
            "Epoch 121/300\n",
            "29/29 [==============================] - 0s 3ms/step - loss: 0.6903 - val_loss: 1.4571\n",
            "Epoch 122/300\n",
            "29/29 [==============================] - 0s 3ms/step - loss: 0.6479 - val_loss: 1.1318\n",
            "Epoch 123/300\n",
            "29/29 [==============================] - 0s 3ms/step - loss: 0.6261 - val_loss: 1.1112\n",
            "Epoch 124/300\n",
            "29/29 [==============================] - 0s 4ms/step - loss: 0.5959 - val_loss: 0.9659\n",
            "Epoch 125/300\n",
            "29/29 [==============================] - 0s 3ms/step - loss: 0.5919 - val_loss: 1.1071\n",
            "Epoch 126/300\n",
            "29/29 [==============================] - 0s 3ms/step - loss: 0.5844 - val_loss: 0.9535\n",
            "Epoch 127/300\n",
            "29/29 [==============================] - 0s 3ms/step - loss: 0.5724 - val_loss: 1.0450\n",
            "Epoch 128/300\n",
            "29/29 [==============================] - 0s 4ms/step - loss: 0.5829 - val_loss: 1.0613\n",
            "Epoch 129/300\n",
            "29/29 [==============================] - 0s 3ms/step - loss: 0.5953 - val_loss: 1.2036\n",
            "Epoch 130/300\n",
            "29/29 [==============================] - 0s 4ms/step - loss: 0.5804 - val_loss: 0.8992\n",
            "Epoch 131/300\n",
            "29/29 [==============================] - 0s 3ms/step - loss: 0.5849 - val_loss: 0.9392\n",
            "Epoch 132/300\n",
            "29/29 [==============================] - 0s 3ms/step - loss: 0.5622 - val_loss: 0.9604\n",
            "Epoch 133/300\n",
            "29/29 [==============================] - 0s 3ms/step - loss: 0.5365 - val_loss: 1.0203\n",
            "Epoch 134/300\n",
            "29/29 [==============================] - 0s 3ms/step - loss: 0.5338 - val_loss: 1.0566\n",
            "Epoch 135/300\n",
            "29/29 [==============================] - 0s 3ms/step - loss: 0.5359 - val_loss: 1.0032\n",
            "Epoch 136/300\n",
            "29/29 [==============================] - 0s 3ms/step - loss: 0.5242 - val_loss: 0.9069\n",
            "Epoch 137/300\n",
            "29/29 [==============================] - 0s 3ms/step - loss: 0.5336 - val_loss: 1.0686\n",
            "Epoch 138/300\n",
            "29/29 [==============================] - 0s 3ms/step - loss: 0.5261 - val_loss: 0.8587\n",
            "Epoch 139/300\n",
            "29/29 [==============================] - 0s 3ms/step - loss: 0.5334 - val_loss: 0.9025\n",
            "Epoch 140/300\n",
            "29/29 [==============================] - 0s 3ms/step - loss: 0.5460 - val_loss: 0.9428\n",
            "Epoch 141/300\n",
            "29/29 [==============================] - 0s 3ms/step - loss: 0.5385 - val_loss: 1.0364\n",
            "Epoch 142/300\n",
            "29/29 [==============================] - 0s 3ms/step - loss: 0.5274 - val_loss: 0.9403\n",
            "Epoch 143/300\n",
            "29/29 [==============================] - 0s 3ms/step - loss: 0.5374 - val_loss: 1.1637\n",
            "Epoch 144/300\n",
            "29/29 [==============================] - 0s 3ms/step - loss: 0.5384 - val_loss: 1.0781\n",
            "Epoch 145/300\n",
            "29/29 [==============================] - 0s 3ms/step - loss: 0.5054 - val_loss: 1.0181\n",
            "Epoch 146/300\n",
            "29/29 [==============================] - 0s 4ms/step - loss: 0.5316 - val_loss: 0.9304\n",
            "Epoch 147/300\n",
            "29/29 [==============================] - 0s 4ms/step - loss: 0.5136 - val_loss: 0.9357\n",
            "Epoch 148/300\n",
            "29/29 [==============================] - 0s 3ms/step - loss: 0.5048 - val_loss: 1.0818\n",
            "Epoch 149/300\n",
            "29/29 [==============================] - 0s 3ms/step - loss: 0.5066 - val_loss: 0.9893\n",
            "Epoch 150/300\n",
            "29/29 [==============================] - 0s 3ms/step - loss: 0.5120 - val_loss: 1.0575\n",
            "Epoch 151/300\n",
            "29/29 [==============================] - 0s 3ms/step - loss: 0.5079 - val_loss: 0.9992\n",
            "Epoch 152/300\n",
            "29/29 [==============================] - 0s 3ms/step - loss: 0.4978 - val_loss: 0.8999\n",
            "Epoch 153/300\n",
            "29/29 [==============================] - 0s 3ms/step - loss: 0.4985 - val_loss: 0.9123\n",
            "Epoch 154/300\n",
            "29/29 [==============================] - 0s 3ms/step - loss: 0.4912 - val_loss: 1.0117\n",
            "Epoch 155/300\n",
            "29/29 [==============================] - 0s 3ms/step - loss: 0.4924 - val_loss: 0.8729\n",
            "Epoch 156/300\n",
            "29/29 [==============================] - 0s 4ms/step - loss: 0.5027 - val_loss: 0.9439\n",
            "Epoch 157/300\n",
            "29/29 [==============================] - 0s 4ms/step - loss: 0.4894 - val_loss: 0.9592\n",
            "Epoch 158/300\n",
            "29/29 [==============================] - 0s 3ms/step - loss: 0.4917 - val_loss: 0.9115\n",
            "Epoch 159/300\n",
            "29/29 [==============================] - 0s 3ms/step - loss: 0.4891 - val_loss: 1.1520\n",
            "Epoch 160/300\n",
            "29/29 [==============================] - 0s 3ms/step - loss: 0.5182 - val_loss: 0.8513\n",
            "Epoch 161/300\n",
            "29/29 [==============================] - 0s 3ms/step - loss: 0.5160 - val_loss: 0.8821\n",
            "Epoch 162/300\n",
            "29/29 [==============================] - 0s 3ms/step - loss: 0.4869 - val_loss: 1.0285\n",
            "Epoch 163/300\n",
            "29/29 [==============================] - 0s 3ms/step - loss: 0.5061 - val_loss: 0.8700\n",
            "Epoch 164/300\n",
            "29/29 [==============================] - 0s 3ms/step - loss: 0.4892 - val_loss: 0.9440\n",
            "Epoch 165/300\n",
            "29/29 [==============================] - 0s 3ms/step - loss: 0.4794 - val_loss: 0.9260\n",
            "Epoch 166/300\n",
            "29/29 [==============================] - 0s 3ms/step - loss: 0.4851 - val_loss: 0.8928\n",
            "Epoch 167/300\n",
            "29/29 [==============================] - 0s 3ms/step - loss: 0.4905 - val_loss: 0.9867\n",
            "Epoch 168/300\n",
            "29/29 [==============================] - 0s 4ms/step - loss: 0.4765 - val_loss: 0.8915\n",
            "Epoch 169/300\n",
            "29/29 [==============================] - 0s 3ms/step - loss: 0.4791 - val_loss: 1.2214\n",
            "Epoch 170/300\n",
            "29/29 [==============================] - 0s 3ms/step - loss: 0.5261 - val_loss: 1.2138\n",
            "Epoch 171/300\n",
            "29/29 [==============================] - 0s 3ms/step - loss: 0.5111 - val_loss: 1.0321\n",
            "Epoch 172/300\n",
            "29/29 [==============================] - 0s 3ms/step - loss: 0.4775 - val_loss: 0.9323\n",
            "Epoch 173/300\n",
            "29/29 [==============================] - 0s 3ms/step - loss: 0.4851 - val_loss: 0.9411\n",
            "Epoch 174/300\n",
            "29/29 [==============================] - 0s 3ms/step - loss: 0.4810 - val_loss: 1.0234\n",
            "Epoch 175/300\n",
            "29/29 [==============================] - 0s 3ms/step - loss: 0.4742 - val_loss: 1.0994\n",
            "Epoch 176/300\n",
            "29/29 [==============================] - 0s 4ms/step - loss: 0.4760 - val_loss: 0.9043\n",
            "Epoch 177/300\n",
            "29/29 [==============================] - 0s 3ms/step - loss: 0.4705 - val_loss: 1.0282\n",
            "Epoch 178/300\n",
            "29/29 [==============================] - 0s 4ms/step - loss: 0.4833 - val_loss: 0.9615\n",
            "Epoch 179/300\n",
            "29/29 [==============================] - 0s 3ms/step - loss: 0.4726 - val_loss: 0.9866\n",
            "Epoch 180/300\n",
            "29/29 [==============================] - 0s 3ms/step - loss: 0.4706 - val_loss: 0.9450\n",
            "Epoch 181/300\n",
            "29/29 [==============================] - 0s 3ms/step - loss: 0.4787 - val_loss: 0.8448\n",
            "Epoch 182/300\n",
            "29/29 [==============================] - 0s 3ms/step - loss: 0.4800 - val_loss: 0.8882\n",
            "Epoch 183/300\n",
            "29/29 [==============================] - 0s 3ms/step - loss: 0.4761 - val_loss: 0.9222\n",
            "Epoch 184/300\n",
            "29/29 [==============================] - 0s 3ms/step - loss: 0.4717 - val_loss: 0.9719\n",
            "Epoch 185/300\n",
            "29/29 [==============================] - 0s 3ms/step - loss: 0.4692 - val_loss: 1.0422\n",
            "Epoch 186/300\n",
            "29/29 [==============================] - 0s 3ms/step - loss: 0.4749 - val_loss: 0.9635\n",
            "Epoch 187/300\n",
            "29/29 [==============================] - 0s 3ms/step - loss: 0.4656 - val_loss: 0.9393\n",
            "Epoch 188/300\n",
            "29/29 [==============================] - 0s 4ms/step - loss: 0.4682 - val_loss: 0.8273\n",
            "Epoch 189/300\n",
            "29/29 [==============================] - 0s 3ms/step - loss: 0.4675 - val_loss: 1.0236\n",
            "Epoch 190/300\n",
            "29/29 [==============================] - 0s 3ms/step - loss: 0.4688 - val_loss: 0.8678\n",
            "Epoch 191/300\n",
            "29/29 [==============================] - 0s 3ms/step - loss: 0.4603 - val_loss: 1.0254\n",
            "Epoch 192/300\n",
            "29/29 [==============================] - 0s 3ms/step - loss: 0.4795 - val_loss: 1.0122\n",
            "Epoch 193/300\n",
            "29/29 [==============================] - 0s 3ms/step - loss: 0.4919 - val_loss: 0.8030\n",
            "Epoch 194/300\n",
            "29/29 [==============================] - 0s 3ms/step - loss: 0.4651 - val_loss: 0.9128\n",
            "Epoch 195/300\n",
            "29/29 [==============================] - 0s 3ms/step - loss: 0.4786 - val_loss: 0.9883\n",
            "Epoch 196/300\n",
            "29/29 [==============================] - 0s 3ms/step - loss: 0.4612 - val_loss: 0.8283\n",
            "Epoch 197/300\n",
            "29/29 [==============================] - 0s 3ms/step - loss: 0.4671 - val_loss: 0.9899\n",
            "Epoch 198/300\n",
            "29/29 [==============================] - 0s 3ms/step - loss: 0.4599 - val_loss: 0.8396\n",
            "Epoch 199/300\n",
            "29/29 [==============================] - 0s 3ms/step - loss: 0.5075 - val_loss: 0.9925\n",
            "Epoch 200/300\n",
            "29/29 [==============================] - 0s 4ms/step - loss: 0.4834 - val_loss: 1.3614\n",
            "Epoch 201/300\n",
            "29/29 [==============================] - 0s 3ms/step - loss: 0.4876 - val_loss: 0.9100\n",
            "Epoch 202/300\n",
            "29/29 [==============================] - 0s 3ms/step - loss: 0.4642 - val_loss: 1.0211\n",
            "Epoch 203/300\n",
            "29/29 [==============================] - 0s 3ms/step - loss: 0.4628 - val_loss: 0.8557\n",
            "Epoch 204/300\n",
            "29/29 [==============================] - 0s 6ms/step - loss: 0.4625 - val_loss: 0.8531\n",
            "Epoch 205/300\n",
            "29/29 [==============================] - 0s 5ms/step - loss: 0.4601 - val_loss: 0.8867\n",
            "Epoch 206/300\n",
            "29/29 [==============================] - 0s 5ms/step - loss: 0.4563 - val_loss: 0.9944\n",
            "Epoch 207/300\n",
            "29/29 [==============================] - 0s 5ms/step - loss: 0.4668 - val_loss: 0.8437\n",
            "Epoch 208/300\n",
            "29/29 [==============================] - 0s 5ms/step - loss: 0.4717 - val_loss: 0.8730\n",
            "Epoch 209/300\n",
            "29/29 [==============================] - 0s 5ms/step - loss: 0.4627 - val_loss: 0.9443\n",
            "Epoch 210/300\n",
            "29/29 [==============================] - 0s 4ms/step - loss: 0.4556 - val_loss: 1.1043\n",
            "Epoch 211/300\n",
            "29/29 [==============================] - 0s 5ms/step - loss: 0.4640 - val_loss: 0.8333\n",
            "Epoch 212/300\n",
            "29/29 [==============================] - 0s 5ms/step - loss: 0.4593 - val_loss: 0.9738\n",
            "Epoch 213/300\n",
            "29/29 [==============================] - 0s 6ms/step - loss: 0.4776 - val_loss: 0.8696\n",
            "Epoch 214/300\n",
            "29/29 [==============================] - 0s 7ms/step - loss: 0.4541 - val_loss: 0.8401\n",
            "Epoch 215/300\n",
            "29/29 [==============================] - 0s 4ms/step - loss: 0.4824 - val_loss: 0.8533\n",
            "Epoch 216/300\n",
            "29/29 [==============================] - 0s 4ms/step - loss: 0.4643 - val_loss: 1.2048\n",
            "Epoch 217/300\n",
            "29/29 [==============================] - 0s 4ms/step - loss: 0.4628 - val_loss: 0.8606\n",
            "Epoch 218/300\n",
            "29/29 [==============================] - 0s 4ms/step - loss: 0.4541 - val_loss: 0.8001\n",
            "Epoch 219/300\n",
            "29/29 [==============================] - 0s 5ms/step - loss: 0.4580 - val_loss: 0.9560\n",
            "Epoch 220/300\n",
            "29/29 [==============================] - 0s 5ms/step - loss: 0.4631 - val_loss: 0.7947\n",
            "Epoch 221/300\n",
            "29/29 [==============================] - 0s 5ms/step - loss: 0.4667 - val_loss: 0.8845\n",
            "Epoch 222/300\n",
            "29/29 [==============================] - 0s 5ms/step - loss: 0.4485 - val_loss: 1.0851\n",
            "Epoch 223/300\n",
            "29/29 [==============================] - 0s 4ms/step - loss: 0.4686 - val_loss: 1.0837\n",
            "Epoch 224/300\n",
            "29/29 [==============================] - 0s 4ms/step - loss: 0.4558 - val_loss: 0.8859\n",
            "Epoch 225/300\n",
            "29/29 [==============================] - 0s 3ms/step - loss: 0.4520 - val_loss: 0.8287\n",
            "Epoch 226/300\n",
            "29/29 [==============================] - 0s 4ms/step - loss: 0.4599 - val_loss: 0.8079\n",
            "Epoch 227/300\n",
            "29/29 [==============================] - 0s 4ms/step - loss: 0.4644 - val_loss: 0.9824\n",
            "Epoch 228/300\n",
            "29/29 [==============================] - 0s 3ms/step - loss: 0.4751 - val_loss: 0.9104\n",
            "Epoch 229/300\n",
            "29/29 [==============================] - 0s 3ms/step - loss: 0.4589 - val_loss: 0.9982\n",
            "Epoch 230/300\n",
            "29/29 [==============================] - 0s 4ms/step - loss: 0.4504 - val_loss: 0.8685\n",
            "Epoch 231/300\n",
            "29/29 [==============================] - 0s 3ms/step - loss: 0.4686 - val_loss: 0.9446\n",
            "Epoch 232/300\n",
            "29/29 [==============================] - 0s 4ms/step - loss: 0.4508 - val_loss: 0.8529\n",
            "Epoch 233/300\n",
            "29/29 [==============================] - 0s 4ms/step - loss: 0.4536 - val_loss: 0.8098\n",
            "Epoch 234/300\n",
            "29/29 [==============================] - 0s 3ms/step - loss: 0.4732 - val_loss: 1.1048\n",
            "Epoch 235/300\n",
            "29/29 [==============================] - 0s 3ms/step - loss: 0.4633 - val_loss: 0.7966\n",
            "Epoch 236/300\n",
            "29/29 [==============================] - 0s 3ms/step - loss: 0.4611 - val_loss: 0.9412\n",
            "Epoch 237/300\n",
            "29/29 [==============================] - 0s 4ms/step - loss: 0.4471 - val_loss: 0.9591\n",
            "Epoch 238/300\n",
            "29/29 [==============================] - 0s 3ms/step - loss: 0.4414 - val_loss: 1.0795\n",
            "Epoch 239/300\n",
            "29/29 [==============================] - 0s 3ms/step - loss: 0.4477 - val_loss: 0.8490\n",
            "Epoch 240/300\n",
            "29/29 [==============================] - 0s 4ms/step - loss: 0.4462 - val_loss: 0.9931\n",
            "Epoch 241/300\n",
            "29/29 [==============================] - 0s 3ms/step - loss: 0.4448 - val_loss: 0.8288\n",
            "Epoch 242/300\n",
            "29/29 [==============================] - 0s 3ms/step - loss: 0.4488 - val_loss: 0.8626\n",
            "Epoch 243/300\n",
            "29/29 [==============================] - 0s 3ms/step - loss: 0.4422 - val_loss: 0.8270\n",
            "Epoch 244/300\n",
            "29/29 [==============================] - 0s 3ms/step - loss: 0.4464 - val_loss: 0.8786\n",
            "Epoch 245/300\n",
            "29/29 [==============================] - 0s 3ms/step - loss: 0.4428 - val_loss: 0.8522\n",
            "Epoch 246/300\n",
            "29/29 [==============================] - 0s 4ms/step - loss: 0.4575 - val_loss: 1.0885\n",
            "Epoch 247/300\n",
            "29/29 [==============================] - 0s 3ms/step - loss: 0.4694 - val_loss: 0.8019\n",
            "Epoch 248/300\n",
            "29/29 [==============================] - 0s 4ms/step - loss: 0.4619 - val_loss: 0.8114\n",
            "Epoch 249/300\n",
            "29/29 [==============================] - 0s 4ms/step - loss: 0.4481 - val_loss: 0.8541\n",
            "Epoch 250/300\n",
            "29/29 [==============================] - 0s 3ms/step - loss: 0.4363 - val_loss: 0.8644\n",
            "Epoch 251/300\n",
            "29/29 [==============================] - 0s 3ms/step - loss: 0.4422 - val_loss: 1.1255\n",
            "Epoch 252/300\n",
            "29/29 [==============================] - 0s 4ms/step - loss: 0.4503 - val_loss: 0.8225\n",
            "Epoch 253/300\n",
            "29/29 [==============================] - 0s 3ms/step - loss: 0.4368 - val_loss: 0.9145\n",
            "Epoch 254/300\n",
            "29/29 [==============================] - 0s 3ms/step - loss: 0.4345 - val_loss: 0.7972\n",
            "Epoch 255/300\n",
            "29/29 [==============================] - 0s 3ms/step - loss: 0.4635 - val_loss: 0.8103\n",
            "Epoch 256/300\n",
            "29/29 [==============================] - 0s 4ms/step - loss: 0.4396 - val_loss: 0.8157\n",
            "Epoch 257/300\n",
            "29/29 [==============================] - 0s 3ms/step - loss: 0.4372 - val_loss: 0.8352\n",
            "Epoch 258/300\n",
            "29/29 [==============================] - 0s 3ms/step - loss: 0.4451 - val_loss: 0.8700\n",
            "Epoch 259/300\n",
            "29/29 [==============================] - 0s 4ms/step - loss: 0.4478 - val_loss: 1.0854\n",
            "Epoch 260/300\n",
            "29/29 [==============================] - 0s 4ms/step - loss: 0.4433 - val_loss: 0.8919\n",
            "Epoch 261/300\n",
            "29/29 [==============================] - 0s 4ms/step - loss: 0.4334 - val_loss: 0.9598\n",
            "Epoch 262/300\n",
            "29/29 [==============================] - 0s 3ms/step - loss: 0.4427 - val_loss: 0.9061\n",
            "Epoch 263/300\n",
            "29/29 [==============================] - 0s 3ms/step - loss: 0.4532 - val_loss: 0.8887\n",
            "Epoch 264/300\n",
            "29/29 [==============================] - 0s 4ms/step - loss: 0.4717 - val_loss: 0.7875\n",
            "Epoch 265/300\n",
            "29/29 [==============================] - 0s 3ms/step - loss: 0.4592 - val_loss: 0.7971\n",
            "Epoch 266/300\n",
            "29/29 [==============================] - 0s 3ms/step - loss: 0.4523 - val_loss: 0.8683\n",
            "Epoch 267/300\n",
            "29/29 [==============================] - 0s 4ms/step - loss: 0.4318 - val_loss: 0.9984\n",
            "Epoch 268/300\n",
            "29/29 [==============================] - 0s 4ms/step - loss: 0.4448 - val_loss: 0.9507\n",
            "Epoch 269/300\n",
            "29/29 [==============================] - 0s 4ms/step - loss: 0.4408 - val_loss: 0.9152\n",
            "Epoch 270/300\n",
            "29/29 [==============================] - 0s 4ms/step - loss: 0.4299 - val_loss: 0.8677\n",
            "Epoch 271/300\n",
            "29/29 [==============================] - 0s 4ms/step - loss: 0.4357 - val_loss: 0.8405\n",
            "Epoch 272/300\n",
            "29/29 [==============================] - 0s 3ms/step - loss: 0.4294 - val_loss: 0.9099\n",
            "Epoch 273/300\n",
            "29/29 [==============================] - 0s 3ms/step - loss: 0.4275 - val_loss: 0.8007\n",
            "Epoch 274/300\n",
            "29/29 [==============================] - 0s 3ms/step - loss: 0.4335 - val_loss: 0.8633\n",
            "Epoch 275/300\n",
            "29/29 [==============================] - 0s 3ms/step - loss: 0.4506 - val_loss: 0.9674\n",
            "Epoch 276/300\n",
            "29/29 [==============================] - 0s 3ms/step - loss: 0.4632 - val_loss: 0.8189\n",
            "Epoch 277/300\n",
            "29/29 [==============================] - 0s 3ms/step - loss: 0.4353 - val_loss: 0.8238\n",
            "Epoch 278/300\n",
            "29/29 [==============================] - 0s 3ms/step - loss: 0.4334 - val_loss: 0.9990\n",
            "Epoch 279/300\n",
            "29/29 [==============================] - 0s 4ms/step - loss: 0.4320 - val_loss: 0.8468\n",
            "Epoch 280/300\n",
            "29/29 [==============================] - 0s 3ms/step - loss: 0.4474 - val_loss: 0.8711\n",
            "Epoch 281/300\n",
            "29/29 [==============================] - 0s 3ms/step - loss: 0.4338 - val_loss: 0.8615\n",
            "Epoch 282/300\n",
            "29/29 [==============================] - 0s 4ms/step - loss: 0.4277 - val_loss: 0.8996\n",
            "Epoch 283/300\n",
            "29/29 [==============================] - 0s 4ms/step - loss: 0.4343 - val_loss: 0.9908\n",
            "Epoch 284/300\n",
            "29/29 [==============================] - 0s 4ms/step - loss: 0.4385 - val_loss: 0.9541\n",
            "Epoch 285/300\n",
            "29/29 [==============================] - 0s 3ms/step - loss: 0.4292 - val_loss: 0.8325\n",
            "Epoch 286/300\n",
            "29/29 [==============================] - 0s 4ms/step - loss: 0.4319 - val_loss: 0.8651\n",
            "Epoch 287/300\n",
            "29/29 [==============================] - 0s 3ms/step - loss: 0.4297 - val_loss: 0.8251\n",
            "Epoch 288/300\n",
            "29/29 [==============================] - 0s 3ms/step - loss: 0.4396 - val_loss: 0.8852\n",
            "Epoch 289/300\n",
            "29/29 [==============================] - 0s 4ms/step - loss: 0.4468 - val_loss: 0.9094\n",
            "Epoch 290/300\n",
            "29/29 [==============================] - 0s 3ms/step - loss: 0.4499 - val_loss: 1.0966\n",
            "Epoch 291/300\n",
            "29/29 [==============================] - 0s 3ms/step - loss: 0.4476 - val_loss: 0.8795\n",
            "Epoch 292/300\n",
            "29/29 [==============================] - 0s 4ms/step - loss: 0.4426 - val_loss: 0.8877\n",
            "Epoch 293/300\n",
            "29/29 [==============================] - 0s 3ms/step - loss: 0.4496 - val_loss: 0.7817\n"
          ]
        },
        {
          "output_type": "execute_result",
          "data": {
            "text/plain": [
              "<keras.callbacks.History at 0x7fe2e5063b20>"
            ]
          },
          "metadata": {},
          "execution_count": 165
        }
      ]
    },
    {
      "cell_type": "markdown",
      "metadata": {
        "id": "pCaNGjzQ2m9D"
      },
      "source": [
        "Evaluate the model on the test data:"
      ]
    },
    {
      "cell_type": "code",
      "metadata": {
        "id": "_MDJut_b3-6Q",
        "outputId": "97af0c9c-a30c-4869-b807-fb44ca3bf4f7",
        "colab": {
          "base_uri": "https://localhost:8080/"
        }
      },
      "source": [
        "model.evaluate(X_valid, Y_valid)"
      ],
      "execution_count": 140,
      "outputs": [
        {
          "output_type": "stream",
          "name": "stdout",
          "text": [
            "130/130 [==============================] - 0s 2ms/step - loss: 0.7031\n"
          ]
        },
        {
          "output_type": "execute_result",
          "data": {
            "text/plain": [
              "0.7031354904174805"
            ]
          },
          "metadata": {},
          "execution_count": 140
        }
      ]
    },
    {
      "cell_type": "markdown",
      "metadata": {
        "id": "Gtd_UnfN4TPP"
      },
      "source": [
        "Run inference on the test data:"
      ]
    },
    {
      "cell_type": "code",
      "metadata": {
        "id": "OhghFnnf4VA1",
        "outputId": "5b545428-8157-4766-b59c-15227e4b7c74",
        "colab": {
          "base_uri": "https://localhost:8080/"
        }
      },
      "source": [
        "preds = model.predict(X_test)"
      ],
      "execution_count": 166,
      "outputs": [
        {
          "output_type": "stream",
          "name": "stdout",
          "text": [
            "65/65 [==============================] - 0s 1ms/step\n"
          ]
        }
      ]
    },
    {
      "cell_type": "code",
      "metadata": {
        "id": "Uzv3YtGlAcl6",
        "outputId": "cebf34e2-8953-427f-af0c-eeb6bc5558be",
        "colab": {
          "base_uri": "https://localhost:8080/",
          "height": 596
        }
      },
      "source": [
        "plt.figure(figsize=(10,10))\n",
        "sns.regplot(x=Y_test.reshape(-1), y=preds.reshape(-1)).set(xlim=(0,5),ylim=(0,5)); "
      ],
      "execution_count": 167,
      "outputs": [
        {
          "output_type": "display_data",
          "data": {
            "text/plain": [
              "<Figure size 720x720 with 1 Axes>"
            ],
            "image/png": "[encoded data removed]"
          },
          "metadata": {
            "needs_background": "light"
          }
        }
      ]
    },
    {
      "cell_type": "code",
      "source": [],
      "metadata": {
        "id": "655JaE-U8fzR"
      },
      "execution_count": null,
      "outputs": []
    }
  ]
}