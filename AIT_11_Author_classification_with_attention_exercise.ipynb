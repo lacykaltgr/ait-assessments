{
  "nbformat": 4,
  "nbformat_minor": 0,
  "metadata": {
    "kernelspec": {
      "display_name": "Python 3",
      "language": "python",
      "name": "python3"
    },
    "language_info": {
      "codemirror_mode": {
        "name": "ipython",
        "version": 3
      },
      "file_extension": ".py",
      "mimetype": "text/x-python",
      "name": "python",
      "nbconvert_exporter": "python",
      "pygments_lexer": "ipython3",
      "version": "3.6.6"
    },
    "colab": {
      "provenance": [],
      "include_colab_link": true
    }
  },
  "cells": [
    {
      "cell_type": "markdown",
      "metadata": {
        "id": "view-in-github",
        "colab_type": "text"
      },
      "source": [
        "<a href=\"https://colab.research.google.com/github/lacykaltgr/ait-assessments/blob/main/AIT_11_Author_classification_with_attention_exercise.ipynb\" target=\"_parent\"><img src=\"https://colab.research.google.com/assets/colab-badge.svg\" alt=\"Open In Colab\"/></a>"
      ]
    },
    {
      "cell_type": "markdown",
      "metadata": {
        "id": "_jiGtJu6u9ml"
      },
      "source": [
        "# Copyright\n",
        "\n",
        "<PRE>\n",
        "Copyright (c) 2023 Bálint Gyires-Tóth - All Rights Reserved\n",
        "You may use and modify this code for research and development purpuses.\n",
        "Use this code for educational purposes (self-paced or instructor led) without the permission of the author is prohibited.\n",
        "</PRE>"
      ]
    },
    {
      "cell_type": "markdown",
      "metadata": {
        "id": "oXyFC44jV-PP"
      },
      "source": [
        "# Author classification\n",
        "The task is to train a 1D CNN or an LSTM that is able to  classify text from two authors. The final model should be able to tell about a text with a given length (e.g. 60 characters) who wrote it. \n",
        "\n",
        "Please write the codes according to the following parts:"
      ]
    },
    {
      "cell_type": "markdown",
      "metadata": {
        "id": "jCnLoeGrHXsp"
      },
      "source": [
        "## Python module imports\n",
        "Import all Python modules that you would need during the Assignment."
      ]
    },
    {
      "cell_type": "code",
      "metadata": {
        "id": "7itbFGt3HXVT"
      },
      "source": [
        "from tensorflow.keras.models import Sequential\n",
        "from tensorflow.keras.layers import Dense, Activation, Dropout, Flatten, Conv1D, MaxPooling1D, Reshape\n",
        "from tensorflow.keras.callbacks import EarlyStopping\n",
        "from tensorflow.keras.layers import LSTM\n",
        "from tensorflow.keras.optimizers import RMSprop\n",
        "from urllib.request import urlretrieve\n",
        "import numpy as np\n",
        "import random\n",
        "import sys\n",
        "import re, cgi"
      ],
      "execution_count": null,
      "outputs": []
    },
    {
      "cell_type": "markdown",
      "metadata": {
        "id": "Hr617tEpHd8R"
      },
      "source": [
        "## Data acquisition\n",
        "Seek a possible dataset, you can use any source, e.g.\n",
        "* http://www.gutenberg.org/\n",
        "* https://www.kaggle.com/datasets\n",
        "* https://paperswithcode.com/datasets\n",
        "* if you would like to learn Hungarian, than e.g. https://mek.oszk.hu/\n",
        "\n",
        "You can download the text by hand (e.g. by copy-pasting some parts into txt files) or with Python. "
      ]
    },
    {
      "cell_type": "code",
      "metadata": {
        "id": "NgkdQxHqHdZB"
      },
      "source": [
        "book1=\"http://www.gutenberg.org/files/2151/2151-0.txt\"\n",
        "book2=\"https://www.gutenberg.org/cache/epub/70589/pg70589.txt\"\n",
        "urlretrieve(book1, 'book1.txt')\n",
        "urlretrieve(book2, 'book2.txt')\n",
        "book1_text = open(\"book1.txt\", encoding='utf-8').read().lower()\n",
        "book2_text = open(\"book2.txt\", encoding='utf-8').read().lower()"
      ],
      "execution_count": null,
      "outputs": []
    },
    {
      "cell_type": "markdown",
      "metadata": {
        "id": "cHyE_ndGIblJ"
      },
      "source": [
        "## Data loading, labeling and preprocessing\n",
        "Load the data and convert the characters into one-hot encodings. Then load the data into a 3D NumPy array, with a shape of\n",
        "\n",
        "* (batch, sequence_length, alphabet_length)\n",
        "\n",
        "where sequence_length=60, and alphabet_length equals to the number of unique characters in both datasets. The sequences should be cut out from the complete dataset by sliding window. You should add 0 and 1 labels to the sequences, according to the author. \n",
        "\n",
        "Later you may change sequence_length to achieve better results!"
      ]
    },
    {
      "cell_type": "code",
      "metadata": {
        "id": "arooXt0WIb6x",
        "colab": {
          "base_uri": "https://localhost:8080/"
        },
        "outputId": "003a998b-d1a5-40bc-845c-c50969ecd424"
      },
      "source": [
        "chars = sorted(list(set(book1_text+book2_text)))\n",
        "print(len(chars))"
      ],
      "execution_count": null,
      "outputs": [
        {
          "output_type": "stream",
          "name": "stdout",
          "text": [
            "99\n"
          ]
        }
      ]
    },
    {
      "cell_type": "code",
      "source": [
        "char_indices = dict((c, i) for i, c in enumerate(chars))\n",
        "indices_char = dict((i, c) for i, c in enumerate(chars))\n",
        "\n",
        "print (\"Indices to char dictionary:\", indices_char)"
      ],
      "metadata": {
        "colab": {
          "base_uri": "https://localhost:8080/"
        },
        "id": "Ag5ON2U3Djbx",
        "outputId": "55bfbe12-310c-4bad-e725-04c7cd2734c8"
      },
      "execution_count": null,
      "outputs": [
        {
          "output_type": "stream",
          "name": "stdout",
          "text": [
            "Indices to char dictionary: {0: '\\n', 1: ' ', 2: '!', 3: '\"', 4: '#', 5: '$', 6: '%', 7: '&', 8: \"'\", 9: '(', 10: ')', 11: '*', 12: ',', 13: '-', 14: '.', 15: '/', 16: '0', 17: '1', 18: '2', 19: '3', 20: '4', 21: '5', 22: '6', 23: '7', 24: '8', 25: '9', 26: ':', 27: ';', 28: '=', 29: '?', 30: '[', 31: ']', 32: '_', 33: 'a', 34: 'b', 35: 'c', 36: 'd', 37: 'e', 38: 'f', 39: 'g', 40: 'h', 41: 'i', 42: 'j', 43: 'k', 44: 'l', 45: 'm', 46: 'n', 47: 'o', 48: 'p', 49: 'q', 50: 'r', 51: 's', 52: 't', 53: 'u', 54: 'v', 55: 'w', 56: 'x', 57: 'y', 58: 'z', 59: '{', 60: '}', 61: 'à', 62: 'â', 63: 'æ', 64: 'è', 65: 'é', 66: 'ê', 67: 'ë', 68: 'ö', 69: 'ú', 70: 'ü', 71: 'œ', 72: 'α', 73: 'γ', 74: 'δ', 75: 'ε', 76: 'η', 77: 'ι', 78: 'λ', 79: 'ν', 80: 'ξ', 81: 'ο', 82: 'π', 83: 'ρ', 84: 'ς', 85: 'σ', 86: 'τ', 87: 'υ', 88: 'χ', 89: 'ῆ', 90: 'ῦ', 91: '—', 92: '‘', 93: '’', 94: '“', 95: '”', 96: '•', 97: '™', 98: '\\ufeff'}\n"
          ]
        }
      ]
    },
    {
      "cell_type": "code",
      "source": [
        "seq_len = 60\n",
        "step = 30\n",
        "sentences_1 = []\n",
        "sentences_2 = []\n",
        "\n",
        "for i in range(0, len(book1_text)-seq_len, step):\n",
        "    sentences_1.append(book1_text[i:i+seq_len])\n",
        "for i in range(0, len(book2_text)-seq_len, step):\n",
        "    sentences_2.append(book2_text[i:i+seq_len])\n",
        "\n"
      ],
      "metadata": {
        "id": "LzUzWPILDr-U"
      },
      "execution_count": null,
      "outputs": []
    },
    {
      "cell_type": "code",
      "source": [
        "sentences_1_len = len(sentences_1)\n",
        "sentences_2_len = len(sentences_2)\n",
        "totallen = len(sentences_1) + len(sentences_2)"
      ],
      "metadata": {
        "id": "nUavQ0q8F4KI"
      },
      "execution_count": null,
      "outputs": []
    },
    {
      "cell_type": "code",
      "source": [
        "X_1 = np.zeros((sentences_1_len, seq_len, len(chars)), dtype =float)\n",
        "X_2 = np.zeros((sentences_2_len, seq_len, len(chars)), dtype =float)\n",
        "Y_1 = np.zeros((sentences_1_len,2), dtype=float)\n",
        "Y_2 = np.zeros((sentences_2_len,2), dtype=float)\n",
        "\n",
        "for i, sentence in enumerate(sentences_1):\n",
        "    for t, char in enumerate(sentence): \n",
        "        X_1[i,t,char_indices[char]] = 1\n",
        "    Y_1[i,0] = 1\n",
        "\n",
        "for i, sentence in enumerate(sentences_2):\n",
        "    for t, char in enumerate(sentence): \n",
        "        X_2[i,t,char_indices[char]] = 1\n",
        "    Y_2[i,1] = 1"
      ],
      "metadata": {
        "id": "dlZeVbTKD-uA"
      },
      "execution_count": null,
      "outputs": []
    },
    {
      "cell_type": "markdown",
      "metadata": {
        "id": "lL1Mc8ibHnep"
      },
      "source": [
        "## Data splitting\n",
        "Split the data into train, validate and test sets. Make "
      ]
    },
    {
      "cell_type": "code",
      "metadata": {
        "id": "ELyG9XFUHrkB"
      },
      "source": [
        "val_ratio  = 0.1\n",
        "test_ratio = 0.1\n",
        "\n",
        "v_split_1  = int((1-val_ratio-test_ratio) * sentences_1_len)\n",
        "v_split_2  = int((1-val_ratio-test_ratio) * sentences_2_len)\n",
        "t_split_1  = int((1-test_ratio) * sentences_1_len)\n",
        "t_split_2  = int((1-test_ratio) * sentences_2_len)\n",
        "\n",
        "X_train = np.concatenate((X_1[:v_split_1], X_2[:v_split_2]), axis=0)\n",
        "X_valid = np.concatenate((X_1[v_split_1:t_split_1], X_2[v_split_2:t_split_2]), axis=0)\n",
        "X_test  = np.concatenate((X_1[t_split_1:], X_2[t_split_2:]), axis=0)\n",
        "\n",
        "Y_train = np.concatenate((Y_1[:v_split_1], Y_2[:v_split_2]), axis=0)\n",
        "Y_valid = np.concatenate((Y_1[v_split_1:t_split_1], Y_2[v_split_2:t_split_2]), axis=0)\n",
        "Y_test  = np.concatenate((Y_1[t_split_1:], Y_2[t_split_2:]), axis=0)\n"
      ],
      "execution_count": null,
      "outputs": []
    },
    {
      "cell_type": "markdown",
      "metadata": {
        "id": "hA8U9tr7HrNQ"
      },
      "source": [
        "## Model definition\n",
        "Define a 1D CNN or an LSTM for the task. Compile the model with the correct loss function."
      ]
    },
    {
      "cell_type": "code",
      "metadata": {
        "id": "BT1V1s4kHuUe"
      },
      "source": [
        "model = Sequential()\n",
        "model.add(LSTM(32, input_shape=(X_train.shape[1], len(chars)),dropout=0.3,recurrent_dropout=0.2))\n",
        "model.add(Dense(2, activation='softmax'))"
      ],
      "execution_count": null,
      "outputs": []
    },
    {
      "cell_type": "code",
      "source": [
        "model.compile(loss='categorical_crossentropy', optimizer='adam', metrics=['accuracy'])\n",
        "es = EarlyStopping(patience=3, restore_best_weights=True, monitor=\"val_loss\")"
      ],
      "metadata": {
        "id": "Z1fTehmTHkD-"
      },
      "execution_count": null,
      "outputs": []
    },
    {
      "cell_type": "code",
      "source": [
        "model.summary()"
      ],
      "metadata": {
        "colab": {
          "base_uri": "https://localhost:8080/"
        },
        "id": "01pBVDgCLShQ",
        "outputId": "f1139507-9c54-4de4-eedd-608f8c48bff5"
      },
      "execution_count": null,
      "outputs": [
        {
          "output_type": "stream",
          "name": "stdout",
          "text": [
            "Model: \"sequential_1\"\n",
            "_________________________________________________________________\n",
            " Layer (type)                Output Shape              Param #   \n",
            "=================================================================\n",
            " lstm_1 (LSTM)               (None, 32)                16896     \n",
            "                                                                 \n",
            " dense_1 (Dense)             (None, 2)                 66        \n",
            "                                                                 \n",
            "=================================================================\n",
            "Total params: 16,962\n",
            "Trainable params: 16,962\n",
            "Non-trainable params: 0\n",
            "_________________________________________________________________\n"
          ]
        }
      ]
    },
    {
      "cell_type": "markdown",
      "metadata": {
        "id": "hWFb-nAMHuAI"
      },
      "source": [
        "## Model training\n",
        "Train the model and apply early stopping."
      ]
    },
    {
      "cell_type": "code",
      "metadata": {
        "id": "dvgKjqp3Hwkp",
        "colab": {
          "base_uri": "https://localhost:8080/"
        },
        "outputId": "935c8c35-d3cf-492b-b30d-5d269c9dcc77"
      },
      "source": [
        "model.fit(X_train, Y_train, \n",
        "          epochs=1000, batch_size=128, \n",
        "          # validation_split=0.2, # don't change the validation split\n",
        "          validation_data=(X_valid,Y_valid),\n",
        "          callbacks=[es],\n",
        "          verbose=1)"
      ],
      "execution_count": null,
      "outputs": [
        {
          "output_type": "stream",
          "name": "stdout",
          "text": [
            "Epoch 1/1000\n",
            "184/184 [==============================] - 31s 147ms/step - loss: 0.4481 - accuracy: 0.7756 - val_loss: 0.1279 - val_accuracy: 0.9703\n",
            "Epoch 2/1000\n",
            "184/184 [==============================] - 25s 134ms/step - loss: 0.2721 - accuracy: 0.8883 - val_loss: 0.0831 - val_accuracy: 0.9717\n",
            "Epoch 3/1000\n",
            "184/184 [==============================] - 27s 147ms/step - loss: 0.2202 - accuracy: 0.9079 - val_loss: 0.0733 - val_accuracy: 0.9771\n",
            "Epoch 4/1000\n",
            "184/184 [==============================] - 25s 139ms/step - loss: 0.2041 - accuracy: 0.9147 - val_loss: 0.0699 - val_accuracy: 0.9788\n",
            "Epoch 5/1000\n",
            "184/184 [==============================] - 25s 138ms/step - loss: 0.1847 - accuracy: 0.9244 - val_loss: 0.0668 - val_accuracy: 0.9812\n",
            "Epoch 6/1000\n",
            "184/184 [==============================] - 27s 145ms/step - loss: 0.1768 - accuracy: 0.9255 - val_loss: 0.0667 - val_accuracy: 0.9826\n",
            "Epoch 7/1000\n",
            "184/184 [==============================] - 25s 135ms/step - loss: 0.1732 - accuracy: 0.9261 - val_loss: 0.0588 - val_accuracy: 0.9829\n",
            "Epoch 8/1000\n",
            "184/184 [==============================] - 25s 138ms/step - loss: 0.1688 - accuracy: 0.9308 - val_loss: 0.0628 - val_accuracy: 0.9826\n",
            "Epoch 9/1000\n",
            "184/184 [==============================] - 25s 138ms/step - loss: 0.1608 - accuracy: 0.9304 - val_loss: 0.0542 - val_accuracy: 0.9839\n",
            "Epoch 10/1000\n",
            "184/184 [==============================] - 26s 140ms/step - loss: 0.1565 - accuracy: 0.9318 - val_loss: 0.0813 - val_accuracy: 0.9781\n",
            "Epoch 11/1000\n",
            "184/184 [==============================] - 27s 149ms/step - loss: 0.1646 - accuracy: 0.9248 - val_loss: 0.0496 - val_accuracy: 0.9846\n",
            "Epoch 12/1000\n",
            "184/184 [==============================] - 28s 155ms/step - loss: 0.1469 - accuracy: 0.9360 - val_loss: 0.0424 - val_accuracy: 0.9870\n",
            "Epoch 13/1000\n",
            "184/184 [==============================] - 25s 135ms/step - loss: 0.1420 - accuracy: 0.9383 - val_loss: 0.0415 - val_accuracy: 0.9884\n",
            "Epoch 14/1000\n",
            "184/184 [==============================] - 26s 139ms/step - loss: 0.1388 - accuracy: 0.9392 - val_loss: 0.0407 - val_accuracy: 0.9880\n",
            "Epoch 15/1000\n",
            "184/184 [==============================] - 24s 130ms/step - loss: 0.1365 - accuracy: 0.9409 - val_loss: 0.0401 - val_accuracy: 0.9884\n",
            "Epoch 16/1000\n",
            "184/184 [==============================] - 25s 138ms/step - loss: 0.1318 - accuracy: 0.9420 - val_loss: 0.0427 - val_accuracy: 0.9880\n",
            "Epoch 17/1000\n",
            "184/184 [==============================] - 25s 135ms/step - loss: 0.1275 - accuracy: 0.9424 - val_loss: 0.0393 - val_accuracy: 0.9894\n",
            "Epoch 18/1000\n",
            "184/184 [==============================] - 25s 138ms/step - loss: 0.1275 - accuracy: 0.9446 - val_loss: 0.0393 - val_accuracy: 0.9887\n",
            "Epoch 19/1000\n",
            "184/184 [==============================] - 30s 164ms/step - loss: 0.1261 - accuracy: 0.9444 - val_loss: 0.0400 - val_accuracy: 0.9894\n",
            "Epoch 20/1000\n",
            "184/184 [==============================] - 25s 138ms/step - loss: 0.1209 - accuracy: 0.9461 - val_loss: 0.0403 - val_accuracy: 0.9887\n",
            "Epoch 21/1000\n",
            "184/184 [==============================] - 25s 138ms/step - loss: 0.1221 - accuracy: 0.9463 - val_loss: 0.0383 - val_accuracy: 0.9884\n",
            "Epoch 22/1000\n",
            "184/184 [==============================] - 25s 136ms/step - loss: 0.1209 - accuracy: 0.9449 - val_loss: 0.0390 - val_accuracy: 0.9887\n",
            "Epoch 23/1000\n",
            "184/184 [==============================] - 27s 144ms/step - loss: 0.1184 - accuracy: 0.9468 - val_loss: 0.0437 - val_accuracy: 0.9894\n",
            "Epoch 24/1000\n",
            "184/184 [==============================] - 25s 139ms/step - loss: 0.1163 - accuracy: 0.9474 - val_loss: 0.0461 - val_accuracy: 0.9887\n"
          ]
        },
        {
          "output_type": "execute_result",
          "data": {
            "text/plain": [
              "<keras.callbacks.History at 0x7f18117c8400>"
            ]
          },
          "metadata": {},
          "execution_count": 13
        }
      ]
    },
    {
      "cell_type": "markdown",
      "metadata": {
        "id": "0omw2XzSHwOo"
      },
      "source": [
        "## Evaluation on test data\n",
        "Evaluate the model on the test data in terms of loss and accuracy."
      ]
    },
    {
      "cell_type": "code",
      "metadata": {
        "id": "4bF3dQA1Hv_R",
        "colab": {
          "base_uri": "https://localhost:8080/"
        },
        "outputId": "1bedb1b5-d148-4974-9c86-fe5c49b6d31d"
      },
      "source": [
        "eval = model.evaluate(X_test,Y_test)\n",
        "print(\"Test loss:\",eval[0])\n",
        "print(\"Test accuracy:\",eval[1])"
      ],
      "execution_count": null,
      "outputs": [
        {
          "output_type": "stream",
          "name": "stdout",
          "text": [
            "92/92 [==============================] - 1s 12ms/step - loss: 1.0660 - accuracy: 0.7890\n",
            "Test loss: 1.06602942943573\n",
            "Test accuracy: 0.7890064716339111\n"
          ]
        }
      ]
    },
    {
      "cell_type": "markdown",
      "metadata": {
        "id": "4Y73Q-h5Hz1r"
      },
      "source": [
        "## Confusion matrix\n",
        "Calculate and display the confusion matrix."
      ]
    },
    {
      "cell_type": "code",
      "metadata": {
        "id": "cW8zZi1uJm2B",
        "colab": {
          "base_uri": "https://localhost:8080/",
          "height": 470
        },
        "outputId": "13dff332-411c-4d4e-cb17-1b26295b7405"
      },
      "source": [
        "from sklearn.metrics import confusion_matrix, classification_report\n",
        "import seaborn as sns\n",
        "\n",
        "preds = model.predict(X_test)\n",
        "conf=confusion_matrix(np.argmax(Y_test,1),np.argmax(preds,1))\n",
        "sns.heatmap(conf, annot=True, fmt='d', vmax=1600)"
      ],
      "execution_count": null,
      "outputs": [
        {
          "output_type": "stream",
          "name": "stdout",
          "text": [
            "92/92 [==============================] - 1s 11ms/step\n"
          ]
        },
        {
          "output_type": "execute_result",
          "data": {
            "text/plain": [
              "<Axes: >"
            ]
          },
          "metadata": {},
          "execution_count": 15
        },
        {
          "output_type": "display_data",
          "data": {
            "text/plain": [
              "<Figure size 640x480 with 2 Axes>"
            ],
            "image/png": "[encoded data removed]"
          },
          "metadata": {}
        }
      ]
    },
    {
      "cell_type": "markdown",
      "source": [
        "# Exercise: Attention mechanism"
      ],
      "metadata": {
        "id": "yC9DmGDMJWzY"
      }
    },
    {
      "cell_type": "code",
      "source": [
        "from keras.layers import Layer\n",
        "import keras.backend as K\n",
        "class attention(Layer):\n",
        "    \n",
        "    # The constructor just calls the parent class's constructor\n",
        "    def __init__(self,**kwargs):\n",
        "        super(attention,self).__init__(**kwargs)\n",
        "        \n",
        "        \n",
        "    # in the build, we have to define the weigths of the attention mechanism\n",
        "    def build(self,input_shape): # (batch, seq_length, lstm_size) # (None, 60, 128)\n",
        "        self.w=self.add_weight(name=\"att_weight\",shape=(<TODO>,1),initializer=\"normal\") # should be (lstm_size,1), use input_shape only \n",
        "        self.b=self.add_weight(name=\"att_bias\",shape=(<TODO>,1),initializer=\"zeros\") # should be (seq_length,1), use input_shape only \n",
        "        print(\"Attention weights' shape:\",self.w.shape) \n",
        "        print(\"Attention bias' shape:\",self.b.shape) \n",
        "        super(attention,self).build(input_shape)\n",
        "        \n",
        "        \n",
        "    def call(self,x):\n",
        "        et=<TODO> # dot product of x and attention weight + attention bias. Use 'K.' functions as tensorflow backend\n",
        "        at=<TODO>  # softmax of et along the sequence axis. . Use 'K.' functions as tensorflow backend\n",
        "        print(at.shape)\n",
        "        output=<TODO> # multiply input x with the attention\n",
        "        output=<TODO> # sum over the sequence axis to have lstm_size number of outputs. . Use 'K.' functions as tensorflow backend\n",
        "        return output\n",
        "    \n",
        "    # gives back the main informations about the module\n",
        "    def get_config(self):\n",
        "        return super(attention,self).get_config()      "
      ],
      "metadata": {
        "id": "V3VNm3gBJIJb",
        "colab": {
          "base_uri": "https://localhost:8080/",
          "height": 149
        },
        "outputId": "cd95fbc5-ae92-4973-df32-a7ea2fec9ced"
      },
      "execution_count": null,
      "outputs": [
        {
          "output_type": "error",
          "ename": "SyntaxError",
          "evalue": "ignored",
          "traceback": [
            "\u001b[0;36m  File \u001b[0;32m\"<ipython-input-13-e8b340e672c1>\"\u001b[0;36m, line \u001b[0;32m12\u001b[0m\n\u001b[0;31m    self.w=self.add_weight(name=\"att_weight\",shape=(<TODO>,1),initializer=\"normal\") # should be (lstm_size,1), use input_shape only\u001b[0m\n\u001b[0m                                                    ^\u001b[0m\n\u001b[0;31mSyntaxError\u001b[0m\u001b[0;31m:\u001b[0m invalid syntax\n"
          ]
        }
      ]
    },
    {
      "cell_type": "code",
      "source": [
        "model = Sequential()\n",
        "model.add(LSTM(128, input_shape=(X_train.shape[1], len(chars)), return_sequences=True,dropout=0.3,recurrent_dropout=0.2))\n",
        "model.add(attention())\n",
        "model.add(Dense(2, activation='softmax'))\n"
      ],
      "metadata": {
        "colab": {
          "base_uri": "https://localhost:8080/"
        },
        "id": "hrA_0IupJZaB",
        "outputId": "aedacb2f-f0b3-4cdb-a6da-d3a6ae445db8"
      },
      "execution_count": null,
      "outputs": [
        {
          "output_type": "stream",
          "name": "stdout",
          "text": [
            "Attention weights' shape: (128, 1)\n",
            "Attention bias' shape: (60, 1)\n",
            "(None, 60, 1)\n",
            "(None, 60, 1)\n",
            "(None, 60, 128)\n"
          ]
        }
      ]
    },
    {
      "cell_type": "code",
      "source": [
        "model.compile(loss='categorical_crossentropy', optimizer='adam', metrics=['accuracy'])\n",
        "es = EarlyStopping(patience=3, restore_best_weights=True, monitor=\"val_loss\")"
      ],
      "metadata": {
        "id": "Tdx92QIPJ_Ce"
      },
      "execution_count": null,
      "outputs": []
    },
    {
      "cell_type": "code",
      "source": [
        "model.summary()"
      ],
      "metadata": {
        "colab": {
          "base_uri": "https://localhost:8080/"
        },
        "id": "kj4oppKnLXCO",
        "outputId": "3d76b840-be66-4b3d-b571-58913b7ed48e"
      },
      "execution_count": null,
      "outputs": [
        {
          "output_type": "stream",
          "name": "stdout",
          "text": [
            "Model: \"sequential_6\"\n",
            "_________________________________________________________________\n",
            " Layer (type)                Output Shape              Param #   \n",
            "=================================================================\n",
            " lstm_6 (LSTM)               (None, 60, 128)           116736    \n",
            "                                                                 \n",
            " attention_5 (attention)     (None, 128)               188       \n",
            "                                                                 \n",
            " dense_6 (Dense)             (None, 2)                 258       \n",
            "                                                                 \n",
            "=================================================================\n",
            "Total params: 117,182\n",
            "Trainable params: 117,182\n",
            "Non-trainable params: 0\n",
            "_________________________________________________________________\n"
          ]
        }
      ]
    },
    {
      "cell_type": "code",
      "source": [
        "model.fit(X_train, Y_train, \n",
        "          epochs=1000, batch_size=128, \n",
        "          # validation_split=0.2, # don't change the validation split\n",
        "          validation_data=(X_valid,Y_valid),\n",
        "          callbacks=[es],\n",
        "          verbose=1)"
      ],
      "metadata": {
        "colab": {
          "base_uri": "https://localhost:8080/"
        },
        "id": "sDg0V_8PJpPQ",
        "outputId": "ef78403e-6663-47dd-b09a-ea14a0702f03"
      },
      "execution_count": null,
      "outputs": [
        {
          "output_type": "stream",
          "name": "stdout",
          "text": [
            "Epoch 1/1000\n",
            "(None, 60, 1)\n",
            "(None, 60, 1)\n",
            "(None, 60, 128)\n",
            "(None, 60, 1)\n",
            "(None, 60, 1)\n",
            "(None, 60, 128)\n",
            "184/184 [==============================] - ETA: 0s - loss: 0.3950 - accuracy: 0.8201(None, 60, 1)\n",
            "(None, 60, 1)\n",
            "(None, 60, 128)\n",
            "184/184 [==============================] - 106s 559ms/step - loss: 0.3950 - accuracy: 0.8201 - val_loss: 0.1159 - val_accuracy: 0.9710\n",
            "Epoch 2/1000\n",
            "184/184 [==============================] - 98s 531ms/step - loss: 0.2592 - accuracy: 0.8990 - val_loss: 0.0876 - val_accuracy: 0.9778\n",
            "Epoch 3/1000\n",
            "184/184 [==============================] - 98s 531ms/step - loss: 0.1947 - accuracy: 0.9185 - val_loss: 0.0594 - val_accuracy: 0.9819\n",
            "Epoch 4/1000\n",
            "184/184 [==============================] - 98s 531ms/step - loss: 0.1661 - accuracy: 0.9262 - val_loss: 0.0534 - val_accuracy: 0.9822\n",
            "Epoch 5/1000\n",
            "184/184 [==============================] - 97s 527ms/step - loss: 0.1529 - accuracy: 0.9304 - val_loss: 0.0487 - val_accuracy: 0.9843\n",
            "Epoch 6/1000\n",
            "184/184 [==============================] - 98s 531ms/step - loss: 0.1454 - accuracy: 0.9335 - val_loss: 0.0518 - val_accuracy: 0.9867\n",
            "Epoch 7/1000\n",
            "184/184 [==============================] - 98s 534ms/step - loss: 0.1403 - accuracy: 0.9353 - val_loss: 0.0473 - val_accuracy: 0.9860\n",
            "Epoch 8/1000\n",
            "184/184 [==============================] - 99s 537ms/step - loss: 0.1362 - accuracy: 0.9378 - val_loss: 0.0468 - val_accuracy: 0.9850\n",
            "Epoch 9/1000\n",
            "184/184 [==============================] - 96s 524ms/step - loss: 0.1322 - accuracy: 0.9401 - val_loss: 0.0458 - val_accuracy: 0.9863\n",
            "Epoch 10/1000\n",
            "184/184 [==============================] - 97s 527ms/step - loss: 0.1269 - accuracy: 0.9417 - val_loss: 0.0441 - val_accuracy: 0.9870\n",
            "Epoch 11/1000\n",
            " 98/184 [==============>...............] - ETA: 43s - loss: 0.1253 - accuracy: 0.9440"
          ]
        }
      ]
    },
    {
      "cell_type": "code",
      "source": [
        "eval = model.evaluate(X_test,Y_test)\n",
        "print(\"Test loss:\",eval[0])\n",
        "print(\"Test accuracy:\",eval[1])"
      ],
      "metadata": {
        "colab": {
          "base_uri": "https://localhost:8080/"
        },
        "id": "LCf8OAwfKKqa",
        "outputId": "a21706f0-9938-4e84-b7b8-2ac0613445ea"
      },
      "execution_count": null,
      "outputs": [
        {
          "output_type": "stream",
          "name": "stdout",
          "text": [
            "92/92 [==============================] - 3s 27ms/step - loss: 1.0338 - accuracy: 0.7887\n",
            "Test loss: 1.0338410139083862\n",
            "Test accuracy: 0.7886650562286377\n"
          ]
        }
      ]
    },
    {
      "cell_type": "code",
      "source": [
        "from sklearn.metrics import confusion_matrix, classification_report\n",
        "import seaborn as sns\n",
        "\n",
        "preds = model.predict(X_test)\n",
        "conf=confusion_matrix(np.argmax(Y_test,1),np.argmax(preds,1))\n",
        "sns.heatmap(conf, annot=True, fmt='d', vmax=1600)"
      ],
      "metadata": {
        "colab": {
          "base_uri": "https://localhost:8080/",
          "height": 470
        },
        "id": "djOwtM1lKPi2",
        "outputId": "1004ed17-10a9-414d-8a6a-20e1580ce71b"
      },
      "execution_count": null,
      "outputs": [
        {
          "output_type": "stream",
          "name": "stdout",
          "text": [
            "92/92 [==============================] - 6s 62ms/step\n"
          ]
        },
        {
          "output_type": "execute_result",
          "data": {
            "text/plain": [
              "<Axes: >"
            ]
          },
          "metadata": {},
          "execution_count": 22
        },
        {
          "output_type": "display_data",
          "data": {
            "text/plain": [
              "<Figure size 640x480 with 2 Axes>"
            ],
            "image/png": "[encoded data removed]"
          },
          "metadata": {}
        }
      ]
    },
    {
      "cell_type": "code",
      "source": [],
      "metadata": {
        "id": "VxEgqzTcQM8U"
      },
      "execution_count": null,
      "outputs": []
    }
  ]
}