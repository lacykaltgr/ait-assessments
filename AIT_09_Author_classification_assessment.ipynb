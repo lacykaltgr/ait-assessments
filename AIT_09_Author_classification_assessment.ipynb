{
  "nbformat": 4,
  "nbformat_minor": 0,
  "metadata": {
    "kernelspec": {
      "display_name": "Python 3",
      "language": "python",
      "name": "python3"
    },
    "language_info": {
      "codemirror_mode": {
        "name": "ipython",
        "version": 3
      },
      "file_extension": ".py",
      "mimetype": "text/x-python",
      "name": "python",
      "nbconvert_exporter": "python",
      "pygments_lexer": "ipython3",
      "version": "3.6.6"
    },
    "colab": {
      "provenance": [],
      "include_colab_link": true
    }
  },
  "cells": [
    {
      "cell_type": "markdown",
      "metadata": {
        "id": "view-in-github",
        "colab_type": "text"
      },
      "source": [
        "<a href=\"https://colab.research.google.com/github/lacykaltgr/ait-assessments/blob/main/AIT_09_Author_classification_assessment.ipynb\" target=\"_parent\"><img src=\"https://colab.research.google.com/assets/colab-badge.svg\" alt=\"Open In Colab\"/></a>"
      ]
    },
    {
      "cell_type": "markdown",
      "metadata": {
        "id": "_jiGtJu6u9ml"
      },
      "source": [
        "# Copyright\n",
        "\n",
        "<PRE>\n",
        "Copyright (c) 2023 Bálint Gyires-Tóth - All Rights Reserved\n",
        "You may use and modify this code for research and development purpuses.\n",
        "Use this code for educational purposes (self-paced or instructor led) without the permission of the author is prohibited.\n",
        "</PRE>"
      ]
    },
    {
      "cell_type": "markdown",
      "metadata": {
        "id": "oXyFC44jV-PP"
      },
      "source": [
        "# Author classification\n",
        "The task is to train a 1D CNN or an LSTM that is able to  classify text from two authors. The final model should be able to tell about a text with a given length (e.g. 60 characters) who wrote it. \n",
        "\n",
        "Please write the codes according to the following parts:"
      ]
    },
    {
      "cell_type": "markdown",
      "metadata": {
        "id": "jCnLoeGrHXsp"
      },
      "source": [
        "## Python module imports\n",
        "Import all Python modules that you would need during the Assignment."
      ]
    },
    {
      "cell_type": "code",
      "metadata": {
        "id": "7itbFGt3HXVT"
      },
      "source": [
        "import requests\n",
        "from bs4 import BeautifulSoup\n",
        "\n",
        "import matplotlib.pyplot as plt\n",
        "\n",
        "import numpy as np\n",
        "from sklearn.model_selection import train_test_split\n",
        "\n",
        "from tensorflow.keras.models import Sequential\n",
        "from tensorflow.keras.layers import Dense, Activation, Dropout, BatchNormalization\n",
        "from tensorflow.keras.layers import LSTM\n",
        "from tensorflow.keras.optimizers import Adam\n",
        "from tensorflow.keras.callbacks import EarlyStopping\n",
        "\n",
        "from sklearn.metrics import confusion_matrix\n",
        "import seaborn as sns"
      ],
      "execution_count": 22,
      "outputs": []
    },
    {
      "cell_type": "markdown",
      "metadata": {
        "id": "Hr617tEpHd8R"
      },
      "source": [
        "## Data acquisition\n",
        "Seek a possible dataset, you can use any source, e.g.\n",
        "* http://www.gutenberg.org/\n",
        "* https://www.kaggle.com/datasets\n",
        "* https://paperswithcode.com/datasets\n",
        "* if you would like to learn Hungarian, than e.g. https://mek.oszk.hu/\n",
        "\n",
        "You can download the text by hand (e.g. by copy-pasting some parts into txt files) or with Python. "
      ]
    },
    {
      "cell_type": "code",
      "metadata": {
        "id": "NgkdQxHqHdZB",
        "outputId": "d3936a92-a422-407a-e098-d76ac3172e94",
        "colab": {
          "base_uri": "https://localhost:8080/"
        }
      },
      "source": [
        "def get_books(author: str):\n",
        "    author_name = author.replace(\" \", \"+\")\n",
        "    url = f\"https://mek.oszk.hu/kereses.mhtml?dc_creator={author_name}&dc_title=&dc_subject=&sort=rk_szerzo%2Crk_uniform&id=&Image3.x=0&Image3.y=0\"\n",
        "    response = requests.get(url)\n",
        "    soup = BeautifulSoup(response.content, \"html.parser\")\n",
        "    books = []\n",
        "    for tag in soup.find_all('a'):\n",
        "      for br in tag.find_all('br'):\n",
        "          next_s = br.next_sibling\n",
        "          if not (next_s and isinstance(next_s, str)):\n",
        "              continue\n",
        "          text = next_s.strip()\n",
        "          if text[:5] == \"https\":\n",
        "            books.append(f'{text}/{text.split(\"/\")[-1]}.htm')\n",
        "    return books\n",
        "\n",
        "def get_text(books):\n",
        "  text = \"\"\n",
        "  for book in books:\n",
        "    response = requests.get(book)\n",
        "    soup = BeautifulSoup(response.content, \"html.parser\")\n",
        "    print(book)\n",
        "    for p in soup.find_all('p', {'align': 'justify'}):\n",
        "        text += \" \" + p.text.strip()\n",
        "  return text\n",
        "\n",
        "\n",
        "mora_books = get_books(\"Mora Ferenc\")\n",
        "gardonyi_books = get_books(\"Gardonyi Geza\")\n",
        "if 'https://mek.oszk.hu/04800/04851/04851.htm' in gardonyi_books:\n",
        "  gardonyi_books.remove('https://mek.oszk.hu/04800/04851/04851.htm')\n",
        "mora_text = get_text(mora_books)\n",
        "gardonyi_text = get_text(gardonyi_books)"
      ],
      "execution_count": 2,
      "outputs": [
        {
          "output_type": "stream",
          "name": "stdout",
          "text": [
            "https://mek.oszk.hu/00600/00685/00685.htm\n",
            "https://mek.oszk.hu/00900/00961/00961.htm\n",
            "https://mek.oszk.hu/05900/05900/05900.htm\n",
            "https://mek.oszk.hu/03300/03305/03305.htm\n",
            "https://mek.oszk.hu/05100/05156/05156.htm\n",
            "https://mek.oszk.hu/09500/09530/09530.htm\n",
            "https://mek.oszk.hu/08000/08016/08016.htm\n",
            "https://mek.oszk.hu/00900/00963/00963.htm\n",
            "https://mek.oszk.hu/09500/09578/09578.htm\n",
            "https://mek.oszk.hu/05300/05322/05322.htm\n",
            "https://mek.oszk.hu/08100/08182/08182.htm\n",
            "https://mek.oszk.hu/00900/00964/00964.htm\n",
            "https://mek.oszk.hu/00900/00965/00965.htm\n",
            "https://mek.oszk.hu/24400/24460/24460.htm\n",
            "https://mek.oszk.hu/08600/08624/08624.htm\n",
            "https://mek.oszk.hu/00900/00962/00962.htm\n",
            "https://mek.oszk.hu/15500/15573/15573.htm\n",
            "https://mek.oszk.hu/02500/02568/02568.htm\n",
            "https://mek.oszk.hu/00900/00966/00966.htm\n",
            "https://mek.oszk.hu/05300/05355/05355.htm\n",
            "https://mek.oszk.hu/00900/00967/00967.htm\n",
            "https://mek.oszk.hu/05200/05283/05283.htm\n",
            "https://mek.oszk.hu/24500/24579/24579.htm\n",
            "https://mek.oszk.hu/00900/00968/00968.htm\n",
            "https://mek.oszk.hu/15500/15574/15574.htm\n",
            "https://mek.oszk.hu/00900/00978/00978.htm\n",
            "https://mek.oszk.hu/08600/08652/08652.htm\n",
            "https://mek.oszk.hu/00900/00970/00970.htm\n",
            "https://mek.oszk.hu/09900/09931/09931.htm\n",
            "https://mek.oszk.hu/05800/05819/05819.htm\n",
            "https://mek.oszk.hu/00900/00971/00971.htm\n",
            "https://mek.oszk.hu/08600/08628/08628.htm\n",
            "https://mek.oszk.hu/00900/00972/00972.htm\n",
            "https://mek.oszk.hu/06000/06060/06060.htm\n",
            "https://mek.oszk.hu/06000/06067/06067.htm\n",
            "https://mek.oszk.hu/00900/00969/00969.htm\n",
            "https://mek.oszk.hu/05900/05901/05901.htm\n",
            "https://mek.oszk.hu/00900/00973/00973.htm\n",
            "https://mek.oszk.hu/15500/15575/15575.htm\n",
            "https://mek.oszk.hu/05100/05188/05188.htm\n",
            "https://mek.oszk.hu/05100/05137/05137.htm\n",
            "https://mek.oszk.hu/00900/00976/00976.htm\n",
            "https://mek.oszk.hu/10200/10222/10222.htm\n",
            "https://mek.oszk.hu/15000/15021/15021.htm\n",
            "https://mek.oszk.hu/00900/00977/00977.htm\n",
            "https://mek.oszk.hu/08600/08630/08630.htm\n",
            "https://mek.oszk.hu/03900/03985/03985.htm\n",
            "https://mek.oszk.hu/15200/15274/15274.htm\n",
            "https://mek.oszk.hu/00900/00974/00974.htm\n",
            "https://mek.oszk.hu/04800/04813/04813.htm\n",
            "https://mek.oszk.hu/00900/00975/00975.htm\n",
            "https://mek.oszk.hu/11100/11135/11135.htm\n",
            "https://mek.oszk.hu/10200/10249/10249.htm\n",
            "https://mek.oszk.hu/06600/06683/06683.htm\n",
            "https://mek.oszk.hu/01900/01998/01998.htm\n",
            "https://mek.oszk.hu/05000/05062/05062.htm\n",
            "https://mek.oszk.hu/04500/04546/04546.htm\n",
            "https://mek.oszk.hu/05500/05574/05574.htm\n",
            "https://mek.oszk.hu/10800/10896/10896.htm\n",
            "https://mek.oszk.hu/04700/04722/04722.htm\n",
            "https://mek.oszk.hu/04700/04743/04743.htm\n",
            "https://mek.oszk.hu/06100/06178/06178.htm\n",
            "https://mek.oszk.hu/04500/04506/04506.htm\n",
            "https://mek.oszk.hu/16500/16549/16549.htm\n",
            "https://mek.oszk.hu/04700/04725/04725.htm\n",
            "https://mek.oszk.hu/04400/04484/04484.htm\n",
            "https://mek.oszk.hu/05700/05712/05712.htm\n",
            "https://mek.oszk.hu/09300/09387/09387.htm\n",
            "https://mek.oszk.hu/04900/04917/04917.htm\n",
            "https://mek.oszk.hu/05800/05877/05877.htm\n",
            "https://mek.oszk.hu/05300/05360/05360.htm\n",
            "https://mek.oszk.hu/05700/05759/05759.htm\n",
            "https://mek.oszk.hu/09400/09405/09405.htm\n",
            "https://mek.oszk.hu/04700/04754/04754.htm\n",
            "https://mek.oszk.hu/00600/00656/00656.htm\n",
            "https://mek.oszk.hu/09100/09129/09129.htm\n",
            "https://mek.oszk.hu/07300/07363/07363.htm\n",
            "https://mek.oszk.hu/04400/04435/04435.htm\n",
            "https://mek.oszk.hu/13300/13387/13387.htm\n",
            "https://mek.oszk.hu/20300/20300/20300.htm\n",
            "https://mek.oszk.hu/23300/23355/23355.htm\n",
            "https://mek.oszk.hu/11300/11341/11341.htm\n",
            "https://mek.oszk.hu/00600/00657/00657.htm\n",
            "https://mek.oszk.hu/15700/15790/15790.htm\n",
            "https://mek.oszk.hu/03000/03082/03082.htm\n",
            "https://mek.oszk.hu/05900/05912/05912.htm\n",
            "https://mek.oszk.hu/05900/05997/05997.htm\n",
            "https://mek.oszk.hu/08900/08912/08912.htm\n",
            "https://mek.oszk.hu/11400/11459/11459.htm\n",
            "https://mek.oszk.hu/00600/00685/00685.htm\n",
            "https://mek.oszk.hu/10800/10892/10892.htm\n",
            "https://mek.oszk.hu/09900/09914/09914.htm\n",
            "https://mek.oszk.hu/05300/05344/05344.htm\n",
            "https://mek.oszk.hu/05700/05711/05711.htm\n",
            "https://mek.oszk.hu/09300/09340/09340.htm\n",
            "https://mek.oszk.hu/06600/06629/06629.htm\n",
            "https://mek.oszk.hu/19300/19359/19359.htm\n",
            "https://mek.oszk.hu/00600/00658/00658.htm\n",
            "https://mek.oszk.hu/00600/00659/00659.htm\n",
            "https://mek.oszk.hu/22500/22519/22519.htm\n",
            "https://mek.oszk.hu/06600/06637/06637.htm\n",
            "https://mek.oszk.hu/06600/06666/06666.htm\n",
            "https://mek.oszk.hu/07600/07665/07665.htm\n",
            "https://mek.oszk.hu/00600/00661/00661.htm\n",
            "https://mek.oszk.hu/05400/05438/05438.htm\n",
            "https://mek.oszk.hu/04500/04533/04533.htm\n",
            "https://mek.oszk.hu/10800/10871/10871.htm\n",
            "https://mek.oszk.hu/05700/05710/05710.htm\n",
            "https://mek.oszk.hu/10500/10570/10570.htm\n",
            "https://mek.oszk.hu/05900/05990/05990.htm\n",
            "https://mek.oszk.hu/06200/06268/06268.htm\n",
            "https://mek.oszk.hu/05400/05404/05404.htm\n",
            "https://mek.oszk.hu/01800/01820/01820.htm\n",
            "https://mek.oszk.hu/06100/06194/06194.htm\n",
            "https://mek.oszk.hu/05300/05397/05397.htm\n",
            "https://mek.oszk.hu/06900/06982/06982.htm\n",
            "https://mek.oszk.hu/09000/09081/09081.htm\n",
            "https://mek.oszk.hu/11200/11242/11242.htm\n",
            "https://mek.oszk.hu/04100/04133/04133.htm\n",
            "https://mek.oszk.hu/07700/07763/07763.htm\n",
            "https://mek.oszk.hu/00600/00662/00662.htm\n",
            "https://mek.oszk.hu/05400/05408/05408.htm\n",
            "https://mek.oszk.hu/14900/14956/14956.htm\n",
            "https://mek.oszk.hu/07000/07031/07031.htm\n",
            "https://mek.oszk.hu/10800/10885/10885.htm\n",
            "https://mek.oszk.hu/05600/05614/05614.htm\n",
            "https://mek.oszk.hu/02700/02749/02749.htm\n",
            "https://mek.oszk.hu/06300/06346/06346.htm\n",
            "https://mek.oszk.hu/10600/10621/10621.htm\n",
            "https://mek.oszk.hu/08000/08035/08035.htm\n",
            "https://mek.oszk.hu/09300/09361/09361.htm\n",
            "https://mek.oszk.hu/05900/05963/05963.htm\n",
            "https://mek.oszk.hu/06000/06063/06063.htm\n",
            "https://mek.oszk.hu/01700/01749/01749.htm\n",
            "https://mek.oszk.hu/04400/04489/04489.htm\n",
            "https://mek.oszk.hu/04600/04600/04600.htm\n",
            "https://mek.oszk.hu/10400/10454/10454.htm\n",
            "https://mek.oszk.hu/07400/07409/07409.htm\n",
            "https://mek.oszk.hu/05200/05297/05297.htm\n",
            "https://mek.oszk.hu/07000/07048/07048.htm\n",
            "https://mek.oszk.hu/03700/03737/03737.htm\n",
            "https://mek.oszk.hu/05700/05766/05766.htm\n",
            "https://mek.oszk.hu/10000/10018/10018.htm\n",
            "https://mek.oszk.hu/04900/04905/04905.htm\n",
            "https://mek.oszk.hu/09400/09475/09475.htm\n",
            "https://mek.oszk.hu/08100/08151/08151.htm\n",
            "https://mek.oszk.hu/11000/11047/11047.htm\n",
            "https://mek.oszk.hu/09100/09113/09113.htm\n",
            "https://mek.oszk.hu/04700/04718/04718.htm\n",
            "https://mek.oszk.hu/11600/11652/11652.htm\n"
          ]
        }
      ]
    },
    {
      "cell_type": "markdown",
      "source": [
        "## Data analysis\n",
        "Count the number of characters from both authors and display them on a plot (e.g. Seaborn's countplot)."
      ],
      "metadata": {
        "id": "U9Pmq91t3SRD"
      }
    },
    {
      "cell_type": "code",
      "source": [
        "labels = [\"Mora\", \"Gardonyi\"]\n",
        "plt.bar(labels, [len(mora_text), len(gardonyi_text)])\n",
        "plt.show"
      ],
      "metadata": {
        "id": "uRqGdn4F3Spk",
        "outputId": "f94540ce-994e-49db-9684-3f0ca5f946ac",
        "colab": {
          "base_uri": "https://localhost:8080/",
          "height": 447
        }
      },
      "execution_count": 3,
      "outputs": [
        {
          "output_type": "execute_result",
          "data": {
            "text/plain": [
              "<function matplotlib.pyplot.show(close=None, block=None)>"
            ]
          },
          "metadata": {},
          "execution_count": 3
        },
        {
          "output_type": "display_data",
          "data": {
            "text/plain": [
              "<Figure size 640x480 with 1 Axes>"
            ],
            "image/png": "[encoded data removed]"
          },
          "metadata": {}
        }
      ]
    },
    {
      "cell_type": "code",
      "source": [
        "mora_text = mora_text[:len(gardonyi_text)]\n",
        "plt.bar(labels, [len(mora_text), len(gardonyi_text)])\n",
        "plt.show"
      ],
      "metadata": {
        "id": "LcWuht_x8LbU",
        "outputId": "7d77ecf8-40c0-4394-92b4-ac75136472fb",
        "colab": {
          "base_uri": "https://localhost:8080/",
          "height": 447
        }
      },
      "execution_count": 4,
      "outputs": [
        {
          "output_type": "execute_result",
          "data": {
            "text/plain": [
              "<function matplotlib.pyplot.show(close=None, block=None)>"
            ]
          },
          "metadata": {},
          "execution_count": 4
        },
        {
          "output_type": "display_data",
          "data": {
            "text/plain": [
              "<Figure size 640x480 with 1 Axes>"
            ],
            "image/png": "[encoded data removed]"
          },
          "metadata": {}
        }
      ]
    },
    {
      "cell_type": "markdown",
      "metadata": {
        "id": "cHyE_ndGIblJ"
      },
      "source": [
        "## Data loading, labeling and preprocessing\n",
        "Load the data and convert the characters into one-hot encodings. Then load the data into a 3D NumPy array, with a shape of\n",
        "\n",
        "* (batch, sequence_length, alphabet_length)\n",
        "\n",
        "where sequence_length=60, and alphabet_length equals to the number of unique characters in both datasets. The sequences should be cut out from the complete dataset by sliding window. You should add 0 and 1 labels to the sequences, according to the author. \n",
        "\n",
        "Later you may change sequence_length to achieve better results!"
      ]
    },
    {
      "cell_type": "code",
      "metadata": {
        "id": "arooXt0WIb6x"
      },
      "source": [
        "chars = sorted(list(set([*set(mora_text), *set(gardonyi_text)])))"
      ],
      "execution_count": 5,
      "outputs": []
    },
    {
      "cell_type": "code",
      "source": [
        "char_indices = dict((c, i) for i, c in enumerate(chars))\n",
        "indices_char = dict((i, c) for i, c in enumerate(chars))"
      ],
      "metadata": {
        "id": "x4FhuKZm9GcH"
      },
      "execution_count": 6,
      "outputs": []
    },
    {
      "cell_type": "code",
      "source": [
        "maxlen  = 60\n",
        "step    = 30\n",
        "sequences  = [] \n",
        "s_author = [] \n",
        "\n",
        "for i in range(0, len(mora_text)-maxlen, step):\n",
        "    sequences.append(mora_text[i:i+maxlen])\n",
        "    sequences.append(gardonyi_text[i:i+maxlen])\n",
        "    s_author.append(0)\n",
        "    s_author.append(1)"
      ],
      "metadata": {
        "id": "niIFL8ZI9Wu6"
      },
      "execution_count": 7,
      "outputs": []
    },
    {
      "cell_type": "code",
      "source": [
        "len(s_author)"
      ],
      "metadata": {
        "id": "JVtOOkXSAVOz",
        "outputId": "03e38932-8705-4bfe-868a-cb341499fc26",
        "colab": {
          "base_uri": "https://localhost:8080/"
        }
      },
      "execution_count": 8,
      "outputs": [
        {
          "output_type": "execute_result",
          "data": {
            "text/plain": [
              "20768"
            ]
          },
          "metadata": {},
          "execution_count": 8
        }
      ]
    },
    {
      "cell_type": "code",
      "source": [
        "X = np.zeros((len(sequences), maxlen, len(chars)))\n",
        "y = np.zeros((len(sequences), 2))"
      ],
      "metadata": {
        "id": "Za8mzFpE_CTj"
      },
      "execution_count": 9,
      "outputs": []
    },
    {
      "cell_type": "code",
      "source": [
        "for i, sequence in enumerate(sequences):\n",
        "    for t, char in enumerate(sequence): \n",
        "        X[i,t,char_indices[char]] = 1\n",
        "    y[i, s_author[i]] = 1"
      ],
      "metadata": {
        "id": "kiRRac4o-rda"
      },
      "execution_count": 10,
      "outputs": []
    },
    {
      "cell_type": "markdown",
      "metadata": {
        "id": "lL1Mc8ibHnep"
      },
      "source": [
        "## Data splitting\n",
        "Split the data into train, validate and test sets. Make "
      ]
    },
    {
      "cell_type": "code",
      "source": [
        "X_train, X_test, y_train, y_test = train_test_split(X, y, test_size=0.2, random_state=1)\n",
        "X_train, X_val, y_train, y_val = train_test_split(X_train, y_train, test_size=0.25, random_state=1) # 0.25 x 0.8 = 0.2"
      ],
      "metadata": {
        "id": "GLvDm48y_Dri"
      },
      "execution_count": 11,
      "outputs": []
    },
    {
      "cell_type": "markdown",
      "metadata": {
        "id": "hA8U9tr7HrNQ"
      },
      "source": [
        "## Model definition\n",
        "Define a 1D CNN or an LSTM for the task. Compile the model with the correct loss function."
      ]
    },
    {
      "cell_type": "code",
      "metadata": {
        "id": "BT1V1s4kHuUe"
      },
      "source": [
        "model = Sequential()\n",
        "model.add(LSTM(64, input_shape=(X_train.shape[1:]))) # (batch, 128)\n",
        "model.add(BatchNormalization())\n",
        "model.add(Dense(len(chars)))\n",
        "model.add(Dense(2))\n",
        "\n",
        "model.compile(loss='binary_crossentropy', optimizer='adam', metrics=['accuracy'])"
      ],
      "execution_count": 17,
      "outputs": []
    },
    {
      "cell_type": "markdown",
      "metadata": {
        "id": "hWFb-nAMHuAI"
      },
      "source": [
        "## Model training\n",
        "Train the model and apply early stopping."
      ]
    },
    {
      "cell_type": "code",
      "metadata": {
        "id": "dvgKjqp3Hwkp",
        "outputId": "3f5a0f2e-90e0-48bc-f497-215bc8aca733",
        "colab": {
          "base_uri": "https://localhost:8080/"
        }
      },
      "source": [
        "es = EarlyStopping(monitor='val_loss', patience=15)\n",
        "model.fit(\n",
        "    X_train, \n",
        "    y_train, \n",
        "    batch_size=1024, \n",
        "    epochs=1000, \n",
        "    validation_data=(X_val, y_val), \n",
        "    callbacks=[es])"
      ],
      "execution_count": 18,
      "outputs": [
        {
          "output_type": "stream",
          "name": "stdout",
          "text": [
            "Epoch 1/1000\n",
            "13/13 [==============================] - 12s 651ms/step - loss: 4.3963 - accuracy: 0.5365 - val_loss: 1.2010 - val_accuracy: 0.5255\n",
            "Epoch 2/1000\n",
            "13/13 [==============================] - 6s 460ms/step - loss: 3.6467 - accuracy: 0.5595 - val_loss: 1.1199 - val_accuracy: 0.5400\n",
            "Epoch 3/1000\n",
            "13/13 [==============================] - 8s 602ms/step - loss: 3.7305 - accuracy: 0.5537 - val_loss: 1.0310 - val_accuracy: 0.5477\n",
            "Epoch 4/1000\n",
            "13/13 [==============================] - 6s 504ms/step - loss: 3.6127 - accuracy: 0.5550 - val_loss: 1.0297 - val_accuracy: 0.5467\n",
            "Epoch 5/1000\n",
            "13/13 [==============================] - 7s 542ms/step - loss: 3.5045 - accuracy: 0.5559 - val_loss: 0.9538 - val_accuracy: 0.5513\n",
            "Epoch 6/1000\n",
            "13/13 [==============================] - 8s 626ms/step - loss: 3.3022 - accuracy: 0.5605 - val_loss: 0.8632 - val_accuracy: 0.5496\n",
            "Epoch 7/1000\n",
            "13/13 [==============================] - 6s 466ms/step - loss: 3.3890 - accuracy: 0.5576 - val_loss: 0.8107 - val_accuracy: 0.5443\n",
            "Epoch 8/1000\n",
            "13/13 [==============================] - 8s 605ms/step - loss: 3.2623 - accuracy: 0.5528 - val_loss: 0.7684 - val_accuracy: 0.5534\n",
            "Epoch 9/1000\n",
            "13/13 [==============================] - 6s 500ms/step - loss: 3.0307 - accuracy: 0.5577 - val_loss: 0.7175 - val_accuracy: 0.5703\n",
            "Epoch 10/1000\n",
            "13/13 [==============================] - 7s 570ms/step - loss: 3.0778 - accuracy: 0.5632 - val_loss: 0.6977 - val_accuracy: 0.5809\n",
            "Epoch 11/1000\n",
            "13/13 [==============================] - 7s 510ms/step - loss: 2.8515 - accuracy: 0.5759 - val_loss: 0.6833 - val_accuracy: 0.5970\n",
            "Epoch 12/1000\n",
            "13/13 [==============================] - 8s 605ms/step - loss: 2.5924 - accuracy: 0.6001 - val_loss: 0.6761 - val_accuracy: 0.6062\n",
            "Epoch 13/1000\n",
            "13/13 [==============================] - 6s 499ms/step - loss: 2.3195 - accuracy: 0.6168 - val_loss: 0.6679 - val_accuracy: 0.6163\n",
            "Epoch 14/1000\n",
            "13/13 [==============================] - 8s 609ms/step - loss: 2.1065 - accuracy: 0.6307 - val_loss: 0.6668 - val_accuracy: 0.6093\n",
            "Epoch 15/1000\n",
            "13/13 [==============================] - 6s 504ms/step - loss: 1.9005 - accuracy: 0.6447 - val_loss: 0.6577 - val_accuracy: 0.6298\n",
            "Epoch 16/1000\n",
            "13/13 [==============================] - 7s 509ms/step - loss: 1.8370 - accuracy: 0.6545 - val_loss: 0.6575 - val_accuracy: 0.6314\n",
            "Epoch 17/1000\n",
            "13/13 [==============================] - 6s 507ms/step - loss: 1.5948 - accuracy: 0.6469 - val_loss: 0.6864 - val_accuracy: 0.6182\n",
            "Epoch 18/1000\n",
            "13/13 [==============================] - 7s 528ms/step - loss: 1.4257 - accuracy: 0.6012 - val_loss: 0.6974 - val_accuracy: 0.6006\n",
            "Epoch 19/1000\n",
            "13/13 [==============================] - 8s 637ms/step - loss: 1.1687 - accuracy: 0.6007 - val_loss: 0.6750 - val_accuracy: 0.5855\n",
            "Epoch 20/1000\n",
            "13/13 [==============================] - 6s 461ms/step - loss: 0.9164 - accuracy: 0.6533 - val_loss: 0.6618 - val_accuracy: 0.6452\n",
            "Epoch 21/1000\n",
            "13/13 [==============================] - 8s 611ms/step - loss: 0.7015 - accuracy: 0.6612 - val_loss: 0.6579 - val_accuracy: 0.6637\n",
            "Epoch 22/1000\n",
            "13/13 [==============================] - 6s 465ms/step - loss: 0.6398 - accuracy: 0.6705 - val_loss: 0.6380 - val_accuracy: 0.6714\n",
            "Epoch 23/1000\n",
            "13/13 [==============================] - 7s 568ms/step - loss: 0.6113 - accuracy: 0.6813 - val_loss: 0.6418 - val_accuracy: 0.6678\n",
            "Epoch 24/1000\n",
            "13/13 [==============================] - 6s 502ms/step - loss: 0.5886 - accuracy: 0.6831 - val_loss: 0.6545 - val_accuracy: 0.6300\n",
            "Epoch 25/1000\n",
            "13/13 [==============================] - 8s 610ms/step - loss: 0.5750 - accuracy: 0.6819 - val_loss: 0.6278 - val_accuracy: 0.5961\n",
            "Epoch 26/1000\n",
            "13/13 [==============================] - 6s 496ms/step - loss: 0.5710 - accuracy: 0.6842 - val_loss: 0.6221 - val_accuracy: 0.6196\n",
            "Epoch 27/1000\n",
            "13/13 [==============================] - 8s 601ms/step - loss: 0.5657 - accuracy: 0.6868 - val_loss: 0.6189 - val_accuracy: 0.6355\n",
            "Epoch 28/1000\n",
            "13/13 [==============================] - 6s 492ms/step - loss: 0.5630 - accuracy: 0.6849 - val_loss: 0.6120 - val_accuracy: 0.6411\n",
            "Epoch 29/1000\n",
            "13/13 [==============================] - 8s 600ms/step - loss: 0.5588 - accuracy: 0.6904 - val_loss: 0.6029 - val_accuracy: 0.6570\n",
            "Epoch 30/1000\n",
            "13/13 [==============================] - 7s 511ms/step - loss: 0.5569 - accuracy: 0.6911 - val_loss: 0.6035 - val_accuracy: 0.6700\n",
            "Epoch 31/1000\n",
            "13/13 [==============================] - 7s 512ms/step - loss: 0.5551 - accuracy: 0.6929 - val_loss: 0.5998 - val_accuracy: 0.6803\n",
            "Epoch 32/1000\n",
            "13/13 [==============================] - 8s 610ms/step - loss: 0.5535 - accuracy: 0.6962 - val_loss: 0.5950 - val_accuracy: 0.6880\n",
            "Epoch 33/1000\n",
            "13/13 [==============================] - 7s 511ms/step - loss: 0.5510 - accuracy: 0.6973 - val_loss: 0.5818 - val_accuracy: 0.6683\n",
            "Epoch 34/1000\n",
            "13/13 [==============================] - 8s 614ms/step - loss: 0.5480 - accuracy: 0.6941 - val_loss: 0.5833 - val_accuracy: 0.6625\n",
            "Epoch 35/1000\n",
            "13/13 [==============================] - 6s 502ms/step - loss: 0.5468 - accuracy: 0.6941 - val_loss: 0.5761 - val_accuracy: 0.6678\n",
            "Epoch 36/1000\n",
            "13/13 [==============================] - 8s 615ms/step - loss: 0.5454 - accuracy: 0.6973 - val_loss: 0.5720 - val_accuracy: 0.6765\n",
            "Epoch 37/1000\n",
            "13/13 [==============================] - 6s 505ms/step - loss: 0.5446 - accuracy: 0.6967 - val_loss: 0.5678 - val_accuracy: 0.6726\n",
            "Epoch 38/1000\n",
            "13/13 [==============================] - 7s 577ms/step - loss: 0.5426 - accuracy: 0.6986 - val_loss: 0.5657 - val_accuracy: 0.6709\n",
            "Epoch 39/1000\n",
            "13/13 [==============================] - 7s 506ms/step - loss: 0.5413 - accuracy: 0.6966 - val_loss: 0.5631 - val_accuracy: 0.6762\n",
            "Epoch 40/1000\n",
            "13/13 [==============================] - 8s 599ms/step - loss: 0.5401 - accuracy: 0.6977 - val_loss: 0.5595 - val_accuracy: 0.6796\n",
            "Epoch 41/1000\n",
            "13/13 [==============================] - 6s 505ms/step - loss: 0.5389 - accuracy: 0.6966 - val_loss: 0.5571 - val_accuracy: 0.6832\n",
            "Epoch 42/1000\n",
            "13/13 [==============================] - 7s 508ms/step - loss: 0.5380 - accuracy: 0.6983 - val_loss: 0.5546 - val_accuracy: 0.6820\n",
            "Epoch 43/1000\n",
            "13/13 [==============================] - 7s 511ms/step - loss: 0.5370 - accuracy: 0.6990 - val_loss: 0.5526 - val_accuracy: 0.6818\n",
            "Epoch 44/1000\n",
            "13/13 [==============================] - 7s 496ms/step - loss: 0.5359 - accuracy: 0.7001 - val_loss: 0.5497 - val_accuracy: 0.6885\n",
            "Epoch 45/1000\n",
            "13/13 [==============================] - 7s 524ms/step - loss: 0.5350 - accuracy: 0.7013 - val_loss: 0.5483 - val_accuracy: 0.6897\n",
            "Epoch 46/1000\n",
            "13/13 [==============================] - 7s 526ms/step - loss: 0.5345 - accuracy: 0.7001 - val_loss: 0.5467 - val_accuracy: 0.6902\n",
            "Epoch 47/1000\n",
            "13/13 [==============================] - 7s 582ms/step - loss: 0.5332 - accuracy: 0.6989 - val_loss: 0.5466 - val_accuracy: 0.6938\n",
            "Epoch 48/1000\n",
            "13/13 [==============================] - 6s 506ms/step - loss: 0.5323 - accuracy: 0.6999 - val_loss: 0.5440 - val_accuracy: 0.6899\n",
            "Epoch 49/1000\n",
            "13/13 [==============================] - 8s 591ms/step - loss: 0.5316 - accuracy: 0.6986 - val_loss: 0.5434 - val_accuracy: 0.6916\n",
            "Epoch 50/1000\n",
            "13/13 [==============================] - 6s 468ms/step - loss: 0.5309 - accuracy: 0.7007 - val_loss: 0.5422 - val_accuracy: 0.6943\n",
            "Epoch 51/1000\n",
            "13/13 [==============================] - 8s 616ms/step - loss: 0.5296 - accuracy: 0.7006 - val_loss: 0.5416 - val_accuracy: 0.6979\n",
            "Epoch 52/1000\n",
            "13/13 [==============================] - 6s 466ms/step - loss: 0.5291 - accuracy: 0.7024 - val_loss: 0.5413 - val_accuracy: 0.6976\n",
            "Epoch 53/1000\n",
            "13/13 [==============================] - 8s 610ms/step - loss: 0.5280 - accuracy: 0.7039 - val_loss: 0.5419 - val_accuracy: 0.6984\n",
            "Epoch 54/1000\n",
            "13/13 [==============================] - 7s 507ms/step - loss: 0.5281 - accuracy: 0.7010 - val_loss: 0.5406 - val_accuracy: 0.6986\n",
            "Epoch 55/1000\n",
            "13/13 [==============================] - 8s 620ms/step - loss: 0.5272 - accuracy: 0.7024 - val_loss: 0.5396 - val_accuracy: 0.6974\n",
            "Epoch 56/1000\n",
            "13/13 [==============================] - 7s 510ms/step - loss: 0.5264 - accuracy: 0.7024 - val_loss: 0.5403 - val_accuracy: 0.6984\n",
            "Epoch 57/1000\n",
            "13/13 [==============================] - 8s 586ms/step - loss: 0.5261 - accuracy: 0.7031 - val_loss: 0.5391 - val_accuracy: 0.6981\n",
            "Epoch 58/1000\n",
            "13/13 [==============================] - 7s 532ms/step - loss: 0.5250 - accuracy: 0.7026 - val_loss: 0.5391 - val_accuracy: 0.6986\n",
            "Epoch 59/1000\n",
            "13/13 [==============================] - 7s 497ms/step - loss: 0.5252 - accuracy: 0.7016 - val_loss: 0.5408 - val_accuracy: 0.6988\n",
            "Epoch 60/1000\n",
            "13/13 [==============================] - 8s 645ms/step - loss: 0.5246 - accuracy: 0.7029 - val_loss: 0.5393 - val_accuracy: 0.6998\n",
            "Epoch 61/1000\n",
            "13/13 [==============================] - 7s 510ms/step - loss: 0.5237 - accuracy: 0.7037 - val_loss: 0.5386 - val_accuracy: 0.6988\n",
            "Epoch 62/1000\n",
            "13/13 [==============================] - 10s 826ms/step - loss: 0.5241 - accuracy: 0.7037 - val_loss: 0.5387 - val_accuracy: 0.6988\n",
            "Epoch 63/1000\n",
            "13/13 [==============================] - 11s 873ms/step - loss: 0.5229 - accuracy: 0.7030 - val_loss: 0.5394 - val_accuracy: 0.6986\n",
            "Epoch 64/1000\n",
            "13/13 [==============================] - 6s 502ms/step - loss: 0.5226 - accuracy: 0.7039 - val_loss: 0.5376 - val_accuracy: 0.6979\n",
            "Epoch 65/1000\n",
            "13/13 [==============================] - 8s 612ms/step - loss: 0.5222 - accuracy: 0.7044 - val_loss: 0.5377 - val_accuracy: 0.6979\n",
            "Epoch 66/1000\n",
            "13/13 [==============================] - 6s 501ms/step - loss: 0.5219 - accuracy: 0.7062 - val_loss: 0.5358 - val_accuracy: 0.6981\n",
            "Epoch 67/1000\n",
            "13/13 [==============================] - 8s 598ms/step - loss: 0.5218 - accuracy: 0.7036 - val_loss: 0.5364 - val_accuracy: 0.6986\n",
            "Epoch 68/1000\n",
            "13/13 [==============================] - 6s 504ms/step - loss: 0.5218 - accuracy: 0.7032 - val_loss: 0.5355 - val_accuracy: 0.6976\n",
            "Epoch 69/1000\n",
            "13/13 [==============================] - 7s 511ms/step - loss: 0.5209 - accuracy: 0.7063 - val_loss: 0.5366 - val_accuracy: 0.6981\n",
            "Epoch 70/1000\n",
            "13/13 [==============================] - 7s 509ms/step - loss: 0.5205 - accuracy: 0.7051 - val_loss: 0.5411 - val_accuracy: 0.6988\n",
            "Epoch 71/1000\n",
            "13/13 [==============================] - 7s 533ms/step - loss: 0.5207 - accuracy: 0.7050 - val_loss: 0.5388 - val_accuracy: 0.6988\n",
            "Epoch 72/1000\n",
            "13/13 [==============================] - 8s 653ms/step - loss: 0.5199 - accuracy: 0.7057 - val_loss: 0.5433 - val_accuracy: 0.6993\n",
            "Epoch 73/1000\n",
            "13/13 [==============================] - 6s 467ms/step - loss: 0.5200 - accuracy: 0.7060 - val_loss: 0.5379 - val_accuracy: 0.6979\n",
            "Epoch 74/1000\n",
            "13/13 [==============================] - 8s 613ms/step - loss: 0.5195 - accuracy: 0.7060 - val_loss: 0.5380 - val_accuracy: 0.6981\n",
            "Epoch 75/1000\n",
            "13/13 [==============================] - 6s 502ms/step - loss: 0.5190 - accuracy: 0.7057 - val_loss: 0.5383 - val_accuracy: 0.6981\n",
            "Epoch 76/1000\n",
            "13/13 [==============================] - 8s 647ms/step - loss: 0.5189 - accuracy: 0.7050 - val_loss: 0.5470 - val_accuracy: 0.7000\n",
            "Epoch 77/1000\n",
            "13/13 [==============================] - 6s 501ms/step - loss: 0.5186 - accuracy: 0.7075 - val_loss: 0.5388 - val_accuracy: 0.6984\n",
            "Epoch 78/1000\n",
            "13/13 [==============================] - 8s 614ms/step - loss: 0.5184 - accuracy: 0.7072 - val_loss: 0.5338 - val_accuracy: 0.6960\n",
            "Epoch 79/1000\n",
            "13/13 [==============================] - 6s 500ms/step - loss: 0.5180 - accuracy: 0.7062 - val_loss: 0.5344 - val_accuracy: 0.6981\n",
            "Epoch 80/1000\n",
            "13/13 [==============================] - 7s 559ms/step - loss: 0.5178 - accuracy: 0.7069 - val_loss: 0.5367 - val_accuracy: 0.6972\n",
            "Epoch 81/1000\n",
            "13/13 [==============================] - 12s 986ms/step - loss: 0.5181 - accuracy: 0.7062 - val_loss: 0.5380 - val_accuracy: 0.6969\n",
            "Epoch 82/1000\n",
            "13/13 [==============================] - 11s 826ms/step - loss: 0.5178 - accuracy: 0.7059 - val_loss: 0.5341 - val_accuracy: 0.6974\n",
            "Epoch 83/1000\n",
            "13/13 [==============================] - 6s 505ms/step - loss: 0.5181 - accuracy: 0.7053 - val_loss: 0.5327 - val_accuracy: 0.6916\n",
            "Epoch 84/1000\n",
            "13/13 [==============================] - 8s 619ms/step - loss: 0.5173 - accuracy: 0.7067 - val_loss: 0.5326 - val_accuracy: 0.6950\n",
            "Epoch 85/1000\n",
            "13/13 [==============================] - 9s 718ms/step - loss: 0.5172 - accuracy: 0.7072 - val_loss: 0.5331 - val_accuracy: 0.6938\n",
            "Epoch 86/1000\n",
            "13/13 [==============================] - 7s 531ms/step - loss: 0.5167 - accuracy: 0.7060 - val_loss: 0.5346 - val_accuracy: 0.6960\n",
            "Epoch 87/1000\n",
            "13/13 [==============================] - 7s 562ms/step - loss: 0.5173 - accuracy: 0.7057 - val_loss: 0.5341 - val_accuracy: 0.6957\n",
            "Epoch 88/1000\n",
            "13/13 [==============================] - 7s 504ms/step - loss: 0.5166 - accuracy: 0.7079 - val_loss: 0.5343 - val_accuracy: 0.6960\n",
            "Epoch 89/1000\n",
            "13/13 [==============================] - 7s 589ms/step - loss: 0.5159 - accuracy: 0.7072 - val_loss: 0.5364 - val_accuracy: 0.6960\n",
            "Epoch 90/1000\n",
            "13/13 [==============================] - 6s 465ms/step - loss: 0.5160 - accuracy: 0.7075 - val_loss: 0.5384 - val_accuracy: 0.6979\n",
            "Epoch 91/1000\n",
            "13/13 [==============================] - 8s 614ms/step - loss: 0.5159 - accuracy: 0.7085 - val_loss: 0.5380 - val_accuracy: 0.6969\n",
            "Epoch 92/1000\n",
            "13/13 [==============================] - 6s 503ms/step - loss: 0.5161 - accuracy: 0.7069 - val_loss: 0.5324 - val_accuracy: 0.6928\n",
            "Epoch 93/1000\n",
            "13/13 [==============================] - 8s 611ms/step - loss: 0.5158 - accuracy: 0.7060 - val_loss: 0.5320 - val_accuracy: 0.6926\n",
            "Epoch 94/1000\n",
            "13/13 [==============================] - 6s 505ms/step - loss: 0.5154 - accuracy: 0.7055 - val_loss: 0.5327 - val_accuracy: 0.6950\n",
            "Epoch 95/1000\n",
            "13/13 [==============================] - 8s 650ms/step - loss: 0.5150 - accuracy: 0.7080 - val_loss: 0.5320 - val_accuracy: 0.6931\n",
            "Epoch 96/1000\n",
            "13/13 [==============================] - 6s 469ms/step - loss: 0.5153 - accuracy: 0.7076 - val_loss: 0.5351 - val_accuracy: 0.6948\n",
            "Epoch 97/1000\n",
            "13/13 [==============================] - 7s 550ms/step - loss: 0.5155 - accuracy: 0.7088 - val_loss: 0.5369 - val_accuracy: 0.6957\n",
            "Epoch 98/1000\n",
            "13/13 [==============================] - 7s 515ms/step - loss: 0.5145 - accuracy: 0.7083 - val_loss: 0.5378 - val_accuracy: 0.6962\n",
            "Epoch 99/1000\n",
            "13/13 [==============================] - 7s 557ms/step - loss: 0.5150 - accuracy: 0.7083 - val_loss: 0.5384 - val_accuracy: 0.6962\n",
            "Epoch 100/1000\n",
            "13/13 [==============================] - 9s 709ms/step - loss: 0.5148 - accuracy: 0.7091 - val_loss: 0.5363 - val_accuracy: 0.6952\n",
            "Epoch 101/1000\n",
            "13/13 [==============================] - 7s 503ms/step - loss: 0.5146 - accuracy: 0.7079 - val_loss: 0.5375 - val_accuracy: 0.6957\n",
            "Epoch 102/1000\n",
            "13/13 [==============================] - 8s 611ms/step - loss: 0.5144 - accuracy: 0.7083 - val_loss: 0.5337 - val_accuracy: 0.6931\n",
            "Epoch 103/1000\n",
            "13/13 [==============================] - 6s 503ms/step - loss: 0.5139 - accuracy: 0.7090 - val_loss: 0.5331 - val_accuracy: 0.6923\n",
            "Epoch 104/1000\n",
            "13/13 [==============================] - 8s 614ms/step - loss: 0.5138 - accuracy: 0.7095 - val_loss: 0.5347 - val_accuracy: 0.6938\n",
            "Epoch 105/1000\n",
            "13/13 [==============================] - 6s 499ms/step - loss: 0.5140 - accuracy: 0.7087 - val_loss: 0.5340 - val_accuracy: 0.6943\n",
            "Epoch 106/1000\n",
            "13/13 [==============================] - 7s 563ms/step - loss: 0.5141 - accuracy: 0.7092 - val_loss: 0.5405 - val_accuracy: 0.6974\n",
            "Epoch 107/1000\n",
            "13/13 [==============================] - 6s 471ms/step - loss: 0.5132 - accuracy: 0.7103 - val_loss: 0.5338 - val_accuracy: 0.6933\n",
            "Epoch 108/1000\n",
            "13/13 [==============================] - 8s 580ms/step - loss: 0.5134 - accuracy: 0.7086 - val_loss: 0.5321 - val_accuracy: 0.6904\n"
          ]
        },
        {
          "output_type": "execute_result",
          "data": {
            "text/plain": [
              "<keras.callbacks.History at 0x7efca15d3ca0>"
            ]
          },
          "metadata": {},
          "execution_count": 18
        }
      ]
    },
    {
      "cell_type": "markdown",
      "metadata": {
        "id": "0omw2XzSHwOo"
      },
      "source": [
        "## Evaluation on test data\n",
        "Evaluate the model on the test data in terms of loss and accuracy."
      ]
    },
    {
      "cell_type": "code",
      "metadata": {
        "id": "4bF3dQA1Hv_R",
        "outputId": "1161378f-fd92-4d93-eec8-b1c96b4838cb",
        "colab": {
          "base_uri": "https://localhost:8080/"
        }
      },
      "source": [
        "loss, accuracy = model.evaluate(X_test, y_test)"
      ],
      "execution_count": 20,
      "outputs": [
        {
          "output_type": "stream",
          "name": "stdout",
          "text": [
            "130/130 [==============================] - 5s 37ms/step - loss: 0.5448 - accuracy: 0.6805\n"
          ]
        }
      ]
    },
    {
      "cell_type": "markdown",
      "metadata": {
        "id": "4Y73Q-h5Hz1r"
      },
      "source": [
        "## Confusion matrix\n",
        "Calculate and display the confusion matrix."
      ]
    },
    {
      "cell_type": "code",
      "metadata": {
        "id": "cW8zZi1uJm2B",
        "outputId": "713e90cc-2c03-45b3-e34a-1391be0a7a88",
        "colab": {
          "base_uri": "https://localhost:8080/"
        }
      },
      "source": [
        "preds = model.predict(X_test)"
      ],
      "execution_count": 21,
      "outputs": [
        {
          "output_type": "stream",
          "name": "stdout",
          "text": [
            "130/130 [==============================] - 2s 14ms/step\n"
          ]
        }
      ]
    },
    {
      "cell_type": "code",
      "source": [
        "conf=confusion_matrix(np.argmax(y_test,1),np.argmax(preds,1))\n",
        "sns.heatmap(conf, annot=True, fmt='d', vmin=100)"
      ],
      "metadata": {
        "id": "O3RUcm59xZpt",
        "outputId": "3b3d46e0-42ff-4f19-8d85-8165e0f117bf",
        "colab": {
          "base_uri": "https://localhost:8080/",
          "height": 447
        }
      },
      "execution_count": 27,
      "outputs": [
        {
          "output_type": "execute_result",
          "data": {
            "text/plain": [
              "<Axes: >"
            ]
          },
          "metadata": {},
          "execution_count": 27
        },
        {
          "output_type": "display_data",
          "data": {
            "text/plain": [
              "<Figure size 640x480 with 2 Axes>"
            ],
            "image/png": "[encoded data removed]"
          },
          "metadata": {}
        }
      ]
    }
  ]
}