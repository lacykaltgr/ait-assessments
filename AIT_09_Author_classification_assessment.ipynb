{
  "nbformat": 4,
  "nbformat_minor": 0,
  "metadata": {
    "kernelspec": {
      "display_name": "Python 3",
      "language": "python",
      "name": "python3"
    },
    "language_info": {
      "codemirror_mode": {
        "name": "ipython",
        "version": 3
      },
      "file_extension": ".py",
      "mimetype": "text/x-python",
      "name": "python",
      "nbconvert_exporter": "python",
      "pygments_lexer": "ipython3",
      "version": "3.6.6"
    },
    "colab": {
      "provenance": [],
      "include_colab_link": true
    }
  },
  "cells": [
    {
      "cell_type": "markdown",
      "metadata": {
        "id": "view-in-github",
        "colab_type": "text"
      },
      "source": [
        "<a href=\"https://colab.research.google.com/github/lacykaltgr/ait-assessments/blob/main/AIT_09_Author_classification_assessment.ipynb\" target=\"_parent\"><img src=\"https://colab.research.google.com/assets/colab-badge.svg\" alt=\"Open In Colab\"/></a>"
      ]
    },
    {
      "cell_type": "markdown",
      "metadata": {
        "id": "_jiGtJu6u9ml"
      },
      "source": [
        "# Copyright\n",
        "\n",
        "<PRE>\n",
        "Copyright (c) 2023 Bálint Gyires-Tóth - All Rights Reserved\n",
        "You may use and modify this code for research and development purpuses.\n",
        "Use this code for educational purposes (self-paced or instructor led) without the permission of the author is prohibited.\n",
        "</PRE>"
      ]
    },
    {
      "cell_type": "markdown",
      "metadata": {
        "id": "oXyFC44jV-PP"
      },
      "source": [
        "# Author classification\n",
        "The task is to train a 1D CNN or an LSTM that is able to  classify text from two authors. The final model should be able to tell about a text with a given length (e.g. 60 characters) who wrote it. \n",
        "\n",
        "Please write the codes according to the following parts:"
      ]
    },
    {
      "cell_type": "markdown",
      "metadata": {
        "id": "jCnLoeGrHXsp"
      },
      "source": [
        "## Python module imports\n",
        "Import all Python modules that you would need during the Assignment."
      ]
    },
    {
      "cell_type": "code",
      "metadata": {
        "id": "7itbFGt3HXVT"
      },
      "source": [
        "import requests\n",
        "from bs4 import BeautifulSoup\n",
        "\n",
        "import matplotlib.pyplot as plt\n",
        "\n",
        "import numpy as np\n",
        "from sklearn.model_selection import train_test_split\n",
        "\n",
        "from tensorflow.keras.models import Sequential\n",
        "from tensorflow.keras.layers import Dense, Activation, Dropout, BatchNormalization\n",
        "from tensorflow.keras.layers import LSTM\n",
        "from tensorflow.keras.optimizers import Adam\n",
        "from tensorflow.keras.callbacks import EarlyStopping"
      ],
      "execution_count": 44,
      "outputs": []
    },
    {
      "cell_type": "markdown",
      "metadata": {
        "id": "Hr617tEpHd8R"
      },
      "source": [
        "## Data acquisition\n",
        "Seek a possible dataset, you can use any source, e.g.\n",
        "* http://www.gutenberg.org/\n",
        "* https://www.kaggle.com/datasets\n",
        "* https://paperswithcode.com/datasets\n",
        "* if you would like to learn Hungarian, than e.g. https://mek.oszk.hu/\n",
        "\n",
        "You can download the text by hand (e.g. by copy-pasting some parts into txt files) or with Python. "
      ]
    },
    {
      "cell_type": "code",
      "metadata": {
        "id": "NgkdQxHqHdZB",
        "outputId": "1dfe4c36-9614-44bc-d2fc-1c0158ef558e",
        "colab": {
          "base_uri": "https://localhost:8080/"
        }
      },
      "source": [
        "def get_books(author: str):\n",
        "    author_name = author.replace(\" \", \"+\")\n",
        "    url = f\"https://mek.oszk.hu/kereses.mhtml?dc_creator={author_name}&dc_title=&dc_subject=&sort=rk_szerzo%2Crk_uniform&id=&Image3.x=0&Image3.y=0\"\n",
        "    response = requests.get(url)\n",
        "    soup = BeautifulSoup(response.content, \"html.parser\")\n",
        "    books = []\n",
        "    for tag in soup.find_all('a'):\n",
        "      for br in tag.find_all('br'):\n",
        "          next_s = br.next_sibling\n",
        "          if not (next_s and isinstance(next_s, str)):\n",
        "              continue\n",
        "          text = next_s.strip()\n",
        "          if text[:5] == \"https\":\n",
        "            books.append(f'{text}/{text.split(\"/\")[-1]}.htm')\n",
        "    return books\n",
        "\n",
        "def get_text(books):\n",
        "  text = \"\"\n",
        "  for book in books:\n",
        "    response = requests.get(book)\n",
        "    soup = BeautifulSoup(response.content, \"html.parser\")\n",
        "    print(book)\n",
        "    for p in soup.find_all('p', {'align': 'justify'}):\n",
        "        text += \" \" + p.text.strip()\n",
        "  return text\n",
        "\n",
        "\n",
        "mora_books = get_books(\"Mora Ferenc\")\n",
        "gardonyi_books = get_books(\"Gardonyi Geza\")\n",
        "if 'https://mek.oszk.hu/04800/04851/04851.htm' in gardonyi_books:\n",
        "  gardonyi_books.remove('https://mek.oszk.hu/04800/04851/04851.htm')\n",
        "mora_text = get_text(mora_books)\n",
        "gardonyi_text = get_text(gardonyi_books)"
      ],
      "execution_count": 5,
      "outputs": [
        {
          "output_type": "stream",
          "name": "stdout",
          "text": [
            "https://mek.oszk.hu/00600/00685/00685.htm\n",
            "https://mek.oszk.hu/00900/00961/00961.htm\n",
            "https://mek.oszk.hu/05900/05900/05900.htm\n",
            "https://mek.oszk.hu/03300/03305/03305.htm\n",
            "https://mek.oszk.hu/05100/05156/05156.htm\n",
            "https://mek.oszk.hu/09500/09530/09530.htm\n",
            "https://mek.oszk.hu/08000/08016/08016.htm\n",
            "https://mek.oszk.hu/00900/00963/00963.htm\n",
            "https://mek.oszk.hu/09500/09578/09578.htm\n",
            "https://mek.oszk.hu/05300/05322/05322.htm\n",
            "https://mek.oszk.hu/08100/08182/08182.htm\n",
            "https://mek.oszk.hu/00900/00964/00964.htm\n",
            "https://mek.oszk.hu/00900/00965/00965.htm\n",
            "https://mek.oszk.hu/24400/24460/24460.htm\n",
            "https://mek.oszk.hu/08600/08624/08624.htm\n",
            "https://mek.oszk.hu/00900/00962/00962.htm\n",
            "https://mek.oszk.hu/15500/15573/15573.htm\n",
            "https://mek.oszk.hu/02500/02568/02568.htm\n",
            "https://mek.oszk.hu/00900/00966/00966.htm\n",
            "https://mek.oszk.hu/05300/05355/05355.htm\n",
            "https://mek.oszk.hu/00900/00967/00967.htm\n",
            "https://mek.oszk.hu/05200/05283/05283.htm\n",
            "https://mek.oszk.hu/24500/24579/24579.htm\n",
            "https://mek.oszk.hu/00900/00968/00968.htm\n",
            "https://mek.oszk.hu/15500/15574/15574.htm\n",
            "https://mek.oszk.hu/00900/00978/00978.htm\n",
            "https://mek.oszk.hu/08600/08652/08652.htm\n",
            "https://mek.oszk.hu/00900/00970/00970.htm\n",
            "https://mek.oszk.hu/09900/09931/09931.htm\n",
            "https://mek.oszk.hu/05800/05819/05819.htm\n",
            "https://mek.oszk.hu/00900/00971/00971.htm\n",
            "https://mek.oszk.hu/08600/08628/08628.htm\n",
            "https://mek.oszk.hu/00900/00972/00972.htm\n",
            "https://mek.oszk.hu/06000/06060/06060.htm\n",
            "https://mek.oszk.hu/06000/06067/06067.htm\n",
            "https://mek.oszk.hu/00900/00969/00969.htm\n",
            "https://mek.oszk.hu/05900/05901/05901.htm\n",
            "https://mek.oszk.hu/00900/00973/00973.htm\n",
            "https://mek.oszk.hu/15500/15575/15575.htm\n",
            "https://mek.oszk.hu/05100/05188/05188.htm\n",
            "https://mek.oszk.hu/05100/05137/05137.htm\n",
            "https://mek.oszk.hu/00900/00976/00976.htm\n",
            "https://mek.oszk.hu/10200/10222/10222.htm\n",
            "https://mek.oszk.hu/15000/15021/15021.htm\n",
            "https://mek.oszk.hu/00900/00977/00977.htm\n",
            "https://mek.oszk.hu/08600/08630/08630.htm\n",
            "https://mek.oszk.hu/03900/03985/03985.htm\n",
            "https://mek.oszk.hu/15200/15274/15274.htm\n",
            "https://mek.oszk.hu/00900/00974/00974.htm\n",
            "https://mek.oszk.hu/04800/04813/04813.htm\n",
            "https://mek.oszk.hu/00900/00975/00975.htm\n",
            "https://mek.oszk.hu/11100/11135/11135.htm\n",
            "https://mek.oszk.hu/10200/10249/10249.htm\n",
            "https://mek.oszk.hu/06600/06683/06683.htm\n",
            "https://mek.oszk.hu/01900/01998/01998.htm\n",
            "https://mek.oszk.hu/05000/05062/05062.htm\n",
            "https://mek.oszk.hu/04500/04546/04546.htm\n",
            "https://mek.oszk.hu/05500/05574/05574.htm\n",
            "https://mek.oszk.hu/10800/10896/10896.htm\n",
            "https://mek.oszk.hu/04700/04722/04722.htm\n",
            "https://mek.oszk.hu/04700/04743/04743.htm\n",
            "https://mek.oszk.hu/06100/06178/06178.htm\n",
            "https://mek.oszk.hu/04500/04506/04506.htm\n",
            "https://mek.oszk.hu/16500/16549/16549.htm\n",
            "https://mek.oszk.hu/04700/04725/04725.htm\n",
            "https://mek.oszk.hu/04400/04484/04484.htm\n",
            "https://mek.oszk.hu/05700/05712/05712.htm\n",
            "https://mek.oszk.hu/09300/09387/09387.htm\n",
            "https://mek.oszk.hu/04900/04917/04917.htm\n",
            "https://mek.oszk.hu/05800/05877/05877.htm\n",
            "https://mek.oszk.hu/05300/05360/05360.htm\n",
            "https://mek.oszk.hu/05700/05759/05759.htm\n",
            "https://mek.oszk.hu/09400/09405/09405.htm\n",
            "https://mek.oszk.hu/04700/04754/04754.htm\n",
            "https://mek.oszk.hu/00600/00656/00656.htm\n",
            "https://mek.oszk.hu/09100/09129/09129.htm\n",
            "https://mek.oszk.hu/07300/07363/07363.htm\n",
            "https://mek.oszk.hu/04400/04435/04435.htm\n",
            "https://mek.oszk.hu/13300/13387/13387.htm\n",
            "https://mek.oszk.hu/20300/20300/20300.htm\n",
            "https://mek.oszk.hu/23300/23355/23355.htm\n",
            "https://mek.oszk.hu/11300/11341/11341.htm\n",
            "https://mek.oszk.hu/00600/00657/00657.htm\n",
            "https://mek.oszk.hu/15700/15790/15790.htm\n",
            "https://mek.oszk.hu/03000/03082/03082.htm\n",
            "https://mek.oszk.hu/05900/05912/05912.htm\n",
            "https://mek.oszk.hu/05900/05997/05997.htm\n",
            "https://mek.oszk.hu/08900/08912/08912.htm\n",
            "https://mek.oszk.hu/11400/11459/11459.htm\n",
            "https://mek.oszk.hu/00600/00685/00685.htm\n",
            "https://mek.oszk.hu/10800/10892/10892.htm\n",
            "https://mek.oszk.hu/09900/09914/09914.htm\n",
            "https://mek.oszk.hu/05300/05344/05344.htm\n",
            "https://mek.oszk.hu/05700/05711/05711.htm\n",
            "https://mek.oszk.hu/09300/09340/09340.htm\n",
            "https://mek.oszk.hu/06600/06629/06629.htm\n",
            "https://mek.oszk.hu/19300/19359/19359.htm\n",
            "https://mek.oszk.hu/00600/00658/00658.htm\n",
            "https://mek.oszk.hu/00600/00659/00659.htm\n",
            "https://mek.oszk.hu/22500/22519/22519.htm\n",
            "https://mek.oszk.hu/06600/06637/06637.htm\n",
            "https://mek.oszk.hu/06600/06666/06666.htm\n",
            "https://mek.oszk.hu/07600/07665/07665.htm\n",
            "https://mek.oszk.hu/00600/00661/00661.htm\n",
            "https://mek.oszk.hu/05400/05438/05438.htm\n",
            "https://mek.oszk.hu/04500/04533/04533.htm\n",
            "https://mek.oszk.hu/10800/10871/10871.htm\n",
            "https://mek.oszk.hu/05700/05710/05710.htm\n",
            "https://mek.oszk.hu/10500/10570/10570.htm\n",
            "https://mek.oszk.hu/05900/05990/05990.htm\n",
            "https://mek.oszk.hu/06200/06268/06268.htm\n",
            "https://mek.oszk.hu/05400/05404/05404.htm\n",
            "https://mek.oszk.hu/01800/01820/01820.htm\n",
            "https://mek.oszk.hu/06100/06194/06194.htm\n",
            "https://mek.oszk.hu/05300/05397/05397.htm\n",
            "https://mek.oszk.hu/06900/06982/06982.htm\n",
            "https://mek.oszk.hu/09000/09081/09081.htm\n",
            "https://mek.oszk.hu/11200/11242/11242.htm\n",
            "https://mek.oszk.hu/04100/04133/04133.htm\n",
            "https://mek.oszk.hu/07700/07763/07763.htm\n",
            "https://mek.oszk.hu/00600/00662/00662.htm\n",
            "https://mek.oszk.hu/05400/05408/05408.htm\n",
            "https://mek.oszk.hu/14900/14956/14956.htm\n",
            "https://mek.oszk.hu/07000/07031/07031.htm\n",
            "https://mek.oszk.hu/10800/10885/10885.htm\n",
            "https://mek.oszk.hu/05600/05614/05614.htm\n",
            "https://mek.oszk.hu/02700/02749/02749.htm\n",
            "https://mek.oszk.hu/06300/06346/06346.htm\n",
            "https://mek.oszk.hu/10600/10621/10621.htm\n",
            "https://mek.oszk.hu/08000/08035/08035.htm\n",
            "https://mek.oszk.hu/09300/09361/09361.htm\n",
            "https://mek.oszk.hu/05900/05963/05963.htm\n",
            "https://mek.oszk.hu/06000/06063/06063.htm\n",
            "https://mek.oszk.hu/01700/01749/01749.htm\n",
            "https://mek.oszk.hu/04400/04489/04489.htm\n",
            "https://mek.oszk.hu/04600/04600/04600.htm\n",
            "https://mek.oszk.hu/10400/10454/10454.htm\n",
            "https://mek.oszk.hu/07400/07409/07409.htm\n",
            "https://mek.oszk.hu/05200/05297/05297.htm\n",
            "https://mek.oszk.hu/07000/07048/07048.htm\n",
            "https://mek.oszk.hu/03700/03737/03737.htm\n",
            "https://mek.oszk.hu/05700/05766/05766.htm\n",
            "https://mek.oszk.hu/10000/10018/10018.htm\n",
            "https://mek.oszk.hu/04900/04905/04905.htm\n",
            "https://mek.oszk.hu/09400/09475/09475.htm\n",
            "https://mek.oszk.hu/08100/08151/08151.htm\n",
            "https://mek.oszk.hu/11000/11047/11047.htm\n",
            "https://mek.oszk.hu/09100/09113/09113.htm\n",
            "https://mek.oszk.hu/04700/04718/04718.htm\n",
            "https://mek.oszk.hu/11600/11652/11652.htm\n"
          ]
        }
      ]
    },
    {
      "cell_type": "markdown",
      "source": [
        "## Data analysis\n",
        "Count the number of characters from both authors and display them on a plot (e.g. Seaborn's countplot)."
      ],
      "metadata": {
        "id": "U9Pmq91t3SRD"
      }
    },
    {
      "cell_type": "code",
      "source": [
        "labels = [\"Mora\", \"Gardonyi\"]\n",
        "plt.bar(labels, [len(mora_text), len(gardonyi_text)])\n",
        "plt.show"
      ],
      "metadata": {
        "id": "uRqGdn4F3Spk",
        "outputId": "fe7c7a6d-73e5-4d77-b075-1ad77f067b15",
        "colab": {
          "base_uri": "https://localhost:8080/",
          "height": 447
        }
      },
      "execution_count": 6,
      "outputs": [
        {
          "output_type": "execute_result",
          "data": {
            "text/plain": [
              "<function matplotlib.pyplot.show(close=None, block=None)>"
            ]
          },
          "metadata": {},
          "execution_count": 6
        },
        {
          "output_type": "display_data",
          "data": {
            "text/plain": [
              "<Figure size 640x480 with 1 Axes>"
            ],
            "image/png": "[encoded data removed]"
          },
          "metadata": {}
        }
      ]
    },
    {
      "cell_type": "code",
      "source": [
        "mora_text = mora_text[:len(gardonyi_text)]\n",
        "plt.bar(labels, [len(mora_text), len(gardonyi_text)])\n",
        "plt.show"
      ],
      "metadata": {
        "id": "LcWuht_x8LbU",
        "outputId": "1f5659fd-eb67-4c39-c90a-c78eaefa3e97",
        "colab": {
          "base_uri": "https://localhost:8080/",
          "height": 447
        }
      },
      "execution_count": 7,
      "outputs": [
        {
          "output_type": "execute_result",
          "data": {
            "text/plain": [
              "<function matplotlib.pyplot.show(close=None, block=None)>"
            ]
          },
          "metadata": {},
          "execution_count": 7
        },
        {
          "output_type": "display_data",
          "data": {
            "text/plain": [
              "<Figure size 640x480 with 1 Axes>"
            ],
            "image/png": "[encoded data removed]"
          },
          "metadata": {}
        }
      ]
    },
    {
      "cell_type": "markdown",
      "metadata": {
        "id": "cHyE_ndGIblJ"
      },
      "source": [
        "## Data loading, labeling and preprocessing\n",
        "Load the data and convert the characters into one-hot encodings. Then load the data into a 3D NumPy array, with a shape of\n",
        "\n",
        "* (batch, sequence_length, alphabet_length)\n",
        "\n",
        "where sequence_length=60, and alphabet_length equals to the number of unique characters in both datasets. The sequences should be cut out from the complete dataset by sliding window. You should add 0 and 1 labels to the sequences, according to the author. \n",
        "\n",
        "Later you may change sequence_length to achieve better results!"
      ]
    },
    {
      "cell_type": "code",
      "metadata": {
        "id": "arooXt0WIb6x"
      },
      "source": [
        "chars = sorted(list(set([*set(mora_text), *set(gardonyi_text)])))"
      ],
      "execution_count": 8,
      "outputs": []
    },
    {
      "cell_type": "code",
      "source": [
        "char_indices = dict((c, i) for i, c in enumerate(chars))\n",
        "indices_char = dict((i, c) for i, c in enumerate(chars))"
      ],
      "metadata": {
        "id": "x4FhuKZm9GcH"
      },
      "execution_count": 11,
      "outputs": []
    },
    {
      "cell_type": "code",
      "source": [
        "maxlen  = 60\n",
        "step    = 30\n",
        "sequences  = [] \n",
        "s_author = [] \n",
        "\n",
        "for i in range(0, len(mora_text)-maxlen, step):\n",
        "    sequences.append(mora_text[i:i+maxlen])\n",
        "    sequences.append(gardonyi_text[i:i+maxlen])\n",
        "    s_author.append(0)\n",
        "    s_author.append(1)"
      ],
      "metadata": {
        "id": "niIFL8ZI9Wu6"
      },
      "execution_count": 25,
      "outputs": []
    },
    {
      "cell_type": "code",
      "source": [
        "len(s_author)"
      ],
      "metadata": {
        "id": "JVtOOkXSAVOz",
        "outputId": "83d14224-6364-4ba3-8909-d461dbd639e6",
        "colab": {
          "base_uri": "https://localhost:8080/"
        }
      },
      "execution_count": 29,
      "outputs": [
        {
          "output_type": "execute_result",
          "data": {
            "text/plain": [
              "20768"
            ]
          },
          "metadata": {},
          "execution_count": 29
        }
      ]
    },
    {
      "cell_type": "code",
      "source": [
        "X = np.zeros((len(sequences), maxlen, len(chars)))\n",
        "y = np.zeros((len(sequences), 2))"
      ],
      "metadata": {
        "id": "Za8mzFpE_CTj"
      },
      "execution_count": 27,
      "outputs": []
    },
    {
      "cell_type": "code",
      "source": [
        "for i, sequence in enumerate(sequences):\n",
        "    for t, char in enumerate(sequence): \n",
        "        X[i,t,char_indices[char]] = 1\n",
        "    y[i, s_author[i]] = 1"
      ],
      "metadata": {
        "id": "kiRRac4o-rda"
      },
      "execution_count": 30,
      "outputs": []
    },
    {
      "cell_type": "markdown",
      "metadata": {
        "id": "lL1Mc8ibHnep"
      },
      "source": [
        "## Data splitting\n",
        "Split the data into train, validate and test sets. Make "
      ]
    },
    {
      "cell_type": "code",
      "source": [
        "X_train, X_test, y_train, y_test = train_test_split(X, y, test_size=0.2, random_state=1)\n",
        "X_train, X_val, y_train, y_val = train_test_split(X_train, y_train, test_size=0.25, random_state=1) # 0.25 x 0.8 = 0.2"
      ],
      "metadata": {
        "id": "GLvDm48y_Dri"
      },
      "execution_count": 31,
      "outputs": []
    },
    {
      "cell_type": "markdown",
      "metadata": {
        "id": "hA8U9tr7HrNQ"
      },
      "source": [
        "## Model definition\n",
        "Define a 1D CNN or an LSTM for the task. Compile the model with the correct loss function."
      ]
    },
    {
      "cell_type": "code",
      "metadata": {
        "id": "BT1V1s4kHuUe"
      },
      "source": [
        "model = Sequential()\n",
        "model.add(LSTM(64, input_shape=(X_train.shape[1:]))) # (batch, 128)\n",
        "model.add(BatchNormalization())\n",
        "model.add(Dense(len(chars)))\n",
        "model.add(Dense(2))\n",
        "\n",
        "model.compile(loss='binary_crossentropy', optimizer='adam')"
      ],
      "execution_count": 55,
      "outputs": []
    },
    {
      "cell_type": "markdown",
      "metadata": {
        "id": "hWFb-nAMHuAI"
      },
      "source": [
        "## Model training\n",
        "Train the model and apply early stopping."
      ]
    },
    {
      "cell_type": "code",
      "metadata": {
        "id": "dvgKjqp3Hwkp",
        "outputId": "4d5675dc-ab87-4c83-e125-e28c582b4470",
        "colab": {
          "base_uri": "https://localhost:8080/"
        }
      },
      "source": [
        "es = EarlyStopping(monitor='val_loss', patience=10)\n",
        "model.fit(\n",
        "    X_train, \n",
        "    y_train, \n",
        "    batch_size=4096, \n",
        "    epochs=1000, \n",
        "    validation_data=(X_val, y_val), \n",
        "    callbacks=[es])"
      ],
      "execution_count": 57,
      "outputs": [
        {
          "output_type": "stream",
          "name": "stdout",
          "text": [
            "Epoch 1/1000\n",
            "4/4 [==============================] - 6s 1s/step - loss: 3.8183 - val_loss: 0.8064\n",
            "Epoch 2/1000\n",
            "4/4 [==============================] - 7s 2s/step - loss: 3.7615 - val_loss: 0.7996\n",
            "Epoch 3/1000\n",
            "4/4 [==============================] - 5s 1s/step - loss: 3.7041 - val_loss: 0.7941\n",
            "Epoch 4/1000\n",
            "4/4 [==============================] - 7s 2s/step - loss: 3.6428 - val_loss: 0.7860\n",
            "Epoch 5/1000\n",
            "4/4 [==============================] - 5s 1s/step - loss: 3.5715 - val_loss: 0.7788\n",
            "Epoch 6/1000\n",
            "4/4 [==============================] - 7s 2s/step - loss: 3.5085 - val_loss: 0.7735\n",
            "Epoch 7/1000\n",
            "4/4 [==============================] - 5s 1s/step - loss: 3.4448 - val_loss: 0.7694\n",
            "Epoch 8/1000\n",
            "4/4 [==============================] - 6s 1s/step - loss: 3.3914 - val_loss: 0.7667\n",
            "Epoch 9/1000\n",
            "4/4 [==============================] - 7s 1s/step - loss: 3.3134 - val_loss: 0.7641\n",
            "Epoch 10/1000\n",
            "4/4 [==============================] - 5s 1s/step - loss: 3.2351 - val_loss: 0.7613\n",
            "Epoch 11/1000\n",
            "4/4 [==============================] - 7s 1s/step - loss: 3.1408 - val_loss: 0.7583\n",
            "Epoch 12/1000\n",
            "4/4 [==============================] - 5s 1s/step - loss: 3.0523 - val_loss: 0.7549\n",
            "Epoch 13/1000\n",
            "4/4 [==============================] - 7s 2s/step - loss: 2.9793 - val_loss: 0.7510\n",
            "Epoch 14/1000\n",
            "4/4 [==============================] - 5s 1s/step - loss: 2.9087 - val_loss: 0.7476\n",
            "Epoch 15/1000\n",
            "4/4 [==============================] - 7s 2s/step - loss: 2.8129 - val_loss: 0.7447\n",
            "Epoch 16/1000\n",
            "4/4 [==============================] - 6s 1s/step - loss: 2.7221 - val_loss: 0.7427\n",
            "Epoch 17/1000\n",
            "4/4 [==============================] - 6s 2s/step - loss: 2.6290 - val_loss: 0.7404\n",
            "Epoch 18/1000\n",
            "4/4 [==============================] - 6s 1s/step - loss: 2.5363 - val_loss: 0.7373\n",
            "Epoch 19/1000\n",
            "4/4 [==============================] - 6s 1s/step - loss: 2.4462 - val_loss: 0.7312\n",
            "Epoch 20/1000\n",
            "4/4 [==============================] - 6s 1s/step - loss: 2.3840 - val_loss: 0.7267\n",
            "Epoch 21/1000\n",
            "4/4 [==============================] - 5s 1s/step - loss: 2.3246 - val_loss: 0.7230\n",
            "Epoch 22/1000\n",
            "4/4 [==============================] - 7s 2s/step - loss: 2.2741 - val_loss: 0.7197\n",
            "Epoch 23/1000\n",
            "4/4 [==============================] - 5s 1s/step - loss: 2.2145 - val_loss: 0.7166\n",
            "Epoch 24/1000\n",
            "4/4 [==============================] - 7s 2s/step - loss: 2.1404 - val_loss: 0.7143\n",
            "Epoch 25/1000\n",
            "4/4 [==============================] - 5s 1s/step - loss: 2.0869 - val_loss: 0.7126\n",
            "Epoch 26/1000\n",
            "4/4 [==============================] - 6s 1s/step - loss: 2.0306 - val_loss: 0.7117\n",
            "Epoch 27/1000\n",
            "4/4 [==============================] - 11s 2s/step - loss: 1.9604 - val_loss: 0.7113\n",
            "Epoch 28/1000\n",
            "4/4 [==============================] - 8s 2s/step - loss: 1.8992 - val_loss: 0.7078\n",
            "Epoch 29/1000\n",
            "4/4 [==============================] - 5s 1s/step - loss: 1.8380 - val_loss: 0.7050\n",
            "Epoch 30/1000\n",
            "4/4 [==============================] - 7s 2s/step - loss: 1.7905 - val_loss: 0.7038\n",
            "Epoch 31/1000\n",
            "4/4 [==============================] - 5s 1s/step - loss: 1.7180 - val_loss: 0.7031\n",
            "Epoch 32/1000\n",
            "4/4 [==============================] - 7s 2s/step - loss: 1.6470 - val_loss: 0.7026\n",
            "Epoch 33/1000\n",
            "4/4 [==============================] - 5s 1s/step - loss: 1.5585 - val_loss: 0.7019\n",
            "Epoch 34/1000\n",
            "4/4 [==============================] - 6s 1s/step - loss: 1.4791 - val_loss: 0.7009\n",
            "Epoch 35/1000\n",
            "4/4 [==============================] - 6s 1s/step - loss: 1.4095 - val_loss: 0.7000\n",
            "Epoch 36/1000\n",
            "4/4 [==============================] - 6s 1s/step - loss: 1.3370 - val_loss: 0.6994\n",
            "Epoch 37/1000\n",
            "4/4 [==============================] - 7s 1s/step - loss: 1.2641 - val_loss: 0.6989\n",
            "Epoch 38/1000\n",
            "4/4 [==============================] - 5s 1s/step - loss: 1.2651 - val_loss: 0.6981\n",
            "Epoch 39/1000\n",
            "4/4 [==============================] - 7s 2s/step - loss: 1.2623 - val_loss: 0.6968\n",
            "Epoch 40/1000\n",
            "4/4 [==============================] - 5s 1s/step - loss: 1.2249 - val_loss: 0.6949\n",
            "Epoch 41/1000\n",
            "4/4 [==============================] - 7s 2s/step - loss: 1.1734 - val_loss: 0.6933\n",
            "Epoch 42/1000\n",
            "4/4 [==============================] - 6s 1s/step - loss: 1.1131 - val_loss: 0.6918\n",
            "Epoch 43/1000\n",
            "4/4 [==============================] - 8s 2s/step - loss: 1.0584 - val_loss: 0.6903\n",
            "Epoch 44/1000\n",
            "4/4 [==============================] - 6s 1s/step - loss: 1.0234 - val_loss: 0.6904\n",
            "Epoch 45/1000\n",
            "4/4 [==============================] - 6s 1s/step - loss: 1.1014 - val_loss: 0.6922\n",
            "Epoch 46/1000\n",
            "4/4 [==============================] - 6s 1s/step - loss: 1.3127 - val_loss: 0.6937\n",
            "Epoch 47/1000\n",
            "4/4 [==============================] - 5s 1s/step - loss: 1.4087 - val_loss: 0.6941\n",
            "Epoch 48/1000\n",
            "4/4 [==============================] - 7s 2s/step - loss: 1.3889 - val_loss: 0.6919\n",
            "Epoch 49/1000\n",
            "4/4 [==============================] - 5s 1s/step - loss: 1.3321 - val_loss: 0.6909\n",
            "Epoch 50/1000\n",
            "4/4 [==============================] - 7s 2s/step - loss: 1.3056 - val_loss: 0.6903\n",
            "Epoch 51/1000\n",
            "4/4 [==============================] - 5s 1s/step - loss: 1.2728 - val_loss: 0.6899\n",
            "Epoch 52/1000\n",
            "4/4 [==============================] - 8s 2s/step - loss: 1.2112 - val_loss: 0.6894\n",
            "Epoch 53/1000\n",
            "4/4 [==============================] - 6s 2s/step - loss: 1.1389 - val_loss: 0.6890\n",
            "Epoch 54/1000\n",
            "4/4 [==============================] - 12s 3s/step - loss: 1.0805 - val_loss: 0.6886\n",
            "Epoch 55/1000\n",
            "4/4 [==============================] - 6s 1s/step - loss: 1.0273 - val_loss: 0.6880\n",
            "Epoch 56/1000\n",
            "4/4 [==============================] - 6s 1s/step - loss: 0.9823 - val_loss: 0.6873\n",
            "Epoch 57/1000\n",
            "4/4 [==============================] - 5s 1s/step - loss: 0.9486 - val_loss: 0.6866\n",
            "Epoch 58/1000\n",
            "4/4 [==============================] - 7s 2s/step - loss: 0.9169 - val_loss: 0.6856\n",
            "Epoch 59/1000\n",
            "4/4 [==============================] - 5s 1s/step - loss: 0.8898 - val_loss: 0.6844\n",
            "Epoch 60/1000\n",
            "4/4 [==============================] - 7s 2s/step - loss: 0.8580 - val_loss: 0.6833\n",
            "Epoch 61/1000\n",
            "4/4 [==============================] - 5s 1s/step - loss: 0.8310 - val_loss: 0.6823\n",
            "Epoch 62/1000\n",
            "4/4 [==============================] - 6s 2s/step - loss: 0.8112 - val_loss: 0.6814\n",
            "Epoch 63/1000\n",
            "4/4 [==============================] - 6s 1s/step - loss: 0.7904 - val_loss: 0.6807\n",
            "Epoch 64/1000\n",
            "4/4 [==============================] - 6s 1s/step - loss: 0.7760 - val_loss: 0.6800\n",
            "Epoch 65/1000\n",
            "4/4 [==============================] - 7s 1s/step - loss: 0.7640 - val_loss: 0.6794\n",
            "Epoch 66/1000\n",
            "4/4 [==============================] - 5s 1s/step - loss: 0.7561 - val_loss: 0.6787\n",
            "Epoch 67/1000\n",
            "4/4 [==============================] - 7s 2s/step - loss: 0.7439 - val_loss: 0.6781\n",
            "Epoch 68/1000\n",
            "4/4 [==============================] - 5s 1s/step - loss: 0.7359 - val_loss: 0.6776\n",
            "Epoch 69/1000\n",
            "4/4 [==============================] - 7s 2s/step - loss: 0.7300 - val_loss: 0.6770\n",
            "Epoch 70/1000\n",
            "4/4 [==============================] - 6s 1s/step - loss: 0.7207 - val_loss: 0.6765\n",
            "Epoch 71/1000\n",
            "4/4 [==============================] - 6s 2s/step - loss: 0.7145 - val_loss: 0.6759\n",
            "Epoch 72/1000\n",
            "4/4 [==============================] - 5s 1s/step - loss: 0.7086 - val_loss: 0.6753\n",
            "Epoch 73/1000\n",
            "4/4 [==============================] - 6s 2s/step - loss: 0.7031 - val_loss: 0.6748\n",
            "Epoch 74/1000\n",
            "4/4 [==============================] - 5s 1s/step - loss: 0.6975 - val_loss: 0.6741\n",
            "Epoch 75/1000\n",
            "4/4 [==============================] - 6s 1s/step - loss: 0.6925 - val_loss: 0.6735\n",
            "Epoch 76/1000\n",
            "4/4 [==============================] - 6s 1s/step - loss: 0.6878 - val_loss: 0.6728\n",
            "Epoch 77/1000\n",
            "4/4 [==============================] - 5s 1s/step - loss: 0.6839 - val_loss: 0.6721\n",
            "Epoch 78/1000\n",
            "4/4 [==============================] - 6s 1s/step - loss: 0.6803 - val_loss: 0.6716\n",
            "Epoch 79/1000\n",
            "4/4 [==============================] - 5s 1s/step - loss: 0.6770 - val_loss: 0.6710\n",
            "Epoch 80/1000\n",
            "4/4 [==============================] - 6s 2s/step - loss: 0.6744 - val_loss: 0.6705\n",
            "Epoch 81/1000\n",
            "4/4 [==============================] - 5s 1s/step - loss: 0.6718 - val_loss: 0.6698\n",
            "Epoch 82/1000\n",
            "4/4 [==============================] - 6s 2s/step - loss: 0.6703 - val_loss: 0.6692\n",
            "Epoch 83/1000\n",
            "4/4 [==============================] - 5s 1s/step - loss: 0.6683 - val_loss: 0.6684\n",
            "Epoch 84/1000\n",
            "4/4 [==============================] - 6s 1s/step - loss: 0.6669 - val_loss: 0.6677\n",
            "Epoch 85/1000\n",
            "4/4 [==============================] - 6s 1s/step - loss: 0.6651 - val_loss: 0.6670\n",
            "Epoch 86/1000\n",
            "4/4 [==============================] - 5s 1s/step - loss: 0.6639 - val_loss: 0.6662\n",
            "Epoch 87/1000\n",
            "4/4 [==============================] - 6s 1s/step - loss: 0.6625 - val_loss: 0.6654\n",
            "Epoch 88/1000\n",
            "4/4 [==============================] - 5s 1s/step - loss: 0.6615 - val_loss: 0.6647\n",
            "Epoch 89/1000\n",
            "4/4 [==============================] - 6s 2s/step - loss: 0.6598 - val_loss: 0.6639\n",
            "Epoch 90/1000\n",
            "4/4 [==============================] - 5s 1s/step - loss: 0.6587 - val_loss: 0.6631\n",
            "Epoch 91/1000\n",
            "4/4 [==============================] - 6s 2s/step - loss: 0.6572 - val_loss: 0.6623\n",
            "Epoch 92/1000\n",
            "4/4 [==============================] - 5s 1s/step - loss: 0.6562 - val_loss: 0.6615\n",
            "Epoch 93/1000\n",
            "4/4 [==============================] - 7s 2s/step - loss: 0.6552 - val_loss: 0.6607\n",
            "Epoch 94/1000\n",
            "4/4 [==============================] - 5s 1s/step - loss: 0.6538 - val_loss: 0.6599\n",
            "Epoch 95/1000\n",
            "4/4 [==============================] - 6s 2s/step - loss: 0.6526 - val_loss: 0.6592\n",
            "Epoch 96/1000\n",
            "4/4 [==============================] - 5s 1s/step - loss: 0.6509 - val_loss: 0.6585\n",
            "Epoch 97/1000\n",
            "4/4 [==============================] - 6s 1s/step - loss: 0.6498 - val_loss: 0.6577\n",
            "Epoch 98/1000\n",
            "4/4 [==============================] - 6s 1s/step - loss: 0.6489 - val_loss: 0.6569\n",
            "Epoch 99/1000\n",
            "4/4 [==============================] - 5s 1s/step - loss: 0.6481 - val_loss: 0.6561\n",
            "Epoch 100/1000\n",
            "4/4 [==============================] - 6s 1s/step - loss: 0.6470 - val_loss: 0.6553\n",
            "Epoch 101/1000\n",
            "4/4 [==============================] - 6s 1s/step - loss: 0.6458 - val_loss: 0.6546\n",
            "Epoch 102/1000\n",
            "4/4 [==============================] - 6s 2s/step - loss: 0.6450 - val_loss: 0.6537\n",
            "Epoch 103/1000\n",
            "4/4 [==============================] - 5s 1s/step - loss: 0.6443 - val_loss: 0.6528\n",
            "Epoch 104/1000\n",
            "4/4 [==============================] - 6s 2s/step - loss: 0.6430 - val_loss: 0.6518\n",
            "Epoch 105/1000\n",
            "4/4 [==============================] - 5s 1s/step - loss: 0.6414 - val_loss: 0.6507\n",
            "Epoch 106/1000\n",
            "4/4 [==============================] - 6s 2s/step - loss: 0.6404 - val_loss: 0.6495\n",
            "Epoch 107/1000\n",
            "4/4 [==============================] - 5s 1s/step - loss: 0.6385 - val_loss: 0.6483\n",
            "Epoch 108/1000\n",
            "4/4 [==============================] - 6s 1s/step - loss: 0.6369 - val_loss: 0.6471\n",
            "Epoch 109/1000\n",
            "4/4 [==============================] - 6s 1s/step - loss: 0.6362 - val_loss: 0.6460\n",
            "Epoch 110/1000\n",
            "4/4 [==============================] - 5s 1s/step - loss: 0.6344 - val_loss: 0.6449\n",
            "Epoch 111/1000\n",
            "4/4 [==============================] - 7s 1s/step - loss: 0.6335 - val_loss: 0.6438\n",
            "Epoch 112/1000\n",
            "4/4 [==============================] - 5s 1s/step - loss: 0.6324 - val_loss: 0.6426\n",
            "Epoch 113/1000\n",
            "4/4 [==============================] - 6s 2s/step - loss: 0.6302 - val_loss: 0.6416\n",
            "Epoch 114/1000\n",
            "4/4 [==============================] - 5s 1s/step - loss: 0.6281 - val_loss: 0.6406\n",
            "Epoch 115/1000\n",
            "4/4 [==============================] - 6s 2s/step - loss: 0.6275 - val_loss: 0.6397\n",
            "Epoch 116/1000\n",
            "4/4 [==============================] - 5s 1s/step - loss: 0.6261 - val_loss: 0.6387\n",
            "Epoch 117/1000\n",
            "4/4 [==============================] - 6s 2s/step - loss: 0.6249 - val_loss: 0.6376\n",
            "Epoch 118/1000\n",
            "4/4 [==============================] - 5s 1s/step - loss: 0.6237 - val_loss: 0.6365\n",
            "Epoch 119/1000\n",
            "4/4 [==============================] - 6s 1s/step - loss: 0.6230 - val_loss: 0.6353\n",
            "Epoch 120/1000\n",
            "4/4 [==============================] - 6s 1s/step - loss: 0.6216 - val_loss: 0.6342\n",
            "Epoch 121/1000\n",
            "4/4 [==============================] - 6s 1s/step - loss: 0.6203 - val_loss: 0.6331\n",
            "Epoch 122/1000\n",
            "4/4 [==============================] - 6s 1s/step - loss: 0.6189 - val_loss: 0.6321\n",
            "Epoch 123/1000\n",
            "4/4 [==============================] - 5s 1s/step - loss: 0.6173 - val_loss: 0.6310\n",
            "Epoch 124/1000\n",
            "4/4 [==============================] - 6s 1s/step - loss: 0.6162 - val_loss: 0.6300\n",
            "Epoch 125/1000\n",
            "4/4 [==============================] - 5s 1s/step - loss: 0.6146 - val_loss: 0.6290\n",
            "Epoch 126/1000\n",
            "4/4 [==============================] - 6s 2s/step - loss: 0.6130 - val_loss: 0.6280\n",
            "Epoch 127/1000\n",
            "4/4 [==============================] - 5s 1s/step - loss: 0.6116 - val_loss: 0.6271\n",
            "Epoch 128/1000\n",
            "4/4 [==============================] - 6s 2s/step - loss: 0.6100 - val_loss: 0.6263\n",
            "Epoch 129/1000\n",
            "4/4 [==============================] - 5s 1s/step - loss: 0.6084 - val_loss: 0.6258\n",
            "Epoch 130/1000\n",
            "4/4 [==============================] - 6s 1s/step - loss: 0.6069 - val_loss: 0.6256\n",
            "Epoch 131/1000\n",
            "4/4 [==============================] - 6s 1s/step - loss: 0.6056 - val_loss: 0.6256\n",
            "Epoch 132/1000\n",
            "4/4 [==============================] - 5s 1s/step - loss: 0.6036 - val_loss: 0.6257\n",
            "Epoch 133/1000\n",
            "4/4 [==============================] - 6s 1s/step - loss: 0.6017 - val_loss: 0.6261\n",
            "Epoch 134/1000\n",
            "4/4 [==============================] - 5s 1s/step - loss: 0.5994 - val_loss: 0.6272\n",
            "Epoch 135/1000\n",
            "4/4 [==============================] - 6s 2s/step - loss: 0.5974 - val_loss: 0.6293\n",
            "Epoch 136/1000\n",
            "4/4 [==============================] - 5s 1s/step - loss: 0.5949 - val_loss: 0.6332\n",
            "Epoch 137/1000\n",
            "4/4 [==============================] - 6s 2s/step - loss: 0.5928 - val_loss: 0.6395\n",
            "Epoch 138/1000\n",
            "4/4 [==============================] - 5s 1s/step - loss: 0.5906 - val_loss: 0.6553\n",
            "Epoch 139/1000\n",
            "4/4 [==============================] - 6s 2s/step - loss: 0.5886 - val_loss: 0.6748\n",
            "Epoch 140/1000\n",
            "4/4 [==============================] - 6s 1s/step - loss: 0.5865 - val_loss: 0.7108\n"
          ]
        },
        {
          "output_type": "execute_result",
          "data": {
            "text/plain": [
              "<keras.callbacks.History at 0x7f2baa0626d0>"
            ]
          },
          "metadata": {},
          "execution_count": 57
        }
      ]
    },
    {
      "cell_type": "markdown",
      "metadata": {
        "id": "0omw2XzSHwOo"
      },
      "source": [
        "## Evaluation on test data\n",
        "Evaluate the model on the test data in terms of loss and accuracy."
      ]
    },
    {
      "cell_type": "code",
      "metadata": {
        "id": "4bF3dQA1Hv_R",
        "outputId": "70ab8679-d0e7-42fc-ab2c-9819e3312cce",
        "colab": {
          "base_uri": "https://localhost:8080/"
        }
      },
      "source": [
        "results = model.evaluate(X_test, y_test)"
      ],
      "execution_count": 58,
      "outputs": [
        {
          "output_type": "stream",
          "name": "stdout",
          "text": [
            "130/130 [==============================] - 2s 12ms/step - loss: 0.7209\n"
          ]
        }
      ]
    },
    {
      "cell_type": "code",
      "source": [
        "results"
      ],
      "metadata": {
        "id": "dqUcvh7uKHxY",
        "outputId": "b600824b-6f6c-48ae-91df-65942ce9fe4d",
        "colab": {
          "base_uri": "https://localhost:8080/"
        }
      },
      "execution_count": 59,
      "outputs": [
        {
          "output_type": "execute_result",
          "data": {
            "text/plain": [
              "0.720856785774231"
            ]
          },
          "metadata": {},
          "execution_count": 59
        }
      ]
    },
    {
      "cell_type": "markdown",
      "metadata": {
        "id": "4Y73Q-h5Hz1r"
      },
      "source": [
        "## Confusion matrix\n",
        "Calculate and display the confusion matrix."
      ]
    },
    {
      "cell_type": "code",
      "metadata": {
        "id": "cW8zZi1uJm2B"
      },
      "source": [],
      "execution_count": null,
      "outputs": []
    }
  ]
}