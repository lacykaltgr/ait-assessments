{
  "nbformat": 4,
  "nbformat_minor": 0,
  "metadata": {
    "anaconda-cloud": {},
    "kernelspec": {
      "display_name": "Python 3",
      "language": "python",
      "name": "python3"
    },
    "language_info": {
      "codemirror_mode": {
        "name": "ipython",
        "version": 3
      },
      "file_extension": ".py",
      "mimetype": "text/x-python",
      "name": "python",
      "nbconvert_exporter": "python",
      "pygments_lexer": "ipython3",
      "version": "3.6.6"
    },
    "colab": {
      "provenance": [],
      "include_colab_link": true
    },
    "accelerator": "GPU"
  },
  "cells": [
    {
      "cell_type": "markdown",
      "metadata": {
        "id": "view-in-github",
        "colab_type": "text"
      },
      "source": [
        "<a href=\"https://colab.research.google.com/github/lacykaltgr/ait-assessments/blob/main/07_AIT_TensorBoard.ipynb\" target=\"_parent\"><img src=\"https://colab.research.google.com/assets/colab-badge.svg\" alt=\"Open In Colab\"/></a>"
      ]
    },
    {
      "cell_type": "markdown",
      "metadata": {
        "id": "cW-EyI5Lxpqi"
      },
      "source": [
        "# Copyright\n",
        "\n",
        "<PRE>\n",
        "Copyright (c) 2023 Bálint Gyires-Tóth - All Rights Reserved\n",
        "You may use and modify this code for research and development purpuses.\n",
        "Using this code for educational purposes (self-paced or instructor led) without the permission of the author is prohibited.\n",
        "</PRE>"
      ]
    },
    {
      "cell_type": "markdown",
      "source": [
        "# TensorBoard \n",
        "This notebook gives you a short overview of [TensorBoard](https://www.tensorflow.org/tensorboard). The functionality of TensorBoard is very rich, we will cover the most essential parts only.\n",
        "\n",
        "As a first step, let's train a model, as we did before, on the CIFAR10 dataset."
      ],
      "metadata": {
        "id": "3EX4cCa4WKJu"
      }
    },
    {
      "cell_type": "code",
      "source": [
        "# imports \n",
        "import numpy as np\n",
        "import matplotlib.pyplot as plt\n",
        "from tensorflow.keras.models import Sequential\n",
        "from tensorflow.keras.layers import Dense, Embedding, Flatten, Dropout\n",
        "from tensorflow.keras.initializers import HeNormal\n",
        "from tensorflow.keras.callbacks import EarlyStopping, TensorBoard\n",
        "from tensorflow.keras.datasets import cifar10\n",
        "from tensorflow.keras.utils import to_categorical"
      ],
      "metadata": {
        "id": "giRZKTjzX_7l"
      },
      "execution_count": null,
      "outputs": []
    },
    {
      "cell_type": "code",
      "source": [
        "(X_train, Y_train), (X_test, Y_test) = cifar10.load_data()"
      ],
      "metadata": {
        "id": "bez7q0eiWQCK",
        "colab": {
          "base_uri": "https://localhost:8080/"
        },
        "outputId": "213658fa-db62-424b-b2e2-c04dbf9ddadc"
      },
      "execution_count": null,
      "outputs": [
        {
          "output_type": "stream",
          "name": "stdout",
          "text": [
            "Downloading data from https://www.cs.toronto.edu/~kriz/cifar-10-python.tar.gz\n",
            "170498071/170498071 [==============================] - 4s 0us/step\n"
          ]
        }
      ]
    },
    {
      "cell_type": "code",
      "source": [
        "flattened_dim = np.prod(X_train.shape[1:])"
      ],
      "metadata": {
        "id": "hdoMyxHzuXZG"
      },
      "execution_count": null,
      "outputs": []
    },
    {
      "cell_type": "code",
      "source": [
        "# reshape 3D tensors to 2D tensors\n",
        "X_train = X_train.reshape(-1, flattened_dim)\n",
        "X_test = X_test.reshape(-1, flattened_dim)\n",
        "\n",
        "# it is in int8 format, the neural network requires float32\n",
        "X_train = X_train.astype(\"float32\")\n",
        "X_test = X_test.astype(\"float32\")"
      ],
      "metadata": {
        "id": "vukOcBM0XzSj"
      },
      "execution_count": null,
      "outputs": []
    },
    {
      "cell_type": "code",
      "source": [
        "# train, valid, test split\n",
        "train_ratio  = 0.8\n",
        "train_length = X_train.shape[0]\n",
        "train_split  = int(train_ratio*train_length)\n",
        "X_valid, Y_valid = X_train[train_split:], Y_train[train_split:]\n",
        "X_train, Y_train = X_train[:train_split], Y_train[:train_split]"
      ],
      "metadata": {
        "id": "mRwuWxxIxLgN"
      },
      "execution_count": null,
      "outputs": []
    },
    {
      "cell_type": "code",
      "source": [
        "# standardization\n",
        "mean = X_train.mean(axis=0)\n",
        "std  = X_train.std(axis=0)\n",
        "X_train = (X_train-mean)/std\n",
        "X_valid = (X_valid-mean)/std\n",
        "X_test  = (X_test-mean)/std"
      ],
      "metadata": {
        "id": "TSZbvWCBx8Ea"
      },
      "execution_count": null,
      "outputs": []
    },
    {
      "cell_type": "code",
      "source": [
        "# one-hot encoding\n",
        "nb_classes = len(np.unique(Y_train))\n",
        "Y_train = to_categorical(Y_train, nb_classes)\n",
        "Y_valid = to_categorical(Y_valid, nb_classes)\n",
        "Y_test  = to_categorical(Y_test, nb_classes)"
      ],
      "metadata": {
        "id": "i0LAO9cs8KEE"
      },
      "execution_count": null,
      "outputs": []
    },
    {
      "cell_type": "code",
      "source": [
        "# callbacks\n",
        "tb = TensorBoard(log_dir='logs', histogram_freq=0, write_graph=0)\n",
        "es = EarlyStopping(patience=5, restore_best_weights=True, verbose=1, monitor='val_accuracy')"
      ],
      "metadata": {
        "id": "mqcsJfC5EXjt"
      },
      "execution_count": null,
      "outputs": []
    },
    {
      "cell_type": "code",
      "source": [
        "# model definition with dropout\n",
        "model = Sequential()\n",
        "model.add(Dense(1024, activation='relu', kernel_initializer=HeNormal(), input_shape=(flattened_dim,)))\n",
        "model.add(Dropout(0.2))\n",
        "model.add(Dense(1024, activation='relu', kernel_initializer=HeNormal()))\n",
        "model.add(Dense(nb_classes, activation='softmax'))\n",
        "\n",
        "# loss function and optimizer\n",
        "model.compile(loss='categorical_crossentropy', optimizer='adam', metrics=['accuracy'])"
      ],
      "metadata": {
        "id": "7hZEGzj8GFwP"
      },
      "execution_count": null,
      "outputs": []
    },
    {
      "cell_type": "code",
      "source": [
        "# training\n",
        "network_history = model.fit(X_train, Y_train, \n",
        "                            validation_data=(X_valid,Y_valid),\n",
        "                            batch_size=128,                             \n",
        "                            epochs=400000, \n",
        "                            verbose=1, \n",
        "                            callbacks=[tb,es])"
      ],
      "metadata": {
        "id": "rarwKM1wGxMz",
        "colab": {
          "base_uri": "https://localhost:8080/"
        },
        "outputId": "188013b2-6d13-4aaa-f8ab-cff71455d02c"
      },
      "execution_count": null,
      "outputs": [
        {
          "output_type": "stream",
          "name": "stdout",
          "text": [
            "Epoch 1/400000\n",
            "313/313 [==============================] - 9s 6ms/step - loss: 1.9479 - accuracy: 0.3744 - val_loss: 1.6253 - val_accuracy: 0.4273\n",
            "Epoch 2/400000\n",
            "313/313 [==============================] - 2s 5ms/step - loss: 1.5425 - accuracy: 0.4546 - val_loss: 1.5135 - val_accuracy: 0.4655\n",
            "Epoch 3/400000\n",
            "313/313 [==============================] - 2s 5ms/step - loss: 1.4449 - accuracy: 0.4906 - val_loss: 1.4962 - val_accuracy: 0.4743\n",
            "Epoch 4/400000\n",
            "313/313 [==============================] - 2s 5ms/step - loss: 1.3722 - accuracy: 0.5156 - val_loss: 1.4707 - val_accuracy: 0.4837\n",
            "Epoch 5/400000\n",
            "313/313 [==============================] - 2s 5ms/step - loss: 1.3186 - accuracy: 0.5325 - val_loss: 1.4455 - val_accuracy: 0.4953\n",
            "Epoch 6/400000\n",
            "313/313 [==============================] - 2s 5ms/step - loss: 1.2607 - accuracy: 0.5548 - val_loss: 1.4500 - val_accuracy: 0.4952\n",
            "Epoch 7/400000\n",
            "313/313 [==============================] - 2s 6ms/step - loss: 1.2196 - accuracy: 0.5699 - val_loss: 1.4561 - val_accuracy: 0.5024\n",
            "Epoch 8/400000\n",
            "313/313 [==============================] - 2s 6ms/step - loss: 1.1697 - accuracy: 0.5834 - val_loss: 1.4552 - val_accuracy: 0.5105\n",
            "Epoch 9/400000\n",
            "313/313 [==============================] - 2s 5ms/step - loss: 1.1342 - accuracy: 0.6006 - val_loss: 1.4663 - val_accuracy: 0.5025\n",
            "Epoch 10/400000\n",
            "313/313 [==============================] - 2s 5ms/step - loss: 1.0951 - accuracy: 0.6101 - val_loss: 1.4713 - val_accuracy: 0.5049\n",
            "Epoch 11/400000\n",
            "313/313 [==============================] - 2s 5ms/step - loss: 1.0591 - accuracy: 0.6248 - val_loss: 1.4953 - val_accuracy: 0.5159\n",
            "Epoch 12/400000\n",
            "313/313 [==============================] - 2s 5ms/step - loss: 1.0255 - accuracy: 0.6364 - val_loss: 1.4962 - val_accuracy: 0.5000\n",
            "Epoch 13/400000\n",
            "313/313 [==============================] - 2s 5ms/step - loss: 0.9858 - accuracy: 0.6496 - val_loss: 1.5033 - val_accuracy: 0.5075\n",
            "Epoch 14/400000\n",
            "313/313 [==============================] - 2s 6ms/step - loss: 0.9458 - accuracy: 0.6636 - val_loss: 1.5108 - val_accuracy: 0.5127\n",
            "Epoch 15/400000\n",
            "313/313 [==============================] - 2s 6ms/step - loss: 0.9206 - accuracy: 0.6735 - val_loss: 1.5149 - val_accuracy: 0.5186\n",
            "Epoch 16/400000\n",
            "313/313 [==============================] - 2s 5ms/step - loss: 0.8844 - accuracy: 0.6869 - val_loss: 1.6109 - val_accuracy: 0.5167\n",
            "Epoch 17/400000\n",
            "313/313 [==============================] - 2s 5ms/step - loss: 0.8500 - accuracy: 0.6990 - val_loss: 1.5925 - val_accuracy: 0.5152\n",
            "Epoch 18/400000\n",
            "313/313 [==============================] - 2s 5ms/step - loss: 0.8184 - accuracy: 0.7114 - val_loss: 1.6248 - val_accuracy: 0.5151\n",
            "Epoch 19/400000\n",
            "313/313 [==============================] - 2s 5ms/step - loss: 0.7937 - accuracy: 0.7217 - val_loss: 1.6418 - val_accuracy: 0.5191\n",
            "Epoch 20/400000\n",
            "313/313 [==============================] - 2s 5ms/step - loss: 0.7665 - accuracy: 0.7308 - val_loss: 1.7109 - val_accuracy: 0.5145\n",
            "Epoch 21/400000\n",
            "313/313 [==============================] - 2s 6ms/step - loss: 0.7370 - accuracy: 0.7408 - val_loss: 1.6804 - val_accuracy: 0.5218\n",
            "Epoch 22/400000\n",
            "313/313 [==============================] - 2s 7ms/step - loss: 0.7189 - accuracy: 0.7486 - val_loss: 1.7299 - val_accuracy: 0.5107\n",
            "Epoch 23/400000\n",
            "313/313 [==============================] - 2s 6ms/step - loss: 0.6990 - accuracy: 0.7544 - val_loss: 1.8187 - val_accuracy: 0.5203\n",
            "Epoch 24/400000\n",
            "313/313 [==============================] - 2s 5ms/step - loss: 0.6754 - accuracy: 0.7610 - val_loss: 1.8120 - val_accuracy: 0.5077\n",
            "Epoch 25/400000\n",
            "313/313 [==============================] - 2s 5ms/step - loss: 0.6657 - accuracy: 0.7654 - val_loss: 1.8555 - val_accuracy: 0.5143\n",
            "Epoch 26/400000\n",
            "306/313 [============================>.] - ETA: 0s - loss: 0.6392 - accuracy: 0.7750Restoring model weights from the end of the best epoch: 21.\n",
            "313/313 [==============================] - 2s 5ms/step - loss: 0.6409 - accuracy: 0.7746 - val_loss: 1.9207 - val_accuracy: 0.5138\n",
            "Epoch 26: early stopping\n"
          ]
        }
      ]
    },
    {
      "cell_type": "code",
      "source": [
        "%load_ext tensorboard\n",
        "%tensorboard --logdir logs"
      ],
      "metadata": {
        "id": "VKqp3-4FSTsf"
      },
      "execution_count": null,
      "outputs": []
    },
    {
      "cell_type": "code",
      "source": [
        "from tensorboard import notebook\n",
        "notebook.list() \n",
        "notebook.display(port=6006, height=600) "
      ],
      "metadata": {
        "id": "n348G447STpQ"
      },
      "execution_count": null,
      "outputs": []
    },
    {
      "cell_type": "code",
      "source": [],
      "metadata": {
        "id": "F8DqtaTBSTaF"
      },
      "execution_count": null,
      "outputs": []
    },
    {
      "cell_type": "markdown",
      "source": [
        "## 1. Scalars"
      ],
      "metadata": {
        "id": "CO5d5m41SdKN"
      }
    },
    {
      "cell_type": "code",
      "source": [
        "import tensorflow as tf\n",
        "import numpy as np\n",
        "logdir = \"logs/scalars/\"\n",
        "file_writer = tf.summary.create_file_writer(logdir + \"/myvar\")\n",
        "file_writer.set_as_default()\n"
      ],
      "metadata": {
        "id": "HTFU7HV-Seqa"
      },
      "execution_count": null,
      "outputs": []
    },
    {
      "cell_type": "code",
      "source": [
        "\n",
        "for i in range(100):\n",
        "   tf.summary.scalar('my variable', data=(i**2), step=i)"
      ],
      "metadata": {
        "id": "gPJNKDhnShvF"
      },
      "execution_count": null,
      "outputs": []
    },
    {
      "cell_type": "code",
      "source": [
        "%tensorboard --logdir logs\n"
      ],
      "metadata": {
        "id": "B5w5OjyUSiYO"
      },
      "execution_count": null,
      "outputs": []
    },
    {
      "cell_type": "markdown",
      "source": [
        "## 2. Images"
      ],
      "metadata": {
        "id": "X4NKxdpUSkxJ"
      }
    },
    {
      "cell_type": "code",
      "source": [
        "mnist = tf.keras.datasets.mnist\n",
        "(images,labels), (_,_) = mnist.load_data()\n"
      ],
      "metadata": {
        "id": "NfAI_rRoSmMk",
        "colab": {
          "base_uri": "https://localhost:8080/"
        },
        "outputId": "a60c5fd6-fae4-4ac2-ee17-424030cc0857"
      },
      "execution_count": null,
      "outputs": [
        {
          "output_type": "stream",
          "name": "stdout",
          "text": [
            "Downloading data from https://storage.googleapis.com/tensorflow/tf-keras-datasets/mnist.npz\n",
            "11490434/11490434 [==============================] - 0s 0us/step\n"
          ]
        }
      ]
    },
    {
      "cell_type": "code",
      "source": [
        "print(\"Shape: \", images[0].shape)\n",
        "print(\"Label: \", labels[0])\n",
        "     "
      ],
      "metadata": {
        "id": "DWuyFju6SmJM",
        "colab": {
          "base_uri": "https://localhost:8080/"
        },
        "outputId": "334bdb45-95fd-4f6a-f8eb-8003e162512f"
      },
      "execution_count": null,
      "outputs": [
        {
          "output_type": "stream",
          "name": "stdout",
          "text": [
            "Shape:  (28, 28)\n",
            "Label:  5\n"
          ]
        }
      ]
    },
    {
      "cell_type": "code",
      "source": [
        "\n",
        "import matplotlib.pyplot as plt\n",
        "plt.imshow(images[0])"
      ],
      "metadata": {
        "id": "IjcJPXWpSmG6",
        "colab": {
          "base_uri": "https://localhost:8080/",
          "height": 283
        },
        "outputId": "d492569d-728a-42b5-875a-0268ca2362c5"
      },
      "execution_count": null,
      "outputs": [
        {
          "output_type": "execute_result",
          "data": {
            "text/plain": [
              "<matplotlib.image.AxesImage at 0x7fc1e013a370>"
            ]
          },
          "metadata": {},
          "execution_count": 18
        },
        {
          "output_type": "display_data",
          "data": {
            "text/plain": [
              "<Figure size 432x288 with 1 Axes>"
            ],
            "image/png": "[encoded data removed]"
          },
          "metadata": {
            "needs_background": "light"
          }
        }
      ]
    },
    {
      "cell_type": "code",
      "source": [
        "logdir = \"logs/images/\"\n",
        "file_writer = tf.summary.create_file_writer(logdir + \"/mnist\")\n",
        "with file_writer.as_default():\n",
        "  img = np.reshape(images[0], (-1, 28, 28, 1))\n",
        "  tf.summary.image(\"MNIST Image 0\", img, step=0)"
      ],
      "metadata": {
        "id": "-06U61wDSsON"
      },
      "execution_count": null,
      "outputs": []
    },
    {
      "cell_type": "code",
      "source": [
        "%tensorboard --logdir logs\n"
      ],
      "metadata": {
        "id": "V9CRPjoSSwyn"
      },
      "execution_count": null,
      "outputs": []
    },
    {
      "cell_type": "markdown",
      "source": [
        "## 3. Hyperparameters"
      ],
      "metadata": {
        "id": "H8M_LdgHSztG"
      }
    },
    {
      "cell_type": "code",
      "source": [
        "from tensorboard.plugins.hparams import api as hp"
      ],
      "metadata": {
        "id": "lofjrCbXS1o9"
      },
      "execution_count": null,
      "outputs": []
    },
    {
      "cell_type": "code",
      "source": [
        "HP_PARAM1 = hp.HParam('param1', hp.Discrete([1,10,50,100]))\n",
        "HP_PARAM2 = hp.HParam('param2', hp.RealInterval(0.1, 0.5))\n",
        "HP_PARAM3 = hp.HParam('param3', hp.Discrete(['option1', 'option2']))\n",
        "\n",
        "METRIC = 'accuracy'\n",
        "\n",
        "run_dir = 'logs/hparam'\n",
        "\n",
        "with tf.summary.create_file_writer(run_dir).as_default():\n",
        "  hp.hparams_config(\n",
        "    hparams=[HP_PARAM1, HP_PARAM2, HP_PARAM3],\n",
        "    metrics=[hp.Metric(METRIC, display_name='Accuracy')],\n",
        "  )\n",
        "     "
      ],
      "metadata": {
        "id": "YYqH14J-S1lv"
      },
      "execution_count": null,
      "outputs": []
    },
    {
      "cell_type": "code",
      "source": [
        "def store_hparams(run_dir, hparams, accuracy, METRIC):\n",
        "  with tf.summary.create_file_writer(run_dir).as_default():\n",
        "    hp.hparams(hparams) \n",
        "    tf.summary.scalar(METRIC, accuracy, step=1)"
      ],
      "metadata": {
        "id": "tAC7hLb1S1if"
      },
      "execution_count": null,
      "outputs": []
    },
    {
      "cell_type": "code",
      "source": [
        "session_num=0\n",
        "for p1 in HP_PARAM1.domain.values:\n",
        "  for p2 in (HP_PARAM2.domain.min_value, HP_PARAM2.domain.max_value):\n",
        "    for p3 in HP_PARAM3.domain.values:\n",
        "      hparams = {\n",
        "          HP_PARAM1: p1,\n",
        "          HP_PARAM2: p2,\n",
        "          HP_PARAM3: p3,\n",
        "      }\n",
        "      run_name = \"run-%d\" % session_num\n",
        "      store_hparams(run_dir + '/' + run_name, hparams, np.random.randint(10), METRIC)\n",
        "      session_num += 1"
      ],
      "metadata": {
        "id": "8cOCdix0S1fc"
      },
      "execution_count": null,
      "outputs": []
    },
    {
      "cell_type": "code",
      "source": [
        "%tensorboard --logdir logs"
      ],
      "metadata": {
        "id": "BFqdsLI0S-Sq"
      },
      "execution_count": null,
      "outputs": []
    },
    {
      "cell_type": "markdown",
      "metadata": {
        "id": "L8Y7Gq_WBXA2"
      },
      "source": [
        "## 4. Projector: Inspectig the data and the layer activations "
      ]
    },
    {
      "cell_type": "markdown",
      "source": [
        "TensorBoard is a powerful tool to inspect the details of training. TensorBoard project can show you the inner representations of the images and their relation to each other. "
      ],
      "metadata": {
        "id": "NPAIEakUByQu"
      }
    },
    {
      "cell_type": "code",
      "source": [
        "model.layers"
      ],
      "metadata": {
        "colab": {
          "base_uri": "https://localhost:8080/"
        },
        "id": "XM3EL-gCuNOp",
        "outputId": "c2359e4a-52cd-4807-a025-4c7b9084db9f"
      },
      "execution_count": null,
      "outputs": [
        {
          "output_type": "execute_result",
          "data": {
            "text/plain": [
              "[<keras.layers.core.dense.Dense at 0x7fc248fe73d0>,\n",
              " <keras.layers.regularization.dropout.Dropout at 0x7fc248117370>,\n",
              " <keras.layers.core.dense.Dense at 0x7fc1bdaf3cd0>,\n",
              " <keras.layers.core.dense.Dense at 0x7fc1bdaf3c10>]"
            ]
          },
          "metadata": {},
          "execution_count": 27
        }
      ]
    },
    {
      "cell_type": "code",
      "metadata": {
        "id": "uxhunj5-OyNN",
        "colab": {
          "base_uri": "https://localhost:8080/"
        },
        "outputId": "273efeb7-9a08-40fb-974a-a731a1bfe81d"
      },
      "source": [
        "from tensorflow.keras import backend as K\n",
        "from tensorflow.keras.models import Model\n",
        "\n",
        "# defining the model's input\n",
        "inp = model.input              \n",
        "# printing all the outputs of the models (layerwise)                         \n",
        "outputs = [layer.output for layer in model.layers]\n",
        "print(outputs)"
      ],
      "execution_count": null,
      "outputs": [
        {
          "output_type": "stream",
          "name": "stdout",
          "text": [
            "[<KerasTensor: shape=(None, 1024) dtype=float32 (created by layer 'dense')>, <KerasTensor: shape=(None, 1024) dtype=float32 (created by layer 'dropout')>, <KerasTensor: shape=(None, 1024) dtype=float32 (created by layer 'dense_1')>, <KerasTensor: shape=(None, 10) dtype=float32 (created by layer 'dense_2')>]\n"
          ]
        }
      ]
    },
    {
      "cell_type": "markdown",
      "metadata": {
        "id": "o9m5_reZQQnz"
      },
      "source": [
        "We define two submodels, which has outputs of specific layers:"
      ]
    },
    {
      "cell_type": "code",
      "metadata": {
        "id": "WGLFa8esPMg0"
      },
      "source": [
        "submodel_1 = Model(inp, outputs[0])\n",
        "submodel_2 = Model(inp, outputs[1])"
      ],
      "execution_count": null,
      "outputs": []
    },
    {
      "cell_type": "markdown",
      "metadata": {
        "id": "F7rkonUEQeOC"
      },
      "source": [
        "Next, we make a prediction with 500 test samples:"
      ]
    },
    {
      "cell_type": "code",
      "metadata": {
        "id": "zwObXeDIQlkU"
      },
      "source": [
        "X_test500 = X_test[:500]\n",
        "Y_test500 = Y_test[:500]"
      ],
      "execution_count": null,
      "outputs": []
    },
    {
      "cell_type": "code",
      "metadata": {
        "id": "fgMafl5uQltr",
        "colab": {
          "base_uri": "https://localhost:8080/"
        },
        "outputId": "f8265d88-cf13-4a17-c074-85db892cb0bd"
      },
      "source": [
        "pred_1 = submodel_1.predict(X_test500)\n",
        "pred_2 = submodel_2.predict(X_test500)"
      ],
      "execution_count": null,
      "outputs": [
        {
          "output_type": "stream",
          "name": "stdout",
          "text": [
            "16/16 [==============================] - 0s 1ms/step\n",
            "16/16 [==============================] - 0s 1ms/step\n"
          ]
        }
      ]
    },
    {
      "cell_type": "code",
      "source": [
        "pred_1.shape, pred_2.shape"
      ],
      "metadata": {
        "colab": {
          "base_uri": "https://localhost:8080/"
        },
        "id": "wGsxTFU3us_M",
        "outputId": "91d11735-0c97-4ec7-c754-f8dcba3af2f8"
      },
      "execution_count": null,
      "outputs": [
        {
          "output_type": "execute_result",
          "data": {
            "text/plain": [
              "((500, 1024), (500, 1024))"
            ]
          },
          "metadata": {},
          "execution_count": 32
        }
      ]
    },
    {
      "cell_type": "markdown",
      "metadata": {
        "id": "_SeG4rjBRWQU"
      },
      "source": [
        "As a next step we write the raw data, and the layer activations for these raw data to TensorBoard. We use the TensorBoardX module, which we need to install (if not installed):"
      ]
    },
    {
      "cell_type": "code",
      "metadata": {
        "id": "VJP4YO1VQMgu",
        "colab": {
          "base_uri": "https://localhost:8080/"
        },
        "outputId": "c706c725-b399-4206-d181-2f337c63cae2"
      },
      "source": [
        "!pip install tensorboardX"
      ],
      "execution_count": null,
      "outputs": [
        {
          "output_type": "stream",
          "name": "stdout",
          "text": [
            "Looking in indexes: https://pypi.org/simple, https://us-python.pkg.dev/colab-wheels/public/simple/\n",
            "Collecting tensorboardX\n",
            "  Downloading tensorboardX-2.6-py2.py3-none-any.whl (114 kB)\n",
            "\u001b[2K     \u001b[90m━━━━━━━━━━━━━━━━━━━━━━━━━━━━━━━━━━━━━━━\u001b[0m \u001b[32m114.5/114.5 KB\u001b[0m \u001b[31m4.8 MB/s\u001b[0m eta \u001b[36m0:00:00\u001b[0m\n",
            "\u001b[?25hRequirement already satisfied: packaging in /usr/local/lib/python3.9/dist-packages (from tensorboardX) (23.0)\n",
            "Requirement already satisfied: protobuf<4,>=3.8.0 in /usr/local/lib/python3.9/dist-packages (from tensorboardX) (3.19.6)\n",
            "Requirement already satisfied: numpy in /usr/local/lib/python3.9/dist-packages (from tensorboardX) (1.22.4)\n",
            "Installing collected packages: tensorboardX\n",
            "Successfully installed tensorboardX-2.6\n"
          ]
        }
      ]
    },
    {
      "cell_type": "code",
      "source": [
        "original_test_imgs500 = (mean.reshape(32,32,3)+std.reshape(32,32,3)*X_test500.reshape(500,32,32,3)).astype(int)/255.0"
      ],
      "metadata": {
        "id": "sE1B9CGjEfT7"
      },
      "execution_count": null,
      "outputs": []
    },
    {
      "cell_type": "code",
      "source": [
        "np.argmax(Y_test500,1).shape"
      ],
      "metadata": {
        "id": "9bwu-rROuWic",
        "colab": {
          "base_uri": "https://localhost:8080/"
        },
        "outputId": "fdac0adc-df5a-412b-eeaa-f5ecec1c2921"
      },
      "execution_count": null,
      "outputs": [
        {
          "output_type": "execute_result",
          "data": {
            "text/plain": [
              "(500,)"
            ]
          },
          "metadata": {},
          "execution_count": 36
        }
      ]
    },
    {
      "cell_type": "code",
      "metadata": {
        "id": "J_xv3kimRsnL"
      },
      "source": [
        "logdir = 'logs/'\n",
        "from tensorboardX import SummaryWriter\n",
        "\n",
        "with SummaryWriter(logdir+'/projector/raw_data') as w:\n",
        "  w.add_embedding(X_test500, metadata=np.argmax(Y_test500,1).reshape(-1,1), label_img=original_test_imgs500.transpose(0,3,1,2), global_step=0)\n",
        "\n",
        "with SummaryWriter(logdir+'/projector/submodel_1') as w:\n",
        "  w.add_embedding(pred_1, metadata=np.argmax(Y_test500,1).reshape(-1,1), label_img=original_test_imgs500.transpose(0,3,1,2), global_step=0)\n",
        "\n",
        "with SummaryWriter(logdir+'/projector/submodel_2') as w:\n",
        "  w.add_embedding(pred_2, metadata=np.argmax(Y_test500,1).reshape(-1,1), label_img=original_test_imgs500.transpose(0,3,1,2), global_step=0)\n"
      ],
      "execution_count": null,
      "outputs": []
    },
    {
      "cell_type": "markdown",
      "metadata": {
        "id": "1SWP0pvcSlBT"
      },
      "source": [
        "As a last step, lets inspect the results with TensorBoard Projector. If the Projector menu doesn't apper, then select it from the \"Inactive\" menu:"
      ]
    },
    {
      "cell_type": "code",
      "metadata": {
        "id": "fzDS7Qs4SdR8",
        "colab": {
          "base_uri": "https://localhost:8080/"
        },
        "outputId": "3f9a5d23-be9e-4822-85ed-825b95f2b0e4"
      },
      "source": [
        "%load_ext tensorboard"
      ],
      "execution_count": null,
      "outputs": [
        {
          "output_type": "stream",
          "name": "stdout",
          "text": [
            "The tensorboard extension is already loaded. To reload it, use:\n",
            "  %reload_ext tensorboard\n"
          ]
        }
      ]
    },
    {
      "cell_type": "code",
      "source": [
        "#!rm logs -r"
      ],
      "metadata": {
        "id": "2qzHC4fxJJM7"
      },
      "execution_count": null,
      "outputs": []
    },
    {
      "cell_type": "code",
      "metadata": {
        "id": "nqkBZf00Sp4a"
      },
      "source": [
        "%tensorboard --logdir logs"
      ],
      "execution_count": null,
      "outputs": []
    },
    {
      "cell_type": "markdown",
      "source": [
        "# Exercise\n",
        "Train a convolutional neural network on CIFAR-10 (eg. the one you submitted), produce the activations of the last layer before the output layer for the same 500 images, and inspect the vectors with t-SNE and UMAP."
      ],
      "metadata": {
        "id": "sd36zfl7yI06"
      }
    },
    {
      "cell_type": "code",
      "source": [
        "#06-ban"
      ],
      "metadata": {
        "id": "Zo8xUDSEyQNB"
      },
      "execution_count": null,
      "outputs": []
    }
  ]
}