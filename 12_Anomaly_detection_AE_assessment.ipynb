{
  "nbformat": 4,
  "nbformat_minor": 0,
  "metadata": {
    "accelerator": "GPU",
    "colab": {
      "provenance": [],
      "include_colab_link": true
    },
    "kernelspec": {
      "display_name": "Python 3",
      "language": "python",
      "name": "python3"
    },
    "language_info": {
      "codemirror_mode": {
        "name": "ipython",
        "version": 3
      },
      "file_extension": ".py",
      "mimetype": "text/x-python",
      "name": "python",
      "nbconvert_exporter": "python",
      "pygments_lexer": "ipython3",
      "version": "3.6.6"
    }
  },
  "cells": [
    {
      "cell_type": "markdown",
      "metadata": {
        "id": "view-in-github",
        "colab_type": "text"
      },
      "source": [
        "<a href=\"https://colab.research.google.com/github/lacykaltgr/ait-assessments/blob/main/12_Anomaly_detection_AE_assessment.ipynb\" target=\"_parent\"><img src=\"https://colab.research.google.com/assets/colab-badge.svg\" alt=\"Open In Colab\"/></a>"
      ]
    },
    {
      "cell_type": "markdown",
      "metadata": {
        "id": "_gEG4uwkDgAB"
      },
      "source": [
        "## Anomaly detection with autoencoders\n",
        "\n",
        "In this notebook we you have to create a fully-connected neural network based autoencoder in order to detect credit card frauds. In the dataset there are 492 labeled frauds and 284807 normal transactions. First, let's download the dataset and unpack it (original source of the dataset: https://www.kaggle.com/mlg-ulb/creditcardfraud - before downloading the data please read and accept the licence of the original datasource):"
      ]
    },
    {
      "cell_type": "code",
      "metadata": {
        "id": "x5rudWIupy4i",
        "colab": {
          "base_uri": "https://localhost:8080/"
        },
        "outputId": "9dfb8f54-7564-4b1d-cdd5-b9431cafe92a"
      },
      "source": [
        "!wget https://www.deeplearningoktatas.hu/downloads/Anomaly/creditcardfraud.zip"
      ],
      "execution_count": 1,
      "outputs": [
        {
          "output_type": "stream",
          "name": "stdout",
          "text": [
            "--2023-05-08 18:26:11--  https://www.deeplearningoktatas.hu/downloads/Anomaly/creditcardfraud.zip\n",
            "Resolving www.deeplearningoktatas.hu (www.deeplearningoktatas.hu)... 91.227.138.51\n",
            "Connecting to www.deeplearningoktatas.hu (www.deeplearningoktatas.hu)|91.227.138.51|:443... connected.\n",
            "HTTP request sent, awaiting response... 200 OK\n",
            "Length: 69155632 (66M) [application/zip]\n",
            "Saving to: ‘creditcardfraud.zip’\n",
            "\n",
            "creditcardfraud.zip 100%[===================>]  65.95M  70.3MB/s    in 0.9s    \n",
            "\n",
            "2023-05-08 18:26:12 (70.3 MB/s) - ‘creditcardfraud.zip’ saved [69155632/69155632]\n",
            "\n"
          ]
        }
      ]
    },
    {
      "cell_type": "code",
      "metadata": {
        "id": "GUpEkrcQyxj7"
      },
      "source": [
        "%%capture\n",
        "!unzip creditcardfraud.zip"
      ],
      "execution_count": 2,
      "outputs": []
    },
    {
      "cell_type": "markdown",
      "metadata": {
        "id": "TwHyNENGEfd8"
      },
      "source": [
        "## Imports\n",
        "Import the necessary modules:"
      ]
    },
    {
      "cell_type": "code",
      "metadata": {
        "id": "Vqrc2eO1reot"
      },
      "source": [
        "import pandas as pd # \n",
        "import numpy as np\n",
        "import matplotlib.pyplot as plt\n",
        "from tensorflow.keras.models import Sequential, load_model\n",
        "from tensorflow.keras.layers import Dense, Dropout, Activation\n",
        "from tensorflow.keras.callbacks import EarlyStopping, ModelCheckpoint\n",
        "from tensorflow.keras.optimizers import SGD\n",
        "from tensorflow.keras import regularizers\n",
        "from sklearn import preprocessing \n",
        "from sklearn.metrics import mean_squared_error\n",
        "np.random.seed(123)"
      ],
      "execution_count": 3,
      "outputs": []
    },
    {
      "cell_type": "markdown",
      "source": [
        "## Exercise 1: Reading and preparing the data\n",
        "Read the creditcard.csv into a Pandas Dataframe with the [read_csv](https://pandas.pydata.org/docs/reference/api/pandas.read_csv.html) function. "
      ],
      "metadata": {
        "id": "1eDKL0n98aP-"
      }
    },
    {
      "cell_type": "code",
      "metadata": {
        "id": "RWON-DgYrhFQ"
      },
      "source": [
        "df = pd.read_csv('creditcard.csv')"
      ],
      "execution_count": 5,
      "outputs": []
    },
    {
      "cell_type": "code",
      "source": [
        "df.describe()"
      ],
      "metadata": {
        "colab": {
          "base_uri": "https://localhost:8080/",
          "height": 394
        },
        "id": "FYuVt0b8nrzG",
        "outputId": "0d675ea5-2560-42b7-bc6c-22938d88d7ea"
      },
      "execution_count": 7,
      "outputs": [
        {
          "output_type": "execute_result",
          "data": {
            "text/plain": [
              "                Time            V1            V2            V3            V4  \\\n",
              "count  284807.000000  2.848070e+05  2.848070e+05  2.848070e+05  2.848070e+05   \n",
              "mean    94813.859575  1.168375e-15  3.416908e-16 -1.379537e-15  2.074095e-15   \n",
              "std     47488.145955  1.958696e+00  1.651309e+00  1.516255e+00  1.415869e+00   \n",
              "min         0.000000 -5.640751e+01 -7.271573e+01 -4.832559e+01 -5.683171e+00   \n",
              "25%     54201.500000 -9.203734e-01 -5.985499e-01 -8.903648e-01 -8.486401e-01   \n",
              "50%     84692.000000  1.810880e-02  6.548556e-02  1.798463e-01 -1.984653e-02   \n",
              "75%    139320.500000  1.315642e+00  8.037239e-01  1.027196e+00  7.433413e-01   \n",
              "max    172792.000000  2.454930e+00  2.205773e+01  9.382558e+00  1.687534e+01   \n",
              "\n",
              "                 V5            V6            V7            V8            V9  \\\n",
              "count  2.848070e+05  2.848070e+05  2.848070e+05  2.848070e+05  2.848070e+05   \n",
              "mean   9.604066e-16  1.487313e-15 -5.556467e-16  1.213481e-16 -2.406331e-15   \n",
              "std    1.380247e+00  1.332271e+00  1.237094e+00  1.194353e+00  1.098632e+00   \n",
              "min   -1.137433e+02 -2.616051e+01 -4.355724e+01 -7.321672e+01 -1.343407e+01   \n",
              "25%   -6.915971e-01 -7.682956e-01 -5.540759e-01 -2.086297e-01 -6.430976e-01   \n",
              "50%   -5.433583e-02 -2.741871e-01  4.010308e-02  2.235804e-02 -5.142873e-02   \n",
              "75%    6.119264e-01  3.985649e-01  5.704361e-01  3.273459e-01  5.971390e-01   \n",
              "max    3.480167e+01  7.330163e+01  1.205895e+02  2.000721e+01  1.559499e+01   \n",
              "\n",
              "       ...           V21           V22           V23           V24  \\\n",
              "count  ...  2.848070e+05  2.848070e+05  2.848070e+05  2.848070e+05   \n",
              "mean   ...  1.654067e-16 -3.568593e-16  2.578648e-16  4.473266e-15   \n",
              "std    ...  7.345240e-01  7.257016e-01  6.244603e-01  6.056471e-01   \n",
              "min    ... -3.483038e+01 -1.093314e+01 -4.480774e+01 -2.836627e+00   \n",
              "25%    ... -2.283949e-01 -5.423504e-01 -1.618463e-01 -3.545861e-01   \n",
              "50%    ... -2.945017e-02  6.781943e-03 -1.119293e-02  4.097606e-02   \n",
              "75%    ...  1.863772e-01  5.285536e-01  1.476421e-01  4.395266e-01   \n",
              "max    ...  2.720284e+01  1.050309e+01  2.252841e+01  4.584549e+00   \n",
              "\n",
              "                V25           V26           V27           V28         Amount  \\\n",
              "count  2.848070e+05  2.848070e+05  2.848070e+05  2.848070e+05  284807.000000   \n",
              "mean   5.340915e-16  1.683437e-15 -3.660091e-16 -1.227390e-16      88.349619   \n",
              "std    5.212781e-01  4.822270e-01  4.036325e-01  3.300833e-01     250.120109   \n",
              "min   -1.029540e+01 -2.604551e+00 -2.256568e+01 -1.543008e+01       0.000000   \n",
              "25%   -3.171451e-01 -3.269839e-01 -7.083953e-02 -5.295979e-02       5.600000   \n",
              "50%    1.659350e-02 -5.213911e-02  1.342146e-03  1.124383e-02      22.000000   \n",
              "75%    3.507156e-01  2.409522e-01  9.104512e-02  7.827995e-02      77.165000   \n",
              "max    7.519589e+00  3.517346e+00  3.161220e+01  3.384781e+01   25691.160000   \n",
              "\n",
              "               Class  \n",
              "count  284807.000000  \n",
              "mean        0.001727  \n",
              "std         0.041527  \n",
              "min         0.000000  \n",
              "25%         0.000000  \n",
              "50%         0.000000  \n",
              "75%         0.000000  \n",
              "max         1.000000  \n",
              "\n",
              "[8 rows x 31 columns]"
            ],
            "text/html": [
              "\n",
              "  <div id=\"df-a415ecea-9318-4e6e-9190-d125bc548786\">\n",
              "    <div class=\"colab-df-container\">\n",
              "      <div>\n",
              "<style scoped>\n",
              "    .dataframe tbody tr th:only-of-type {\n",
              "        vertical-align: middle;\n",
              "    }\n",
              "\n",
              "    .dataframe tbody tr th {\n",
              "        vertical-align: top;\n",
              "    }\n",
              "\n",
              "    .dataframe thead th {\n",
              "        text-align: right;\n",
              "    }\n",
              "</style>\n",
              "<table border=\"1\" class=\"dataframe\">\n",
              "  <thead>\n",
              "    <tr style=\"text-align: right;\">\n",
              "      <th></th>\n",
              "      <th>Time</th>\n",
              "      <th>V1</th>\n",
              "      <th>V2</th>\n",
              "      <th>V3</th>\n",
              "      <th>V4</th>\n",
              "      <th>V5</th>\n",
              "      <th>V6</th>\n",
              "      <th>V7</th>\n",
              "      <th>V8</th>\n",
              "      <th>V9</th>\n",
              "      <th>...</th>\n",
              "      <th>V21</th>\n",
              "      <th>V22</th>\n",
              "      <th>V23</th>\n",
              "      <th>V24</th>\n",
              "      <th>V25</th>\n",
              "      <th>V26</th>\n",
              "      <th>V27</th>\n",
              "      <th>V28</th>\n",
              "      <th>Amount</th>\n",
              "      <th>Class</th>\n",
              "    </tr>\n",
              "  </thead>\n",
              "  <tbody>\n",
              "    <tr>\n",
              "      <th>count</th>\n",
              "      <td>284807.000000</td>\n",
              "      <td>2.848070e+05</td>\n",
              "      <td>2.848070e+05</td>\n",
              "      <td>2.848070e+05</td>\n",
              "      <td>2.848070e+05</td>\n",
              "      <td>2.848070e+05</td>\n",
              "      <td>2.848070e+05</td>\n",
              "      <td>2.848070e+05</td>\n",
              "      <td>2.848070e+05</td>\n",
              "      <td>2.848070e+05</td>\n",
              "      <td>...</td>\n",
              "      <td>2.848070e+05</td>\n",
              "      <td>2.848070e+05</td>\n",
              "      <td>2.848070e+05</td>\n",
              "      <td>2.848070e+05</td>\n",
              "      <td>2.848070e+05</td>\n",
              "      <td>2.848070e+05</td>\n",
              "      <td>2.848070e+05</td>\n",
              "      <td>2.848070e+05</td>\n",
              "      <td>284807.000000</td>\n",
              "      <td>284807.000000</td>\n",
              "    </tr>\n",
              "    <tr>\n",
              "      <th>mean</th>\n",
              "      <td>94813.859575</td>\n",
              "      <td>1.168375e-15</td>\n",
              "      <td>3.416908e-16</td>\n",
              "      <td>-1.379537e-15</td>\n",
              "      <td>2.074095e-15</td>\n",
              "      <td>9.604066e-16</td>\n",
              "      <td>1.487313e-15</td>\n",
              "      <td>-5.556467e-16</td>\n",
              "      <td>1.213481e-16</td>\n",
              "      <td>-2.406331e-15</td>\n",
              "      <td>...</td>\n",
              "      <td>1.654067e-16</td>\n",
              "      <td>-3.568593e-16</td>\n",
              "      <td>2.578648e-16</td>\n",
              "      <td>4.473266e-15</td>\n",
              "      <td>5.340915e-16</td>\n",
              "      <td>1.683437e-15</td>\n",
              "      <td>-3.660091e-16</td>\n",
              "      <td>-1.227390e-16</td>\n",
              "      <td>88.349619</td>\n",
              "      <td>0.001727</td>\n",
              "    </tr>\n",
              "    <tr>\n",
              "      <th>std</th>\n",
              "      <td>47488.145955</td>\n",
              "      <td>1.958696e+00</td>\n",
              "      <td>1.651309e+00</td>\n",
              "      <td>1.516255e+00</td>\n",
              "      <td>1.415869e+00</td>\n",
              "      <td>1.380247e+00</td>\n",
              "      <td>1.332271e+00</td>\n",
              "      <td>1.237094e+00</td>\n",
              "      <td>1.194353e+00</td>\n",
              "      <td>1.098632e+00</td>\n",
              "      <td>...</td>\n",
              "      <td>7.345240e-01</td>\n",
              "      <td>7.257016e-01</td>\n",
              "      <td>6.244603e-01</td>\n",
              "      <td>6.056471e-01</td>\n",
              "      <td>5.212781e-01</td>\n",
              "      <td>4.822270e-01</td>\n",
              "      <td>4.036325e-01</td>\n",
              "      <td>3.300833e-01</td>\n",
              "      <td>250.120109</td>\n",
              "      <td>0.041527</td>\n",
              "    </tr>\n",
              "    <tr>\n",
              "      <th>min</th>\n",
              "      <td>0.000000</td>\n",
              "      <td>-5.640751e+01</td>\n",
              "      <td>-7.271573e+01</td>\n",
              "      <td>-4.832559e+01</td>\n",
              "      <td>-5.683171e+00</td>\n",
              "      <td>-1.137433e+02</td>\n",
              "      <td>-2.616051e+01</td>\n",
              "      <td>-4.355724e+01</td>\n",
              "      <td>-7.321672e+01</td>\n",
              "      <td>-1.343407e+01</td>\n",
              "      <td>...</td>\n",
              "      <td>-3.483038e+01</td>\n",
              "      <td>-1.093314e+01</td>\n",
              "      <td>-4.480774e+01</td>\n",
              "      <td>-2.836627e+00</td>\n",
              "      <td>-1.029540e+01</td>\n",
              "      <td>-2.604551e+00</td>\n",
              "      <td>-2.256568e+01</td>\n",
              "      <td>-1.543008e+01</td>\n",
              "      <td>0.000000</td>\n",
              "      <td>0.000000</td>\n",
              "    </tr>\n",
              "    <tr>\n",
              "      <th>25%</th>\n",
              "      <td>54201.500000</td>\n",
              "      <td>-9.203734e-01</td>\n",
              "      <td>-5.985499e-01</td>\n",
              "      <td>-8.903648e-01</td>\n",
              "      <td>-8.486401e-01</td>\n",
              "      <td>-6.915971e-01</td>\n",
              "      <td>-7.682956e-01</td>\n",
              "      <td>-5.540759e-01</td>\n",
              "      <td>-2.086297e-01</td>\n",
              "      <td>-6.430976e-01</td>\n",
              "      <td>...</td>\n",
              "      <td>-2.283949e-01</td>\n",
              "      <td>-5.423504e-01</td>\n",
              "      <td>-1.618463e-01</td>\n",
              "      <td>-3.545861e-01</td>\n",
              "      <td>-3.171451e-01</td>\n",
              "      <td>-3.269839e-01</td>\n",
              "      <td>-7.083953e-02</td>\n",
              "      <td>-5.295979e-02</td>\n",
              "      <td>5.600000</td>\n",
              "      <td>0.000000</td>\n",
              "    </tr>\n",
              "    <tr>\n",
              "      <th>50%</th>\n",
              "      <td>84692.000000</td>\n",
              "      <td>1.810880e-02</td>\n",
              "      <td>6.548556e-02</td>\n",
              "      <td>1.798463e-01</td>\n",
              "      <td>-1.984653e-02</td>\n",
              "      <td>-5.433583e-02</td>\n",
              "      <td>-2.741871e-01</td>\n",
              "      <td>4.010308e-02</td>\n",
              "      <td>2.235804e-02</td>\n",
              "      <td>-5.142873e-02</td>\n",
              "      <td>...</td>\n",
              "      <td>-2.945017e-02</td>\n",
              "      <td>6.781943e-03</td>\n",
              "      <td>-1.119293e-02</td>\n",
              "      <td>4.097606e-02</td>\n",
              "      <td>1.659350e-02</td>\n",
              "      <td>-5.213911e-02</td>\n",
              "      <td>1.342146e-03</td>\n",
              "      <td>1.124383e-02</td>\n",
              "      <td>22.000000</td>\n",
              "      <td>0.000000</td>\n",
              "    </tr>\n",
              "    <tr>\n",
              "      <th>75%</th>\n",
              "      <td>139320.500000</td>\n",
              "      <td>1.315642e+00</td>\n",
              "      <td>8.037239e-01</td>\n",
              "      <td>1.027196e+00</td>\n",
              "      <td>7.433413e-01</td>\n",
              "      <td>6.119264e-01</td>\n",
              "      <td>3.985649e-01</td>\n",
              "      <td>5.704361e-01</td>\n",
              "      <td>3.273459e-01</td>\n",
              "      <td>5.971390e-01</td>\n",
              "      <td>...</td>\n",
              "      <td>1.863772e-01</td>\n",
              "      <td>5.285536e-01</td>\n",
              "      <td>1.476421e-01</td>\n",
              "      <td>4.395266e-01</td>\n",
              "      <td>3.507156e-01</td>\n",
              "      <td>2.409522e-01</td>\n",
              "      <td>9.104512e-02</td>\n",
              "      <td>7.827995e-02</td>\n",
              "      <td>77.165000</td>\n",
              "      <td>0.000000</td>\n",
              "    </tr>\n",
              "    <tr>\n",
              "      <th>max</th>\n",
              "      <td>172792.000000</td>\n",
              "      <td>2.454930e+00</td>\n",
              "      <td>2.205773e+01</td>\n",
              "      <td>9.382558e+00</td>\n",
              "      <td>1.687534e+01</td>\n",
              "      <td>3.480167e+01</td>\n",
              "      <td>7.330163e+01</td>\n",
              "      <td>1.205895e+02</td>\n",
              "      <td>2.000721e+01</td>\n",
              "      <td>1.559499e+01</td>\n",
              "      <td>...</td>\n",
              "      <td>2.720284e+01</td>\n",
              "      <td>1.050309e+01</td>\n",
              "      <td>2.252841e+01</td>\n",
              "      <td>4.584549e+00</td>\n",
              "      <td>7.519589e+00</td>\n",
              "      <td>3.517346e+00</td>\n",
              "      <td>3.161220e+01</td>\n",
              "      <td>3.384781e+01</td>\n",
              "      <td>25691.160000</td>\n",
              "      <td>1.000000</td>\n",
              "    </tr>\n",
              "  </tbody>\n",
              "</table>\n",
              "<p>8 rows × 31 columns</p>\n",
              "</div>\n",
              "      <button class=\"colab-df-convert\" onclick=\"convertToInteractive('df-a415ecea-9318-4e6e-9190-d125bc548786')\"\n",
              "              title=\"Convert this dataframe to an interactive table.\"\n",
              "              style=\"display:none;\">\n",
              "        \n",
              "  <svg xmlns=\"http://www.w3.org/2000/svg\" height=\"24px\"viewBox=\"0 0 24 24\"\n",
              "       width=\"24px\">\n",
              "    <path d=\"M0 0h24v24H0V0z\" fill=\"none\"/>\n",
              "    <path d=\"M18.56 5.44l.94 2.06.94-2.06 2.06-.94-2.06-.94-.94-2.06-.94 2.06-2.06.94zm-11 1L8.5 8.5l.94-2.06 2.06-.94-2.06-.94L8.5 2.5l-.94 2.06-2.06.94zm10 10l.94 2.06.94-2.06 2.06-.94-2.06-.94-.94-2.06-.94 2.06-2.06.94z\"/><path d=\"M17.41 7.96l-1.37-1.37c-.4-.4-.92-.59-1.43-.59-.52 0-1.04.2-1.43.59L10.3 9.45l-7.72 7.72c-.78.78-.78 2.05 0 2.83L4 21.41c.39.39.9.59 1.41.59.51 0 1.02-.2 1.41-.59l7.78-7.78 2.81-2.81c.8-.78.8-2.07 0-2.86zM5.41 20L4 18.59l7.72-7.72 1.47 1.35L5.41 20z\"/>\n",
              "  </svg>\n",
              "      </button>\n",
              "      \n",
              "  <style>\n",
              "    .colab-df-container {\n",
              "      display:flex;\n",
              "      flex-wrap:wrap;\n",
              "      gap: 12px;\n",
              "    }\n",
              "\n",
              "    .colab-df-convert {\n",
              "      background-color: #E8F0FE;\n",
              "      border: none;\n",
              "      border-radius: 50%;\n",
              "      cursor: pointer;\n",
              "      display: none;\n",
              "      fill: #1967D2;\n",
              "      height: 32px;\n",
              "      padding: 0 0 0 0;\n",
              "      width: 32px;\n",
              "    }\n",
              "\n",
              "    .colab-df-convert:hover {\n",
              "      background-color: #E2EBFA;\n",
              "      box-shadow: 0px 1px 2px rgba(60, 64, 67, 0.3), 0px 1px 3px 1px rgba(60, 64, 67, 0.15);\n",
              "      fill: #174EA6;\n",
              "    }\n",
              "\n",
              "    [theme=dark] .colab-df-convert {\n",
              "      background-color: #3B4455;\n",
              "      fill: #D2E3FC;\n",
              "    }\n",
              "\n",
              "    [theme=dark] .colab-df-convert:hover {\n",
              "      background-color: #434B5C;\n",
              "      box-shadow: 0px 1px 3px 1px rgba(0, 0, 0, 0.15);\n",
              "      filter: drop-shadow(0px 1px 2px rgba(0, 0, 0, 0.3));\n",
              "      fill: #FFFFFF;\n",
              "    }\n",
              "  </style>\n",
              "\n",
              "      <script>\n",
              "        const buttonEl =\n",
              "          document.querySelector('#df-a415ecea-9318-4e6e-9190-d125bc548786 button.colab-df-convert');\n",
              "        buttonEl.style.display =\n",
              "          google.colab.kernel.accessAllowed ? 'block' : 'none';\n",
              "\n",
              "        async function convertToInteractive(key) {\n",
              "          const element = document.querySelector('#df-a415ecea-9318-4e6e-9190-d125bc548786');\n",
              "          const dataTable =\n",
              "            await google.colab.kernel.invokeFunction('convertToInteractive',\n",
              "                                                     [key], {});\n",
              "          if (!dataTable) return;\n",
              "\n",
              "          const docLinkHtml = 'Like what you see? Visit the ' +\n",
              "            '<a target=\"_blank\" href=https://colab.research.google.com/notebooks/data_table.ipynb>data table notebook</a>'\n",
              "            + ' to learn more about interactive tables.';\n",
              "          element.innerHTML = '';\n",
              "          dataTable['output_type'] = 'display_data';\n",
              "          await google.colab.output.renderOutput(dataTable, element);\n",
              "          const docLink = document.createElement('div');\n",
              "          docLink.innerHTML = docLinkHtml;\n",
              "          element.appendChild(docLink);\n",
              "        }\n",
              "      </script>\n",
              "    </div>\n",
              "  </div>\n",
              "  "
            ]
          },
          "metadata": {},
          "execution_count": 7
        }
      ]
    },
    {
      "cell_type": "markdown",
      "metadata": {
        "id": "UIFxgcDDEk9l"
      },
      "source": [
        "As the next step, select all the columns of the dataframe for the input X, but the \"Class\" column. And select the \"Class\" column for output Y. Make sure that both X and Y are two dimensional Numpy arrays. \n",
        "\n",
        "Hint:\n",
        "* you can use df.loc to select rows and columns from a dataframe\n",
        "* you can get the Numpy array of a Pandas object with .values, eg. df['myfeature'].values"
      ]
    },
    {
      "cell_type": "code",
      "metadata": {
        "id": "3N_1wNixrqRQ"
      },
      "source": [
        "X = df.drop(\"Class\", axis=1)\n",
        "Y = df[\"Class\"]"
      ],
      "execution_count": 43,
      "outputs": []
    },
    {
      "cell_type": "code",
      "source": [
        "print(\"Shape of X:\",X.shape)\n",
        "print(\"Shape of Y:\",Y.shape)"
      ],
      "metadata": {
        "id": "oxBkuXVk-zCn",
        "colab": {
          "base_uri": "https://localhost:8080/"
        },
        "outputId": "d10d709f-2389-49bf-aa4d-b9d0e4b2ea29"
      },
      "execution_count": 44,
      "outputs": [
        {
          "output_type": "stream",
          "name": "stdout",
          "text": [
            "Shape of X: (284807, 30)\n",
            "Shape of Y: (284807,)\n"
          ]
        }
      ]
    },
    {
      "cell_type": "markdown",
      "source": [
        "Let's standardize the data:"
      ],
      "metadata": {
        "id": "e89JTdnC9tBO"
      }
    },
    {
      "cell_type": "code",
      "source": [
        "scaler = preprocessing.StandardScaler().fit(X)\n",
        "X = scaler.transform(X)"
      ],
      "metadata": {
        "id": "SVfMPeon9v1W"
      },
      "execution_count": 45,
      "outputs": []
    },
    {
      "cell_type": "markdown",
      "metadata": {
        "id": "dRBJka1AEp_A"
      },
      "source": [
        "## Exercise 2: defining the autoencoder\n",
        "Let's define a model according to the following instructions:\n",
        "* the model's inputs and outputs should be the same as the number of X's features (columns)\n",
        "* the model should have 5 hidden layers, with 16-10-6-10-16 neurons in the hidden layers, respectively\n",
        "* all layers but the output should have tanh activation\n",
        "* the output layer should have linear activation"
      ]
    },
    {
      "cell_type": "code",
      "metadata": {
        "id": "YY4te2L8rthG"
      },
      "source": [
        "model = Sequential()\n",
        "model.add(Dense(16, activation=\"tanh\"))\n",
        "model.add(Dense(10, activation=\"tanh\"))\n",
        "model.add(Dense(6, activation=\"tanh\"))\n",
        "model.add(Dense(10, activation=\"tanh\"))\n",
        "model.add(Dense(16, activation=\"tanh\"))\n",
        "model.add(Dense(X.shape[1], activation=\"linear\"))"
      ],
      "execution_count": 52,
      "outputs": []
    },
    {
      "cell_type": "code",
      "source": [
        "patience = 10\n",
        "es = EarlyStopping(patience=patience, monitor=\"loss\")\n",
        "model.compile(loss = 'mse', optimizer='adam')"
      ],
      "metadata": {
        "id": "YfgvoEnU-9B3"
      },
      "execution_count": 53,
      "outputs": []
    },
    {
      "cell_type": "code",
      "metadata": {
        "id": "0oTvWs8PzZzj",
        "colab": {
          "base_uri": "https://localhost:8080/"
        },
        "outputId": "3dee1b12-71e7-4ab1-83d5-86a00783873e"
      },
      "source": [
        "history= model.fit(X, X, epochs= 100, callbacks=[es])"
      ],
      "execution_count": null,
      "outputs": [
        {
          "output_type": "stream",
          "name": "stdout",
          "text": [
            "Epoch 1/100\n",
            "8901/8901 [==============================] - 34s 4ms/step - loss: 0.7482\n",
            "Epoch 2/100\n",
            "8901/8901 [==============================] - 32s 4ms/step - loss: 0.6395\n",
            "Epoch 3/100\n",
            "8901/8901 [==============================] - 33s 4ms/step - loss: 0.6125\n",
            "Epoch 4/100\n",
            "8901/8901 [==============================] - 32s 4ms/step - loss: 0.6054\n",
            "Epoch 5/100\n",
            "8901/8901 [==============================] - 33s 4ms/step - loss: 0.5929\n",
            "Epoch 6/100\n",
            "8901/8901 [==============================] - 33s 4ms/step - loss: 0.5792\n",
            "Epoch 7/100\n",
            "8901/8901 [==============================] - 32s 4ms/step - loss: 0.5692\n",
            "Epoch 8/100\n",
            "8901/8901 [==============================] - 33s 4ms/step - loss: 0.5533\n",
            "Epoch 9/100\n",
            "8901/8901 [==============================] - 32s 4ms/step - loss: 0.5402\n",
            "Epoch 10/100\n",
            "8901/8901 [==============================] - 32s 4ms/step - loss: 0.5312\n",
            "Epoch 11/100\n",
            "8901/8901 [==============================] - 33s 4ms/step - loss: 0.5192\n",
            "Epoch 12/100\n",
            "8901/8901 [==============================] - 32s 4ms/step - loss: 0.5127\n",
            "Epoch 13/100\n",
            "8901/8901 [==============================] - 33s 4ms/step - loss: 0.5096\n",
            "Epoch 14/100\n",
            "8901/8901 [==============================] - 32s 4ms/step - loss: 0.5072\n",
            "Epoch 15/100\n",
            "8901/8901 [==============================] - 32s 4ms/step - loss: 0.5056\n",
            "Epoch 16/100\n",
            "8901/8901 [==============================] - 33s 4ms/step - loss: 0.5040\n",
            "Epoch 17/100\n",
            "8901/8901 [==============================] - 32s 4ms/step - loss: 0.5029\n",
            "Epoch 18/100\n",
            "8901/8901 [==============================] - 32s 4ms/step - loss: 0.5021\n",
            "Epoch 19/100\n",
            "8901/8901 [==============================] - 32s 4ms/step - loss: 0.5007\n",
            "Epoch 20/100\n",
            "8901/8901 [==============================] - 32s 4ms/step - loss: 0.4998\n",
            "Epoch 21/100\n",
            "8901/8901 [==============================] - 33s 4ms/step - loss: 0.4988\n",
            "Epoch 22/100\n",
            "8901/8901 [==============================] - 32s 4ms/step - loss: 0.4976\n",
            "Epoch 23/100\n",
            "8901/8901 [==============================] - 32s 4ms/step - loss: 0.4980\n",
            "Epoch 24/100\n",
            "8901/8901 [==============================] - 32s 4ms/step - loss: 0.4963\n",
            "Epoch 25/100\n",
            "8901/8901 [==============================] - 32s 4ms/step - loss: 0.4958\n",
            "Epoch 26/100\n",
            "8901/8901 [==============================] - 35s 4ms/step - loss: 0.4939\n",
            "Epoch 27/100\n",
            "8901/8901 [==============================] - 36s 4ms/step - loss: 0.4930\n",
            "Epoch 28/100\n",
            "8901/8901 [==============================] - 34s 4ms/step - loss: 0.4905\n",
            "Epoch 29/100\n",
            "8901/8901 [==============================] - 33s 4ms/step - loss: 0.4881\n",
            "Epoch 30/100\n",
            "8901/8901 [==============================] - 34s 4ms/step - loss: 0.4872\n",
            "Epoch 31/100\n",
            "8901/8901 [==============================] - 33s 4ms/step - loss: 0.4840\n",
            "Epoch 32/100\n",
            "8901/8901 [==============================] - 33s 4ms/step - loss: 0.4838\n",
            "Epoch 33/100\n",
            "8901/8901 [==============================] - 34s 4ms/step - loss: 0.4825\n",
            "Epoch 34/100\n",
            "8901/8901 [==============================] - 34s 4ms/step - loss: 0.4817\n",
            "Epoch 35/100\n",
            "8901/8901 [==============================] - 33s 4ms/step - loss: 0.4800\n",
            "Epoch 36/100\n",
            "8901/8901 [==============================] - 34s 4ms/step - loss: 0.4794\n",
            "Epoch 37/100\n",
            "8901/8901 [==============================] - 34s 4ms/step - loss: 0.4788\n",
            "Epoch 38/100\n",
            "8901/8901 [==============================] - 33s 4ms/step - loss: 0.4773\n",
            "Epoch 39/100\n",
            "8901/8901 [==============================] - 33s 4ms/step - loss: 0.4775\n",
            "Epoch 40/100\n",
            "8901/8901 [==============================] - 34s 4ms/step - loss: 0.4765\n",
            "Epoch 41/100\n",
            "4083/8901 [============>.................] - ETA: 18s - loss: 0.4717"
          ]
        }
      ]
    },
    {
      "cell_type": "markdown",
      "metadata": {
        "id": "X2dyYrSFFCap"
      },
      "source": [
        "## Results analysis \n",
        "After training is done, we make predictions for the complete dataset and inspect the reconstruction loss. Our assumption is that, higher reconstruction loss are more likely to belong to anomalies than lower reconstruciton loss."
      ]
    },
    {
      "cell_type": "code",
      "metadata": {
        "id": "Jc11JrCKr4a2"
      },
      "source": [
        "preds = model.predict(X)\n",
        "errs  = np.square(preds-X)\n",
        "errs  = np.mean(errs,axis=1)"
      ],
      "execution_count": null,
      "outputs": []
    },
    {
      "cell_type": "code",
      "metadata": {
        "id": "qgf6DVTmtR1D"
      },
      "source": [
        "plt.figure(figsize=(16,10))\n",
        "rng = np.arange(len(errs))\n",
        "colors = ['g','r'] # green: normal, red: anomaly\n",
        "for i in [0,1]:\n",
        "    plt.scatter(rng[(Y==i).reshape(-1)], errs[(Y==i).reshape(-1)], color=colors[i])"
      ],
      "execution_count": null,
      "outputs": []
    },
    {
      "cell_type": "code",
      "metadata": {
        "id": "ZLJuuLmdDTXd"
      },
      "source": [
        "Y_cut    = Y[errs<10]\n",
        "errs_cut = errs[errs<10]"
      ],
      "execution_count": null,
      "outputs": []
    },
    {
      "cell_type": "code",
      "metadata": {
        "id": "osgv-hhoDTYM"
      },
      "source": [
        "plt.figure(figsize=(16,10))\n",
        "rng = np.arange(len(errs_cut))\n",
        "colors = ['g','r'] \n",
        "for i in [0,1]:\n",
        "    plt.scatter(rng[(Y_cut==i).reshape(-1)], errs_cut[(Y_cut==i).reshape(-1)], color=colors[i])"
      ],
      "execution_count": null,
      "outputs": []
    },
    {
      "cell_type": "markdown",
      "metadata": {
        "id": "SLQnf_shFOfT"
      },
      "source": [
        "## Exercise 4: finding the right treshold\n",
        "Find a treshold that identifies at least 130 anomalies correctly with as small number of missclassifications of non-anomalies as possible. "
      ]
    },
    {
      "cell_type": "code",
      "metadata": {
        "id": "X63H_qdQr72h"
      },
      "source": [
        "treshold = <TODO>\n",
        "errs_filtered               = errs[errs>treshold]\n",
        "Y_filtered                  = Y[errs>treshold,0]\n",
        "errs_filtered_non_anomalies = errs[errs<=treshold]\n",
        "Y_filtered_non_anomalies    = Y[errs<=treshold,0]\n",
        "\n",
        "print(\"Anomalies in the dataset\") # Y_filtered==1\n",
        "print(\"   predicted as anomaly:\", len(errs_filtered[Y_filtered==1]))\n",
        "print(\"   predicted as non-anomaly: \", len(errs_filtered_non_anomalies[Y_filtered_non_anomalies==1]) )\n",
        "print(\"Non-anomalies in the dataset\") # Y_filtered ==0\n",
        "print(\"   predicted as anomaly:\", len(errs_filtered[Y_filtered==0]))\n",
        "print(\"   predicted as non-anomaly:\", len(errs_filtered_non_anomalies[Y_filtered_non_anomalies==0]) )\n"
      ],
      "execution_count": null,
      "outputs": []
    },
    {
      "cell_type": "markdown",
      "metadata": {
        "id": "dbDOf9DP1tjD"
      },
      "source": [
        "We can also inspect the confusion matrix:"
      ]
    },
    {
      "cell_type": "code",
      "metadata": {
        "id": "7pwadetUDTYm"
      },
      "source": [
        "from sklearn.metrics import confusion_matrix\n",
        "conf=confusion_matrix(Y, errs>treshold)\n",
        "import seaborn as sns\n",
        "sns.heatmap(conf, annot=True, vmax=8000, fmt=\"d\")"
      ],
      "execution_count": null,
      "outputs": []
    }
  ]
}